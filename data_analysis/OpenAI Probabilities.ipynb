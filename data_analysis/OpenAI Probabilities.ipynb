{
 "cells": [
  {
   "cell_type": "code",
   "execution_count": 4,
   "metadata": {},
   "outputs": [],
   "source": [
    "import os\n",
    "import openai\n",
    "import pandas as pd\n",
    "import numpy as np\n",
    "from tqdm import tqdm\n",
    "import json\n",
    "import time\n",
    "openai.api_key = open(\"openai_api.key\").read()"
   ]
  },
  {
   "cell_type": "code",
   "execution_count": 5,
   "metadata": {},
   "outputs": [],
   "source": [
    "def proc(sent):\n",
    "    if not sent.endswith(\".\") or sent.endswith(\"!\"):  # finish with period\n",
    "        sent += '.'\n",
    "    if not sent[0].isupper():  # start with a capital letter\n",
    "        sent = sent[0].upper() + sent[1:]\n",
    "    return sent\n",
    "\n",
    "def proc_lower(sent):\n",
    "    if not sent.endswith(\".\") or sent.endswith(\"!\"):  # finish with period\n",
    "        sent += '.'\n",
    "    if not sent[0].islower():  # start with a lowercase letter\n",
    "        sent = sent[0].lower() + sent[1:]\n",
    "    return sent\n"
   ]
  },
  {
   "cell_type": "code",
   "execution_count": 6,
   "metadata": {
    "scrolled": true
   },
   "outputs": [
    {
     "data": {
      "text/html": [
       "<div>\n",
       "<style scoped>\n",
       "    .dataframe tbody tr th:only-of-type {\n",
       "        vertical-align: middle;\n",
       "    }\n",
       "\n",
       "    .dataframe tbody tr th {\n",
       "        vertical-align: top;\n",
       "    }\n",
       "\n",
       "    .dataframe thead th {\n",
       "        text-align: right;\n",
       "    }\n",
       "</style>\n",
       "<table border=\"1\" class=\"dataframe\">\n",
       "  <thead>\n",
       "    <tr style=\"text-align: right;\">\n",
       "      <th></th>\n",
       "      <th>id</th>\n",
       "      <th>caption_0</th>\n",
       "      <th>caption_1</th>\n",
       "      <th>tag</th>\n",
       "      <th>secondary_tag</th>\n",
       "      <th>num_main_preds</th>\n",
       "      <th>collapsed_tag</th>\n",
       "    </tr>\n",
       "  </thead>\n",
       "  <tbody>\n",
       "    <tr>\n",
       "      <th>0</th>\n",
       "      <td>0</td>\n",
       "      <td>an old person kisses a young person</td>\n",
       "      <td>a young person kisses an old person</td>\n",
       "      <td>Adjective-Age</td>\n",
       "      <td>NaN</td>\n",
       "      <td>1</td>\n",
       "      <td>Relation</td>\n",
       "    </tr>\n",
       "    <tr>\n",
       "      <th>1</th>\n",
       "      <td>1</td>\n",
       "      <td>the taller person hugs the shorter person</td>\n",
       "      <td>the shorter person hugs the taller person</td>\n",
       "      <td>Adjective-Size</td>\n",
       "      <td>NaN</td>\n",
       "      <td>1</td>\n",
       "      <td>Relation</td>\n",
       "    </tr>\n",
       "    <tr>\n",
       "      <th>2</th>\n",
       "      <td>2</td>\n",
       "      <td>the masked wrestler hits the unmasked wrestler</td>\n",
       "      <td>the unmasked wrestler hits the masked wrestler</td>\n",
       "      <td>Adjective-Manner</td>\n",
       "      <td>Series</td>\n",
       "      <td>1</td>\n",
       "      <td>Relation</td>\n",
       "    </tr>\n",
       "    <tr>\n",
       "      <th>3</th>\n",
       "      <td>3</td>\n",
       "      <td>a person watches an animal</td>\n",
       "      <td>an animal watches a person</td>\n",
       "      <td>Noun</td>\n",
       "      <td>NaN</td>\n",
       "      <td>1</td>\n",
       "      <td>Object</td>\n",
       "    </tr>\n",
       "    <tr>\n",
       "      <th>4</th>\n",
       "      <td>4</td>\n",
       "      <td>the person without earrings pays the person wi...</td>\n",
       "      <td>the person with earrings pays the person witho...</td>\n",
       "      <td>Negation, Scope</td>\n",
       "      <td>Morpheme-Level</td>\n",
       "      <td>1</td>\n",
       "      <td>Relation</td>\n",
       "    </tr>\n",
       "  </tbody>\n",
       "</table>\n",
       "</div>"
      ],
      "text/plain": [
       "   id                                          caption_0  \\\n",
       "0   0                an old person kisses a young person   \n",
       "1   1          the taller person hugs the shorter person   \n",
       "2   2     the masked wrestler hits the unmasked wrestler   \n",
       "3   3                         a person watches an animal   \n",
       "4   4  the person without earrings pays the person wi...   \n",
       "\n",
       "                                           caption_1               tag  \\\n",
       "0                a young person kisses an old person     Adjective-Age   \n",
       "1          the shorter person hugs the taller person    Adjective-Size   \n",
       "2     the unmasked wrestler hits the masked wrestler  Adjective-Manner   \n",
       "3                         an animal watches a person              Noun   \n",
       "4  the person with earrings pays the person witho...   Negation, Scope   \n",
       "\n",
       "    secondary_tag  num_main_preds collapsed_tag  \n",
       "0             NaN               1      Relation  \n",
       "1             NaN               1      Relation  \n",
       "2          Series               1      Relation  \n",
       "3             NaN               1        Object  \n",
       "4  Morpheme-Level               1      Relation  "
      ]
     },
     "execution_count": 6,
     "metadata": {},
     "output_type": "execute_result"
    }
   ],
   "source": [
    "split = \"test\"\n",
    "df = pd.read_csv(f\"../data/winoground_langdata.csv\")\n",
    "#df = df[df.valid==1]\n",
    "df.head()"
   ]
  },
  {
   "cell_type": "code",
   "execution_count": 7,
   "metadata": {},
   "outputs": [],
   "source": [
    "debug_res = {\n",
    "          \"token_logprobs\": [\n",
    "            None,\n",
    "            -8.384926,\n",
    "            -4.6257014,\n",
    "            -1.8492408,\n",
    "            -1.3289777,\n",
    "            -0.03890226,\n",
    "            -1.9416707,\n",
    "            -8.261132,\n",
    "            -0.022355538,\n",
    "            -12.232727,\n",
    "            -0.8997546,\n",
    "            -1.2286589,\n",
    "            -1.8712921,\n",
    "            -3.0148795,\n",
    "            -4.4984546,\n",
    "            -3.436775,\n",
    "            -1.384284\n",
    "          ],\n",
    "          \"tokens\": [\n",
    "            \"an\",\n",
    "            \"old\",\n",
    "            \"person\",\n",
    "            \"kisses\",\n",
    "            \"a\",\n",
    "            \"young\",\n",
    "            \"person\",\n",
    "            \".\"\n",
    "          ],\n",
    "    }"
   ]
  },
  {
   "cell_type": "code",
   "execution_count": 17,
   "metadata": {},
   "outputs": [],
   "source": [
    "import pdb\n",
    "import math\n",
    "model_name = 'debug'\n",
    "\n",
    "\n",
    "def gpt3_zero_shot(model_name, suffix_prompt='', force=False):\n",
    "    assert suffix_prompt == '' or suffix_prompt.startswith(' ')\n",
    "    assert model_name in ['debug', 'ada', 'babbage', 'curie', 'davinci']\n",
    "    json_lines = {}\n",
    "    scores = []\n",
    "    \n",
    "    if not force:\n",
    "        if model_name != 'debug':\n",
    "            response = input(f\"about the spend $$$ on openai API (model {model_name})! conitnue? [y/n]\")\n",
    "            if response.lower() != 'y':\n",
    "                raise Exception(\"Not continuing.\")\n",
    "        else:\n",
    "            print('just debugging. this is free.')\n",
    "\n",
    "    all_results = []\n",
    "    likely_captions = []\n",
    "    for i, line in tqdm(df.iterrows(), total=df.shape[0]):\n",
    "        end1 = line['caption_0']\n",
    "        end2 = line['caption_1']\n",
    "        res_two_endings = []\n",
    "        for j, end in enumerate((end1, end2)):\n",
    "            if model_name == 'debug':\n",
    "                res = debug_res\n",
    "            else:\n",
    "                print(end)\n",
    "                prompt = proc(end) \n",
    "                completion = openai.Completion.create(engine=model_name, prompt=prompt,\n",
    "                                                          max_tokens=0,\n",
    "                                                          temperature=0.0,\n",
    "                                                          logprobs=0,\n",
    "                                                          echo=True,\n",
    "                                                          n=1)\n",
    "                logprobs = completion['choices'][0]['logprobs']\n",
    "                logprob_sum = sum(logprobs[\"token_logprobs\"][1:])\n",
    "                res_two_endings.append(logprob_sum)\n",
    "        if model_name != 'debug':\n",
    "            time.sleep(0.050)  # to prevent RateLimitError\n",
    "        \n",
    "        all_results.append(res_two_endings)\n",
    "        likely_captions.append(res_two_endings.index(min(res_two_endings)))\n",
    "    fname = f\"../data/winoground_logprobs_{model_name}_test.csv\"\n",
    "    df[\"prob_0\"] = [x[0] for x in all_results]\n",
    "    df[\"prob_1\"] = [x[1] for x in all_results]\n",
    "    df[\"likely_caption\"] = likely_captions\n",
    "    df.to_csv(fname, index=False)\n",
    "    assert False\n",
    "    with open(fname, 'w') as f:\n",
    "        f.write('')\n",
    "\n",
    "    with open(fname, 'a') as f:\n",
    "        json.dump(json_lines, f, indent=2)"
   ]
  },
  {
   "cell_type": "code",
   "execution_count": 18,
   "metadata": {},
   "outputs": [
    {
     "name": "stdin",
     "output_type": "stream",
     "text": [
      "about the spend $$$ on openai API (model davinci)! conitnue? [y/n] y\n"
     ]
    },
    {
     "name": "stderr",
     "output_type": "stream",
     "text": [
      "  0%|          | 0/400 [00:00<?, ?it/s]"
     ]
    },
    {
     "name": "stdout",
     "output_type": "stream",
     "text": [
      "an old person kisses a young person\n",
      "a young person kisses an old person\n"
     ]
    },
    {
     "name": "stderr",
     "output_type": "stream",
     "text": [
      "  0%|          | 1/400 [00:00<03:04,  2.17it/s]"
     ]
    },
    {
     "name": "stdout",
     "output_type": "stream",
     "text": [
      "the taller person hugs the shorter person\n",
      "the shorter person hugs the taller person\n"
     ]
    },
    {
     "name": "stderr",
     "output_type": "stream",
     "text": [
      "  0%|          | 2/400 [00:00<03:03,  2.16it/s]"
     ]
    },
    {
     "name": "stdout",
     "output_type": "stream",
     "text": [
      "the masked wrestler hits the unmasked wrestler\n",
      "the unmasked wrestler hits the masked wrestler\n"
     ]
    },
    {
     "name": "stderr",
     "output_type": "stream",
     "text": [
      "  1%|          | 3/400 [00:01<03:04,  2.16it/s]"
     ]
    },
    {
     "name": "stdout",
     "output_type": "stream",
     "text": [
      "a person watches an animal\n",
      "an animal watches a person\n"
     ]
    },
    {
     "name": "stderr",
     "output_type": "stream",
     "text": [
      "  1%|          | 4/400 [00:02<03:44,  1.77it/s]"
     ]
    },
    {
     "name": "stdout",
     "output_type": "stream",
     "text": [
      "the person without earrings pays the person with earrings\n",
      "the person with earrings pays the person without earrings\n"
     ]
    },
    {
     "name": "stderr",
     "output_type": "stream",
     "text": [
      "  1%|▏         | 5/400 [00:02<03:37,  1.82it/s]"
     ]
    },
    {
     "name": "stdout",
     "output_type": "stream",
     "text": [
      "a bird eats a snake\n",
      "a snake eats a bird\n"
     ]
    },
    {
     "name": "stderr",
     "output_type": "stream",
     "text": [
      "  2%|▏         | 6/400 [00:03<03:27,  1.90it/s]"
     ]
    },
    {
     "name": "stdout",
     "output_type": "stream",
     "text": [
      "a plant was harmed by another organism, and that organism broke the plant into pieces\n",
      "another organism was harmed by a plant, and that plant broke the organism into pieces\n"
     ]
    },
    {
     "name": "stderr",
     "output_type": "stream",
     "text": [
      "  2%|▏         | 7/400 [00:03<03:19,  1.97it/s]"
     ]
    },
    {
     "name": "stdout",
     "output_type": "stream",
     "text": [
      "a bottle is in water\n",
      "water is in a bottle\n"
     ]
    },
    {
     "name": "stderr",
     "output_type": "stream",
     "text": [
      "  2%|▏         | 8/400 [00:04<03:12,  2.04it/s]"
     ]
    },
    {
     "name": "stdout",
     "output_type": "stream",
     "text": [
      "a tree smashed into a car\n",
      "a car smashed into a tree\n"
     ]
    },
    {
     "name": "stderr",
     "output_type": "stream",
     "text": [
      "  2%|▏         | 9/400 [00:04<03:07,  2.09it/s]"
     ]
    },
    {
     "name": "stdout",
     "output_type": "stream",
     "text": [
      "people fall on the leaves\n",
      "the leaves fall on people\n"
     ]
    },
    {
     "name": "stderr",
     "output_type": "stream",
     "text": [
      "  2%|▎         | 10/400 [00:05<03:39,  1.78it/s]"
     ]
    },
    {
     "name": "stdout",
     "output_type": "stream",
     "text": [
      "the sail rests below the water\n",
      "the water rests below the sail\n"
     ]
    },
    {
     "name": "stderr",
     "output_type": "stream",
     "text": [
      "  3%|▎         | 11/400 [00:05<03:28,  1.87it/s]"
     ]
    },
    {
     "name": "stdout",
     "output_type": "stream",
     "text": [
      "there is a table below someone\n",
      "there is someone below a table\n"
     ]
    },
    {
     "name": "stderr",
     "output_type": "stream",
     "text": [
      "  3%|▎         | 12/400 [00:06<03:51,  1.68it/s]"
     ]
    },
    {
     "name": "stdout",
     "output_type": "stream",
     "text": [
      "the image shows a computer on top of books\n",
      "the image shows books on top of a computer\n"
     ]
    },
    {
     "name": "stderr",
     "output_type": "stream",
     "text": [
      "  3%|▎         | 13/400 [00:07<03:54,  1.65it/s]"
     ]
    },
    {
     "name": "stdout",
     "output_type": "stream",
     "text": [
      "a caterpillar with some plants\n",
      "a plant with some caterpillars\n"
     ]
    },
    {
     "name": "stderr",
     "output_type": "stream",
     "text": [
      "  4%|▎         | 14/400 [00:07<04:00,  1.60it/s]"
     ]
    },
    {
     "name": "stdout",
     "output_type": "stream",
     "text": [
      "there is a mug in some grass\n",
      "there is some grass in a mug\n"
     ]
    },
    {
     "name": "stderr",
     "output_type": "stream",
     "text": [
      "  4%|▍         | 15/400 [00:08<03:45,  1.71it/s]"
     ]
    },
    {
     "name": "stdout",
     "output_type": "stream",
     "text": [
      "there are more skiers than snowboarders\n",
      "there are more snowboarders than skiers\n"
     ]
    },
    {
     "name": "stderr",
     "output_type": "stream",
     "text": [
      "  4%|▍         | 16/400 [00:08<03:32,  1.81it/s]"
     ]
    },
    {
     "name": "stdout",
     "output_type": "stream",
     "text": [
      "there are fewer forks than spoons\n",
      "there are fewer spoons than forks\n"
     ]
    },
    {
     "name": "stderr",
     "output_type": "stream",
     "text": [
      "  4%|▍         | 17/400 [00:09<03:22,  1.90it/s]"
     ]
    },
    {
     "name": "stdout",
     "output_type": "stream",
     "text": [
      "there are more ladybugs than flowers\n",
      "there are more flowers than ladybugs\n"
     ]
    },
    {
     "name": "stderr",
     "output_type": "stream",
     "text": [
      "  4%|▍         | 18/400 [00:09<03:09,  2.02it/s]"
     ]
    },
    {
     "name": "stdout",
     "output_type": "stream",
     "text": [
      "there is less orange juice than milk\n",
      "there is less milk than orange juice\n"
     ]
    },
    {
     "name": "stderr",
     "output_type": "stream",
     "text": [
      "  5%|▍         | 19/400 [00:10<03:44,  1.70it/s]"
     ]
    },
    {
     "name": "stdout",
     "output_type": "stream",
     "text": [
      "there is more dirt than empty space in the jar\n",
      "there is more empty space than dirt in the jar\n"
     ]
    },
    {
     "name": "stderr",
     "output_type": "stream",
     "text": [
      "  5%|▌         | 20/400 [00:11<03:49,  1.66it/s]"
     ]
    },
    {
     "name": "stdout",
     "output_type": "stream",
     "text": [
      "there is a bit less milk chocolate than white chocolate\n",
      "there is a bit less white chocolate than milk chocolate\n"
     ]
    },
    {
     "name": "stderr",
     "output_type": "stream",
     "text": [
      "  5%|▌         | 21/400 [00:11<03:46,  1.67it/s]"
     ]
    },
    {
     "name": "stdout",
     "output_type": "stream",
     "text": [
      "a person sits and a dog stands\n",
      "a person stands and a dog sits\n"
     ]
    },
    {
     "name": "stderr",
     "output_type": "stream",
     "text": [
      "  6%|▌         | 22/400 [00:12<03:33,  1.77it/s]"
     ]
    },
    {
     "name": "stdout",
     "output_type": "stream",
     "text": [
      "The person with more facial hair lies awake while the other sleeps\n",
      "The person with more facial hair sleeps while the other lies awake\n"
     ]
    },
    {
     "name": "stderr",
     "output_type": "stream",
     "text": [
      "  6%|▌         | 23/400 [00:12<03:29,  1.80it/s]"
     ]
    },
    {
     "name": "stdout",
     "output_type": "stream",
     "text": [
      "the person in the middle is floating and some others are standing\n",
      "the person in the middle is standing and some others are floating\n"
     ]
    },
    {
     "name": "stderr",
     "output_type": "stream",
     "text": [
      "  6%|▌         | 24/400 [00:13<03:35,  1.74it/s]"
     ]
    },
    {
     "name": "stdout",
     "output_type": "stream",
     "text": [
      "the person closer to the camera weightlifts and the person farther from the camera runs\n",
      "the person closer to the camera runs and the person farther from the camera weightlifts\n"
     ]
    },
    {
     "name": "stderr",
     "output_type": "stream",
     "text": [
      "  6%|▋         | 25/400 [00:13<03:37,  1.72it/s]"
     ]
    },
    {
     "name": "stdout",
     "output_type": "stream",
     "text": [
      "the person with the white collared shirt waters the plant while the other holds it\n",
      "the person with the white collared shirt holds the plant while the other waters it\n"
     ]
    },
    {
     "name": "stderr",
     "output_type": "stream",
     "text": [
      "  6%|▋         | 26/400 [00:14<03:40,  1.69it/s]"
     ]
    },
    {
     "name": "stdout",
     "output_type": "stream",
     "text": [
      "the taller person chops food and the shorter person eats food\n",
      "the taller person eats food and the shorter person chops food\n"
     ]
    },
    {
     "name": "stderr",
     "output_type": "stream",
     "text": [
      "  7%|▋         | 27/400 [00:15<03:25,  1.82it/s]"
     ]
    },
    {
     "name": "stdout",
     "output_type": "stream",
     "text": [
      "the person with the ponytail packs stuff and other buys it\n",
      "the person with the ponytail buys stuff and other packs it\n"
     ]
    },
    {
     "name": "stderr",
     "output_type": "stream",
     "text": [
      "  7%|▋         | 28/400 [00:15<03:17,  1.88it/s]"
     ]
    },
    {
     "name": "stdout",
     "output_type": "stream",
     "text": [
      "a person walking in a field of yellow flowers with a red dress\n",
      "a person walking in a field of red flowers with a yellow dress\n"
     ]
    },
    {
     "name": "stderr",
     "output_type": "stream",
     "text": [
      "  7%|▋         | 29/400 [00:15<03:09,  1.96it/s]"
     ]
    },
    {
     "name": "stdout",
     "output_type": "stream",
     "text": [
      "a brown dog is on a white couch\n",
      "a white dog is on a brown couch\n"
     ]
    },
    {
     "name": "stderr",
     "output_type": "stream",
     "text": [
      "  8%|▊         | 30/400 [00:16<03:11,  1.93it/s]"
     ]
    },
    {
     "name": "stdout",
     "output_type": "stream",
     "text": [
      "a blue bird is next to a red berry\n",
      "a red bird is next to a blue berry\n"
     ]
    },
    {
     "name": "stderr",
     "output_type": "stream",
     "text": [
      "  8%|▊         | 31/400 [00:16<03:04,  2.00it/s]"
     ]
    },
    {
     "name": "stdout",
     "output_type": "stream",
     "text": [
      "The red book is above the yellow book and below the blue book\n",
      "The yellow book is above the blue book and below the red book\n"
     ]
    },
    {
     "name": "stderr",
     "output_type": "stream",
     "text": [
      "  8%|▊         | 32/400 [00:17<03:03,  2.01it/s]"
     ]
    },
    {
     "name": "stdout",
     "output_type": "stream",
     "text": [
      "astronauts in blue suits with a red planet in the background\n",
      "astronauts in red suits with a blue planet in the background\n"
     ]
    },
    {
     "name": "stderr",
     "output_type": "stream",
     "text": [
      "  8%|▊         | 33/400 [00:17<03:01,  2.02it/s]"
     ]
    },
    {
     "name": "stdout",
     "output_type": "stream",
     "text": [
      "the square table has a round base\n",
      "the round table has a square base\n"
     ]
    },
    {
     "name": "stderr",
     "output_type": "stream",
     "text": [
      "  8%|▊         | 34/400 [00:18<03:01,  2.01it/s]"
     ]
    },
    {
     "name": "stdout",
     "output_type": "stream",
     "text": [
      "pointy bushes are behind rectangular bushes\n",
      "rectangular bushes are behind pointy bushes\n"
     ]
    },
    {
     "name": "stderr",
     "output_type": "stream",
     "text": [
      "  9%|▉         | 35/400 [00:18<03:07,  1.95it/s]"
     ]
    },
    {
     "name": "stdout",
     "output_type": "stream",
     "text": [
      "a circular sign is above a rectangular sign\n",
      "a rectangular sign is above a circular sign\n"
     ]
    },
    {
     "name": "stderr",
     "output_type": "stream",
     "text": [
      "  9%|▉         | 36/400 [00:19<03:31,  1.72it/s]"
     ]
    },
    {
     "name": "stdout",
     "output_type": "stream",
     "text": [
      "a wood chess piece rests on metal objects\n",
      "a metal chess piece rests on wood objects\n"
     ]
    },
    {
     "name": "stderr",
     "output_type": "stream",
     "text": [
      "  9%|▉         | 37/400 [00:20<03:18,  1.83it/s]"
     ]
    },
    {
     "name": "stdout",
     "output_type": "stream",
     "text": [
      "soft shoes are on a smooth floor\n",
      "smooth shoes are on a soft floor\n"
     ]
    },
    {
     "name": "stderr",
     "output_type": "stream",
     "text": [
      " 10%|▉         | 38/400 [00:20<03:31,  1.72it/s]"
     ]
    },
    {
     "name": "stdout",
     "output_type": "stream",
     "text": [
      "the happy person is on the right and the sad person is on the left\n",
      "the sad person is on the right and the happy person is on the left\n"
     ]
    },
    {
     "name": "stderr",
     "output_type": "stream",
     "text": [
      " 10%|▉         | 39/400 [00:21<03:16,  1.84it/s]"
     ]
    },
    {
     "name": "stdout",
     "output_type": "stream",
     "text": [
      "the hurt person is on the left and the helpful person is on the right\n",
      "the helpful person is on the left and the hurt person is on the right\n"
     ]
    },
    {
     "name": "stderr",
     "output_type": "stream",
     "text": [
      " 10%|█         | 40/400 [00:21<03:21,  1.79it/s]"
     ]
    },
    {
     "name": "stdout",
     "output_type": "stream",
     "text": [
      "the more content person has the healthier food and the less content person has the less healthy food\n",
      "the less content person has the healthier food and the more content person has the less healthy food\n"
     ]
    },
    {
     "name": "stderr",
     "output_type": "stream",
     "text": [
      " 10%|█         | 41/400 [00:22<03:29,  1.71it/s]"
     ]
    },
    {
     "name": "stdout",
     "output_type": "stream",
     "text": [
      "the orange lollipop is sad and the red lollipop is surprised\n",
      "the orange lollipop is surprised and the red lollipop is sad\n"
     ]
    },
    {
     "name": "stderr",
     "output_type": "stream",
     "text": [
      " 10%|█         | 42/400 [00:23<03:16,  1.82it/s]"
     ]
    },
    {
     "name": "stdout",
     "output_type": "stream",
     "text": [
      "the larger person wears yellow and the smaller person does not\n",
      "the smaller person wears yellow and the larger person does not\n"
     ]
    },
    {
     "name": "stderr",
     "output_type": "stream",
     "text": [
      " 11%|█         | 43/400 [00:23<03:06,  1.91it/s]"
     ]
    },
    {
     "name": "stdout",
     "output_type": "stream",
     "text": [
      "a big cat is next to a small dog\n",
      "a small cat is next to a big dog\n"
     ]
    },
    {
     "name": "stderr",
     "output_type": "stream",
     "text": [
      " 11%|█         | 44/400 [00:23<03:01,  1.96it/s]"
     ]
    },
    {
     "name": "stdout",
     "output_type": "stream",
     "text": [
      "the heavy oncoming traffic is contrasted with the light outgoing traffic\n",
      "the light oncoming traffic is contrasted with the heavy outgoing traffic\n"
     ]
    },
    {
     "name": "stderr",
     "output_type": "stream",
     "text": [
      " 11%|█▏        | 45/400 [00:24<02:56,  2.01it/s]"
     ]
    },
    {
     "name": "stdout",
     "output_type": "stream",
     "text": [
      "a cold drink on a hot day\n",
      "a hot drink on a cold day\n"
     ]
    },
    {
     "name": "stderr",
     "output_type": "stream",
     "text": [
      " 12%|█▏        | 46/400 [00:25<03:09,  1.87it/s]"
     ]
    },
    {
     "name": "stdout",
     "output_type": "stream",
     "text": [
      "a person is drinking now and eating later\n",
      "a person is drinking later and eating now\n"
     ]
    },
    {
     "name": "stderr",
     "output_type": "stream",
     "text": [
      " 12%|█▏        | 47/400 [00:25<02:59,  1.97it/s]"
     ]
    },
    {
     "name": "stdout",
     "output_type": "stream",
     "text": [
      "the sailboat sails close but the beach is far away\n"
     ]
    },
    {
     "name": "stderr",
     "output_type": "stream",
     "text": [
      " 12%|█▏        | 48/400 [00:26<03:06,  1.89it/s]"
     ]
    },
    {
     "name": "stdout",
     "output_type": "stream",
     "text": [
      "the sailboat sails far away but the beach is close\n",
      "the passenger is riding inattentive to the road and the driver is driving attentive to the road\n",
      "the passenger is riding attentive to the road and the driver is driving inattentive to the road\n"
     ]
    },
    {
     "name": "stderr",
     "output_type": "stream",
     "text": [
      " 12%|█▏        | 49/400 [00:26<03:31,  1.66it/s]"
     ]
    },
    {
     "name": "stdout",
     "output_type": "stream",
     "text": [
      "it wears a hat but the person doesn't\n",
      "the person wears a hat but it doesn't\n"
     ]
    },
    {
     "name": "stderr",
     "output_type": "stream",
     "text": [
      " 12%|█▎        | 50/400 [00:27<03:58,  1.47it/s]"
     ]
    },
    {
     "name": "stdout",
     "output_type": "stream",
     "text": [
      "the person with green legs is running quite slowly and the red legged one runs faster\n",
      "the person with green legs is running faster and the red legged one runs quite slowly\n"
     ]
    },
    {
     "name": "stderr",
     "output_type": "stream",
     "text": [
      " 13%|█▎        | 51/400 [00:28<03:51,  1.51it/s]"
     ]
    },
    {
     "name": "stdout",
     "output_type": "stream",
     "text": [
      "a person is in the water and close to the sand\n",
      "a person is close to the water and in the sand\n"
     ]
    },
    {
     "name": "stderr",
     "output_type": "stream",
     "text": [
      " 13%|█▎        | 52/400 [00:28<03:46,  1.53it/s]"
     ]
    },
    {
     "name": "stdout",
     "output_type": "stream",
     "text": [
      "a frog is above rocks which are under the water\n",
      "a frog is under rocks which are above the water\n"
     ]
    },
    {
     "name": "stderr",
     "output_type": "stream",
     "text": [
      " 13%|█▎        | 53/400 [00:29<03:46,  1.53it/s]"
     ]
    },
    {
     "name": "stdout",
     "output_type": "stream",
     "text": [
      "driving off the road and on the unpaved terrain\n",
      "driving on the road and off the unpaved terrain\n"
     ]
    },
    {
     "name": "stderr",
     "output_type": "stream",
     "text": [
      " 14%|█▎        | 54/400 [00:30<03:26,  1.67it/s]"
     ]
    },
    {
     "name": "stdout",
     "output_type": "stream",
     "text": [
      "someone is in a helicopter with a car\n",
      "someone is with a helicopter in a car\n"
     ]
    },
    {
     "name": "stderr",
     "output_type": "stream",
     "text": [
      " 14%|█▍        | 55/400 [00:30<03:13,  1.78it/s]"
     ]
    },
    {
     "name": "stdout",
     "output_type": "stream",
     "text": [
      "the green one can fit inside the blue one and the blue one can fit outside the green one\n",
      "the green one can fit outside the blue one and the blue one can fit inside the green one\n"
     ]
    },
    {
     "name": "stderr",
     "output_type": "stream",
     "text": [
      " 14%|█▍        | 56/400 [00:31<03:46,  1.52it/s]"
     ]
    },
    {
     "name": "stdout",
     "output_type": "stream",
     "text": [
      "jumping away from the photographer and towards the others\n",
      "jumping towards the photographer and away from the others\n"
     ]
    },
    {
     "name": "stderr",
     "output_type": "stream",
     "text": [
      " 14%|█▍        | 57/400 [00:31<03:24,  1.67it/s]"
     ]
    },
    {
     "name": "stdout",
     "output_type": "stream",
     "text": [
      "someone bakes the dough before the dough is eaten\n",
      "the dough is eaten before someone bakes the dough\n"
     ]
    },
    {
     "name": "stderr",
     "output_type": "stream",
     "text": [
      " 14%|█▍        | 58/400 [00:32<03:18,  1.72it/s]"
     ]
    },
    {
     "name": "stdout",
     "output_type": "stream",
     "text": [
      "it hatched before it was eaten\n",
      "it was eaten before it hatched\n"
     ]
    },
    {
     "name": "stderr",
     "output_type": "stream",
     "text": [
      " 15%|█▍        | 59/400 [00:32<03:04,  1.85it/s]"
     ]
    },
    {
     "name": "stdout",
     "output_type": "stream",
     "text": [
      "there are three bananas and two apples\n",
      "there are two bananas and three apples\n"
     ]
    },
    {
     "name": "stderr",
     "output_type": "stream",
     "text": [
      " 15%|█▌        | 60/400 [00:33<02:52,  1.97it/s]"
     ]
    },
    {
     "name": "stdout",
     "output_type": "stream",
     "text": [
      "someone has loaded their plate with one of the toast slices and two of the eggs\n",
      "someone has loaded their plate with two of the toast slices and one of the eggs\n"
     ]
    },
    {
     "name": "stderr",
     "output_type": "stream",
     "text": [
      " 15%|█▌        | 61/400 [00:33<02:48,  2.01it/s]"
     ]
    },
    {
     "name": "stdout",
     "output_type": "stream",
     "text": [
      "there are three people and two windows\n",
      "there are two people and three windows\n"
     ]
    },
    {
     "name": "stderr",
     "output_type": "stream",
     "text": [
      " 16%|█▌        | 62/400 [00:34<02:44,  2.05it/s]"
     ]
    },
    {
     "name": "stdout",
     "output_type": "stream",
     "text": [
      "there are 50 stars on the right flag and 5 stars on the left flag\n",
      "there are 5 stars on the right flag and 50 stars on the left flag\n"
     ]
    },
    {
     "name": "stderr",
     "output_type": "stream",
     "text": [
      " 16%|█▌        | 63/400 [00:34<02:55,  1.92it/s]"
     ]
    },
    {
     "name": "stdout",
     "output_type": "stream",
     "text": [
      "no people wear blue shirts and six people wear white shirts\n",
      "six people wear blue shirts and no people wear white shirts\n"
     ]
    },
    {
     "name": "stderr",
     "output_type": "stream",
     "text": [
      " 16%|█▌        | 64/400 [00:35<02:54,  1.92it/s]"
     ]
    },
    {
     "name": "stdout",
     "output_type": "stream",
     "text": [
      "the dog's leg is on the person's torso\n",
      "the person's leg is on the dog's torso\n"
     ]
    },
    {
     "name": "stderr",
     "output_type": "stream",
     "text": [
      " 16%|█▋        | 65/400 [00:35<02:48,  1.98it/s]"
     ]
    },
    {
     "name": "stdout",
     "output_type": "stream",
     "text": [
      "the animal's eyes are bigger than the person's\n",
      "the person's eyes are bigger than the animal's\n"
     ]
    },
    {
     "name": "stderr",
     "output_type": "stream",
     "text": [
      " 16%|█▋        | 66/400 [00:36<02:45,  2.01it/s]"
     ]
    },
    {
     "name": "stdout",
     "output_type": "stream",
     "text": [
      "the taller person's arm is around the shorter person's shoulder\n",
      "the shorter person's arm is around the taller person's shoulder\n"
     ]
    },
    {
     "name": "stderr",
     "output_type": "stream",
     "text": [
      " 17%|█▋        | 67/400 [00:36<02:43,  2.04it/s]"
     ]
    },
    {
     "name": "stdout",
     "output_type": "stream",
     "text": [
      "the person in a brown coat looks back and the person in a black coat looks forward\n",
      "the person in a black coat looks back and the person in a brown coat looks forward\n"
     ]
    },
    {
     "name": "stderr",
     "output_type": "stream",
     "text": [
      " 17%|█▋        | 68/400 [00:37<02:41,  2.06it/s]"
     ]
    },
    {
     "name": "stdout",
     "output_type": "stream",
     "text": [
      "it ran away while they pursued\n",
      "they ran away while it pursued\n"
     ]
    },
    {
     "name": "stderr",
     "output_type": "stream",
     "text": [
      " 17%|█▋        | 69/400 [00:37<02:39,  2.08it/s]"
     ]
    },
    {
     "name": "stdout",
     "output_type": "stream",
     "text": [
      "almost everyone is in a boat and one is swimming\n",
      "one is in a boat and almost everyone is swimming\n"
     ]
    },
    {
     "name": "stderr",
     "output_type": "stream",
     "text": [
      " 18%|█▊        | 70/400 [00:38<02:35,  2.12it/s]"
     ]
    },
    {
     "name": "stdout",
     "output_type": "stream",
     "text": [
      "the person with the lighter shoes is holding an emoji and the person with the darker shoes isn't\n",
      "the person with the darker shoes is holding an emoji and the person with the lighter shoes isn't\n"
     ]
    },
    {
     "name": "stderr",
     "output_type": "stream",
     "text": [
      " 18%|█▊        | 71/400 [00:38<02:36,  2.10it/s]"
     ]
    },
    {
     "name": "stdout",
     "output_type": "stream",
     "text": [
      "the person wearing neutral colors poses and the person wearing brighter colors takes a picture\n",
      "the person wearing brighter colors poses and the person wearing neutral colors takes a picture\n"
     ]
    },
    {
     "name": "stderr",
     "output_type": "stream",
     "text": [
      " 18%|█▊        | 72/400 [00:39<02:39,  2.05it/s]"
     ]
    },
    {
     "name": "stdout",
     "output_type": "stream",
     "text": [
      "it's a fire truck\n",
      "it's a truck fire\n"
     ]
    },
    {
     "name": "stderr",
     "output_type": "stream",
     "text": [
      " 18%|█▊        | 73/400 [00:39<02:57,  1.84it/s]"
     ]
    },
    {
     "name": "stdout",
     "output_type": "stream",
     "text": [
      "watching the present\n",
      "presenting the watch\n"
     ]
    },
    {
     "name": "stderr",
     "output_type": "stream",
     "text": [
      " 18%|█▊        | 74/400 [00:40<02:57,  1.83it/s]"
     ]
    },
    {
     "name": "stdout",
     "output_type": "stream",
     "text": [
      "walking out on a rock\n",
      "rocking out on a walk\n"
     ]
    },
    {
     "name": "stderr",
     "output_type": "stream",
     "text": [
      " 19%|█▉        | 75/400 [00:40<03:00,  1.80it/s]"
     ]
    },
    {
     "name": "stdout",
     "output_type": "stream",
     "text": [
      "the kid with the magnifying glass looks at them\n",
      "the kid looks at them with the magnifying glass\n"
     ]
    },
    {
     "name": "stderr",
     "output_type": "stream",
     "text": [
      " 19%|█▉        | 76/400 [00:41<02:51,  1.89it/s]"
     ]
    },
    {
     "name": "stdout",
     "output_type": "stream",
     "text": [
      "the person with the kids is sitting\n",
      "the person is sitting with the kids\n"
     ]
    },
    {
     "name": "stderr",
     "output_type": "stream",
     "text": [
      " 19%|█▉        | 77/400 [00:41<02:43,  1.98it/s]"
     ]
    },
    {
     "name": "stdout",
     "output_type": "stream",
     "text": [
      "the people with shoes are touching each other\n",
      "the people are touching each other with shoes\n"
     ]
    },
    {
     "name": "stderr",
     "output_type": "stream",
     "text": [
      " 20%|█▉        | 78/400 [00:42<02:37,  2.05it/s]"
     ]
    },
    {
     "name": "stdout",
     "output_type": "stream",
     "text": [
      "someone with an apple is hurt by a tree\n",
      "someone is hurt by a tree with an apple\n"
     ]
    },
    {
     "name": "stderr",
     "output_type": "stream",
     "text": [
      " 20%|█▉        | 79/400 [00:42<02:50,  1.88it/s]"
     ]
    },
    {
     "name": "stdout",
     "output_type": "stream",
     "text": [
      "the person that is on the table is eating the food\n",
      "the person is eating the food that is on the table\n"
     ]
    },
    {
     "name": "stderr",
     "output_type": "stream",
     "text": [
      " 20%|██        | 80/400 [00:43<02:58,  1.79it/s]"
     ]
    },
    {
     "name": "stdout",
     "output_type": "stream",
     "text": [
      "the watering can is larger than the pot\n",
      "the pot is larger than the watering can\n"
     ]
    },
    {
     "name": "stderr",
     "output_type": "stream",
     "text": [
      " 20%|██        | 81/400 [00:44<03:01,  1.76it/s]"
     ]
    },
    {
     "name": "stdout",
     "output_type": "stream",
     "text": [
      "they hold a suitcase handle with their left hand and they hold a passport with their right hand\n",
      "they hold a passport with their left hand and they hold a suitcase handle with their right hand\n"
     ]
    },
    {
     "name": "stderr",
     "output_type": "stream",
     "text": [
      " 20%|██        | 82/400 [00:44<02:53,  1.83it/s]"
     ]
    },
    {
     "name": "stdout",
     "output_type": "stream",
     "text": [
      "the person with the patterned shirt is curly-haired and the other is straight-haired\n",
      "the person with the patterned shirt is straight-haired and the other is curly-haired\n"
     ]
    },
    {
     "name": "stderr",
     "output_type": "stream",
     "text": [
      " 21%|██        | 83/400 [00:45<02:46,  1.90it/s]"
     ]
    },
    {
     "name": "stdout",
     "output_type": "stream",
     "text": [
      "a diagram showing movement from right to left\n",
      "a diagram showing movement from left to right\n"
     ]
    },
    {
     "name": "stderr",
     "output_type": "stream",
     "text": [
      " 21%|██        | 84/400 [00:45<02:46,  1.90it/s]"
     ]
    },
    {
     "name": "stdout",
     "output_type": "stream",
     "text": [
      "the flip flops are too big for these feet\n",
      "the feet are too big for these flip flops\n"
     ]
    },
    {
     "name": "stderr",
     "output_type": "stream",
     "text": [
      " 21%|██▏       | 85/400 [00:46<02:39,  1.97it/s]"
     ]
    },
    {
     "name": "stdout",
     "output_type": "stream",
     "text": [
      "the person who is wearing a crown is kissing a frog\n",
      "the person is kissing a frog who is wearing a crown\n"
     ]
    },
    {
     "name": "stderr",
     "output_type": "stream",
     "text": [
      " 22%|██▏       | 86/400 [00:46<02:32,  2.06it/s]"
     ]
    },
    {
     "name": "stdout",
     "output_type": "stream",
     "text": [
      "a dog sitting on a couch with a person lying on the floor\n",
      "a person lying on a couch with a dog sitting on the floor\n"
     ]
    },
    {
     "name": "stderr",
     "output_type": "stream",
     "text": [
      " 22%|██▏       | 87/400 [00:47<02:40,  1.95it/s]"
     ]
    },
    {
     "name": "stdout",
     "output_type": "stream",
     "text": [
      "The uncaged bird has an opened cage door\n",
      "The caged bird has an unopened cage door\n"
     ]
    },
    {
     "name": "stderr",
     "output_type": "stream",
     "text": [
      " 22%|██▏       | 88/400 [00:47<02:33,  2.03it/s]"
     ]
    },
    {
     "name": "stdout",
     "output_type": "stream",
     "text": [
      "meat with potatoes\n",
      "potatoes with meat\n"
     ]
    },
    {
     "name": "stderr",
     "output_type": "stream",
     "text": [
      " 22%|██▏       | 89/400 [00:48<02:41,  1.92it/s]"
     ]
    },
    {
     "name": "stdout",
     "output_type": "stream",
     "text": [
      "the person in pink was close to not winning\n",
      "the person in pink was not close to winning\n"
     ]
    },
    {
     "name": "stderr",
     "output_type": "stream",
     "text": [
      " 22%|██▎       | 90/400 [00:48<02:41,  1.92it/s]"
     ]
    },
    {
     "name": "stdout",
     "output_type": "stream",
     "text": [
      "two humans and one wheel\n",
      "two wheels and one human\n"
     ]
    },
    {
     "name": "stderr",
     "output_type": "stream",
     "text": [
      " 23%|██▎       | 91/400 [00:49<02:48,  1.83it/s]"
     ]
    },
    {
     "name": "stdout",
     "output_type": "stream",
     "text": [
      "clothing on lines\n",
      "lines on clothing\n"
     ]
    },
    {
     "name": "stderr",
     "output_type": "stream",
     "text": [
      " 23%|██▎       | 92/400 [00:50<03:00,  1.71it/s]"
     ]
    },
    {
     "name": "stdout",
     "output_type": "stream",
     "text": [
      "someone talks on the phone angrily while another person sits happily\n",
      "someone talks on the phone happily while another person sits angrily\n"
     ]
    },
    {
     "name": "stderr",
     "output_type": "stream",
     "text": [
      " 23%|██▎       | 93/400 [00:50<02:51,  1.79it/s]"
     ]
    },
    {
     "name": "stdout",
     "output_type": "stream",
     "text": [
      "two boats and one direction down the stream\n",
      "one boat and two directions down the stream\n"
     ]
    },
    {
     "name": "stderr",
     "output_type": "stream",
     "text": [
      " 24%|██▎       | 94/400 [00:51<02:53,  1.77it/s]"
     ]
    },
    {
     "name": "stdout",
     "output_type": "stream",
     "text": [
      "The dog rides without a visible tongue\n",
      "The dog rides with a visible tongue out\n"
     ]
    },
    {
     "name": "stderr",
     "output_type": "stream",
     "text": [
      " 24%|██▍       | 95/400 [00:51<02:43,  1.86it/s]"
     ]
    },
    {
     "name": "stdout",
     "output_type": "stream",
     "text": [
      "handing a hammer\n",
      "hammering a hand\n"
     ]
    },
    {
     "name": "stderr",
     "output_type": "stream",
     "text": [
      " 24%|██▍       | 96/400 [00:52<02:38,  1.92it/s]"
     ]
    },
    {
     "name": "stdout",
     "output_type": "stream",
     "text": [
      "leaves its shedding\n",
      "shedding its leaves\n"
     ]
    },
    {
     "name": "stderr",
     "output_type": "stream",
     "text": [
      " 24%|██▍       | 97/400 [00:52<02:31,  2.00it/s]"
     ]
    },
    {
     "name": "stdout",
     "output_type": "stream",
     "text": [
      "they are using no bait but still got fish\n",
      "they are using bait but still got no fish\n"
     ]
    },
    {
     "name": "stderr",
     "output_type": "stream",
     "text": [
      " 24%|██▍       | 98/400 [00:53<02:51,  1.76it/s]"
     ]
    },
    {
     "name": "stdout",
     "output_type": "stream",
     "text": [
      "someone on the ground is spraying water towards a vehicle\n",
      "someone is on a vehicle spraying water towards the ground\n"
     ]
    },
    {
     "name": "stderr",
     "output_type": "stream",
     "text": [
      " 25%|██▍       | 99/400 [00:53<02:40,  1.87it/s]"
     ]
    },
    {
     "name": "stdout",
     "output_type": "stream",
     "text": [
      "the dog wears as a hat what someone would normally bite\n",
      "the dog bites what someone would normally wear as a hat\n"
     ]
    },
    {
     "name": "stderr",
     "output_type": "stream",
     "text": [
      " 25%|██▌       | 100/400 [00:54<02:49,  1.77it/s]"
     ]
    },
    {
     "name": "stdout",
     "output_type": "stream",
     "text": [
      "the happy one is on the left and the upset one is on the right\n",
      "the upset one is on the left and the happy one is on the right\n"
     ]
    },
    {
     "name": "stderr",
     "output_type": "stream",
     "text": [
      " 25%|██▌       | 101/400 [00:54<02:47,  1.78it/s]"
     ]
    },
    {
     "name": "stdout",
     "output_type": "stream",
     "text": [
      "fake mustache and real hair on head\n",
      "real mustache and fake hair on head\n"
     ]
    },
    {
     "name": "stderr",
     "output_type": "stream",
     "text": [
      " 26%|██▌       | 102/400 [00:55<02:42,  1.84it/s]"
     ]
    },
    {
     "name": "stdout",
     "output_type": "stream",
     "text": [
      "real cat with toy baby\n",
      "toy cat with real baby\n"
     ]
    },
    {
     "name": "stderr",
     "output_type": "stream",
     "text": [
      " 26%|██▌       | 103/400 [00:55<02:33,  1.94it/s]"
     ]
    },
    {
     "name": "stdout",
     "output_type": "stream",
     "text": [
      "the lion is loud and the lionness is quiet\n",
      "the lion is quiet and the lionness is loud\n"
     ]
    },
    {
     "name": "stderr",
     "output_type": "stream",
     "text": [
      " 26%|██▌       | 104/400 [00:56<02:27,  2.00it/s]"
     ]
    },
    {
     "name": "stdout",
     "output_type": "stream",
     "text": [
      "there is a pink couch with green pillows\n",
      "there is a green couch with pink pillows\n"
     ]
    },
    {
     "name": "stderr",
     "output_type": "stream",
     "text": [
      " 26%|██▋       | 105/400 [00:56<02:23,  2.06it/s]"
     ]
    },
    {
     "name": "stdout",
     "output_type": "stream",
     "text": [
      "light colored dog with dark colored cat\n",
      "dark colored dog with light colored cat\n"
     ]
    },
    {
     "name": "stderr",
     "output_type": "stream",
     "text": [
      " 26%|██▋       | 106/400 [00:57<02:18,  2.12it/s]"
     ]
    },
    {
     "name": "stdout",
     "output_type": "stream",
     "text": [
      "someone is wearing a black hat and yellow shirt\n",
      "someone is wearing a yellow hat and black shirt\n"
     ]
    },
    {
     "name": "stderr",
     "output_type": "stream",
     "text": [
      " 27%|██▋       | 107/400 [00:57<02:16,  2.14it/s]"
     ]
    },
    {
     "name": "stdout",
     "output_type": "stream",
     "text": [
      "black socks and orange shoes\n",
      "orange socks and black shoes\n"
     ]
    },
    {
     "name": "stderr",
     "output_type": "stream",
     "text": [
      " 27%|██▋       | 108/400 [00:58<02:21,  2.07it/s]"
     ]
    },
    {
     "name": "stdout",
     "output_type": "stream",
     "text": [
      "red building with white shutters\n",
      "white building with red shutters\n"
     ]
    },
    {
     "name": "stderr",
     "output_type": "stream",
     "text": [
      " 27%|██▋       | 109/400 [00:58<02:42,  1.79it/s]"
     ]
    },
    {
     "name": "stdout",
     "output_type": "stream",
     "text": [
      "blue pants and green top\n",
      "green pants and blue top\n"
     ]
    },
    {
     "name": "stderr",
     "output_type": "stream",
     "text": [
      " 28%|██▊       | 110/400 [00:59<02:34,  1.88it/s]"
     ]
    },
    {
     "name": "stdout",
     "output_type": "stream",
     "text": [
      "there's one blue and many yellow balls\n",
      "there's one yellow and many blue balls\n"
     ]
    },
    {
     "name": "stderr",
     "output_type": "stream",
     "text": [
      " 28%|██▊       | 111/400 [00:59<02:28,  1.95it/s]"
     ]
    },
    {
     "name": "stdout",
     "output_type": "stream",
     "text": [
      "there are more silver coins than gold coins\n",
      "there are more gold coins than silver coins\n"
     ]
    },
    {
     "name": "stderr",
     "output_type": "stream",
     "text": [
      " 28%|██▊       | 112/400 [01:00<02:29,  1.93it/s]"
     ]
    },
    {
     "name": "stdout",
     "output_type": "stream",
     "text": [
      "the red team kicking the ball directly next to the blue team\n",
      "the blue team kicking the ball directly next to the red team\n"
     ]
    },
    {
     "name": "stderr",
     "output_type": "stream",
     "text": [
      " 28%|██▊       | 113/400 [01:00<02:25,  1.98it/s]"
     ]
    },
    {
     "name": "stdout",
     "output_type": "stream",
     "text": [
      "black dog wearing a brown sweater\n",
      "brown dog wearing a black sweater\n"
     ]
    },
    {
     "name": "stderr",
     "output_type": "stream",
     "text": [
      " 28%|██▊       | 114/400 [01:01<02:20,  2.04it/s]"
     ]
    },
    {
     "name": "stdout",
     "output_type": "stream",
     "text": [
      "one green apple surrounded by a bunch of red apples\n",
      "one red apple surrounded by a bunch of green apples\n"
     ]
    },
    {
     "name": "stderr",
     "output_type": "stream",
     "text": [
      " 29%|██▉       | 115/400 [01:01<02:19,  2.05it/s]"
     ]
    },
    {
     "name": "stdout",
     "output_type": "stream",
     "text": [
      "person in white is reading the orange book\n",
      "person in orange is reading the white book\n"
     ]
    },
    {
     "name": "stderr",
     "output_type": "stream",
     "text": [
      " 29%|██▉       | 116/400 [01:02<02:16,  2.08it/s]"
     ]
    },
    {
     "name": "stdout",
     "output_type": "stream",
     "text": [
      "the children are being quiet while the adult is loud\n",
      "the children are being loud while the adult is quiet\n"
     ]
    },
    {
     "name": "stderr",
     "output_type": "stream",
     "text": [
      " 29%|██▉       | 117/400 [01:02<02:12,  2.14it/s]"
     ]
    },
    {
     "name": "stdout",
     "output_type": "stream",
     "text": [
      "the circular mirror is on the left and the rectangular mirror is on the right\n",
      "the rectangular mirror is on the left and the circular mirror is on the right\n"
     ]
    },
    {
     "name": "stderr",
     "output_type": "stream",
     "text": [
      " 30%|██▉       | 118/400 [01:03<02:09,  2.17it/s]"
     ]
    },
    {
     "name": "stdout",
     "output_type": "stream",
     "text": [
      "circular food on heart-shaped wood\n",
      "heart-shaped food on circular wood\n"
     ]
    },
    {
     "name": "stderr",
     "output_type": "stream",
     "text": [
      " 30%|██▉       | 119/400 [01:03<02:08,  2.18it/s]"
     ]
    },
    {
     "name": "stdout",
     "output_type": "stream",
     "text": [
      "the dress on the left is long and the dress on the right is short\n",
      "the dress on the left is short and the dress on the right is long\n"
     ]
    },
    {
     "name": "stderr",
     "output_type": "stream",
     "text": [
      " 30%|███       | 120/400 [01:04<02:12,  2.11it/s]"
     ]
    },
    {
     "name": "stdout",
     "output_type": "stream",
     "text": [
      "the balloon in the middle has less air and the other balloons have more air\n",
      "the balloon in the middle has more air and the other balloons have less air\n"
     ]
    },
    {
     "name": "stderr",
     "output_type": "stream",
     "text": [
      " 30%|███       | 121/400 [01:04<02:10,  2.13it/s]"
     ]
    },
    {
     "name": "stdout",
     "output_type": "stream",
     "text": [
      "the pool has no people and the area around it has a lot of people\n",
      "the pool has a lot of people and the area around it has no people\n"
     ]
    },
    {
     "name": "stderr",
     "output_type": "stream",
     "text": [
      " 30%|███       | 122/400 [01:04<02:07,  2.18it/s]"
     ]
    },
    {
     "name": "stdout",
     "output_type": "stream",
     "text": [
      "big fish beside a small person\n",
      "small fish beside a big person\n"
     ]
    },
    {
     "name": "stderr",
     "output_type": "stream",
     "text": [
      " 31%|███       | 123/400 [01:05<02:06,  2.19it/s]"
     ]
    },
    {
     "name": "stdout",
     "output_type": "stream",
     "text": [
      "the train is moving fast while the person is still\n",
      "the train is still while the person is moving fast\n"
     ]
    },
    {
     "name": "stderr",
     "output_type": "stream",
     "text": [
      " 31%|███       | 124/400 [01:05<02:05,  2.20it/s]"
     ]
    },
    {
     "name": "stdout",
     "output_type": "stream",
     "text": [
      "they're enjoying hot water on a cold day\n",
      "they're enjoying cold water on a hot day\n"
     ]
    },
    {
     "name": "stderr",
     "output_type": "stream",
     "text": [
      " 31%|███▏      | 125/400 [01:06<02:06,  2.18it/s]"
     ]
    },
    {
     "name": "stdout",
     "output_type": "stream",
     "text": [
      "concrete floors with wood walls\n",
      "wood floors with concrete walls\n"
     ]
    },
    {
     "name": "stderr",
     "output_type": "stream",
     "text": [
      " 32%|███▏      | 126/400 [01:06<02:04,  2.20it/s]"
     ]
    },
    {
     "name": "stdout",
     "output_type": "stream",
     "text": [
      "the person on the left has curly hair and the person on the right has straight hair\n",
      "the person on the left has straight hair and the person on the right has curly hair\n"
     ]
    },
    {
     "name": "stderr",
     "output_type": "stream",
     "text": [
      " 32%|███▏      | 127/400 [01:07<02:12,  2.05it/s]"
     ]
    },
    {
     "name": "stdout",
     "output_type": "stream",
     "text": [
      "there's a metal bottle with a plastic lid\n",
      "there's a plastic bottle with a metal lid\n"
     ]
    },
    {
     "name": "stderr",
     "output_type": "stream",
     "text": [
      " 32%|███▏      | 128/400 [01:07<02:21,  1.92it/s]"
     ]
    },
    {
     "name": "stdout",
     "output_type": "stream",
     "text": [
      "the fruit is heavy while the junk food is light\n",
      "the fruit is light while the junk food is heavy\n"
     ]
    },
    {
     "name": "stderr",
     "output_type": "stream",
     "text": [
      " 32%|███▏      | 129/400 [01:08<02:27,  1.83it/s]"
     ]
    },
    {
     "name": "stdout",
     "output_type": "stream",
     "text": [
      "the car is sitting upside down while the person is standing rightside up\n",
      "the car is sitting rightside up while the person is standing upside down\n"
     ]
    },
    {
     "name": "stderr",
     "output_type": "stream",
     "text": [
      " 32%|███▎      | 130/400 [01:09<02:20,  1.93it/s]"
     ]
    },
    {
     "name": "stdout",
     "output_type": "stream",
     "text": [
      "the cup on the left is filled first and the cup on the right is filled second\n",
      "the cup on the left is filled second and the cup on the right is filled first\n"
     ]
    },
    {
     "name": "stderr",
     "output_type": "stream",
     "text": [
      " 33%|███▎      | 131/400 [01:10<03:00,  1.49it/s]"
     ]
    },
    {
     "name": "stdout",
     "output_type": "stream",
     "text": [
      "milk cow\n",
      "cow milk\n"
     ]
    },
    {
     "name": "stderr",
     "output_type": "stream",
     "text": [
      " 33%|███▎      | 132/400 [01:10<02:43,  1.64it/s]"
     ]
    },
    {
     "name": "stdout",
     "output_type": "stream",
     "text": [
      "there is a clock wall\n",
      "there is a wall clock\n"
     ]
    },
    {
     "name": "stderr",
     "output_type": "stream",
     "text": [
      " 33%|███▎      | 133/400 [01:10<02:32,  1.75it/s]"
     ]
    },
    {
     "name": "stdout",
     "output_type": "stream",
     "text": [
      "there is a split banana\n",
      "there is a banana split\n"
     ]
    },
    {
     "name": "stderr",
     "output_type": "stream",
     "text": [
      " 34%|███▎      | 134/400 [01:11<02:22,  1.87it/s]"
     ]
    },
    {
     "name": "stdout",
     "output_type": "stream",
     "text": [
      "there are two people and a bunch of horses\n",
      "there are a bunch of people and two horses\n"
     ]
    },
    {
     "name": "stderr",
     "output_type": "stream",
     "text": [
      " 34%|███▍      | 135/400 [01:12<02:30,  1.76it/s]"
     ]
    },
    {
     "name": "stdout",
     "output_type": "stream",
     "text": [
      "three white and two brown eggs\n",
      "two white and three brown eggs\n"
     ]
    },
    {
     "name": "stderr",
     "output_type": "stream",
     "text": [
      " 34%|███▍      | 136/400 [01:12<02:27,  1.79it/s]"
     ]
    },
    {
     "name": "stdout",
     "output_type": "stream",
     "text": [
      "the plastic is in the fish\n",
      "the fish is in the plastic\n"
     ]
    },
    {
     "name": "stderr",
     "output_type": "stream",
     "text": [
      " 34%|███▍      | 137/400 [01:13<02:23,  1.84it/s]"
     ]
    },
    {
     "name": "stdout",
     "output_type": "stream",
     "text": [
      "the dog's paw is on the cat's face\n",
      "the cat's paw is on the dog's face\n"
     ]
    },
    {
     "name": "stderr",
     "output_type": "stream",
     "text": [
      " 34%|███▍      | 138/400 [01:13<02:37,  1.67it/s]"
     ]
    },
    {
     "name": "stdout",
     "output_type": "stream",
     "text": [
      "the computer's screen is on and the phone's screen is off\n",
      "the phone's screen is on and the computer's screen is off\n"
     ]
    },
    {
     "name": "stderr",
     "output_type": "stream",
     "text": [
      " 35%|███▍      | 139/400 [01:14<02:32,  1.72it/s]"
     ]
    },
    {
     "name": "stdout",
     "output_type": "stream",
     "text": [
      "the dog is in the driver's seat and the person is in the passenger's seat\n",
      "the dog is in the passenger's seat and the person is in the driver's seat\n"
     ]
    },
    {
     "name": "stderr",
     "output_type": "stream",
     "text": [
      " 35%|███▌      | 140/400 [01:14<02:26,  1.77it/s]"
     ]
    },
    {
     "name": "stdout",
     "output_type": "stream",
     "text": [
      "there are more trees than people\n",
      "there are more people than trees\n"
     ]
    },
    {
     "name": "stderr",
     "output_type": "stream",
     "text": [
      " 35%|███▌      | 141/400 [01:15<02:25,  1.78it/s]"
     ]
    },
    {
     "name": "stdout",
     "output_type": "stream",
     "text": [
      "there are more computers than people\n",
      "there are more people than computers\n"
     ]
    },
    {
     "name": "stderr",
     "output_type": "stream",
     "text": [
      " 36%|███▌      | 142/400 [01:16<02:38,  1.63it/s]"
     ]
    },
    {
     "name": "stdout",
     "output_type": "stream",
     "text": [
      "there is more wood than metal\n",
      "there is more metal than wood\n"
     ]
    },
    {
     "name": "stderr",
     "output_type": "stream",
     "text": [
      " 36%|███▌      | 143/400 [01:16<02:33,  1.68it/s]"
     ]
    },
    {
     "name": "stdout",
     "output_type": "stream",
     "text": [
      "there are more hats than people\n",
      "there are more people than hats\n"
     ]
    },
    {
     "name": "stderr",
     "output_type": "stream",
     "text": [
      " 36%|███▌      | 144/400 [01:17<02:24,  1.77it/s]"
     ]
    },
    {
     "name": "stdout",
     "output_type": "stream",
     "text": [
      "there are more people than stools\n",
      "there are more stools than people\n"
     ]
    },
    {
     "name": "stderr",
     "output_type": "stream",
     "text": [
      " 36%|███▋      | 145/400 [01:18<02:37,  1.62it/s]"
     ]
    },
    {
     "name": "stdout",
     "output_type": "stream",
     "text": [
      "there is more red wine than white wine\n",
      "there is more white wine than red wine\n"
     ]
    },
    {
     "name": "stderr",
     "output_type": "stream",
     "text": [
      " 36%|███▋      | 146/400 [01:18<02:24,  1.76it/s]"
     ]
    },
    {
     "name": "stdout",
     "output_type": "stream",
     "text": [
      "there's more milk than coffee\n",
      "there's more coffee than milk\n"
     ]
    },
    {
     "name": "stderr",
     "output_type": "stream",
     "text": [
      " 37%|███▋      | 147/400 [01:18<02:18,  1.83it/s]"
     ]
    },
    {
     "name": "stdout",
     "output_type": "stream",
     "text": [
      "there's more cereal in the bowl than milk\n",
      "there's more milk in the bowl than cereal\n"
     ]
    },
    {
     "name": "stderr",
     "output_type": "stream",
     "text": [
      " 37%|███▋      | 148/400 [01:19<02:11,  1.92it/s]"
     ]
    },
    {
     "name": "stdout",
     "output_type": "stream",
     "text": [
      "boat sail\n",
      "sail boat\n"
     ]
    },
    {
     "name": "stderr",
     "output_type": "stream",
     "text": [
      " 37%|███▋      | 149/400 [01:19<02:10,  1.92it/s]"
     ]
    },
    {
     "name": "stdout",
     "output_type": "stream",
     "text": [
      "boat house\n",
      "house boat\n"
     ]
    },
    {
     "name": "stderr",
     "output_type": "stream",
     "text": [
      " 38%|███▊      | 150/400 [01:20<02:32,  1.64it/s]"
     ]
    },
    {
     "name": "stdout",
     "output_type": "stream",
     "text": [
      "check a rip\n",
      "rip a check\n"
     ]
    },
    {
     "name": "stderr",
     "output_type": "stream",
     "text": [
      " 38%|███▊      | 151/400 [01:21<02:21,  1.77it/s]"
     ]
    },
    {
     "name": "stdout",
     "output_type": "stream",
     "text": [
      "dress the display\n",
      "display the dress\n"
     ]
    },
    {
     "name": "stderr",
     "output_type": "stream",
     "text": [
      " 38%|███▊      | 152/400 [01:21<02:15,  1.83it/s]"
     ]
    },
    {
     "name": "stdout",
     "output_type": "stream",
     "text": [
      "spoon holding honey\n",
      "honey holding spoon\n"
     ]
    },
    {
     "name": "stderr",
     "output_type": "stream",
     "text": [
      " 38%|███▊      | 153/400 [01:22<02:34,  1.59it/s]"
     ]
    },
    {
     "name": "stdout",
     "output_type": "stream",
     "text": [
      "books holding up a person\n",
      "a person holding up books\n"
     ]
    },
    {
     "name": "stderr",
     "output_type": "stream",
     "text": [
      " 38%|███▊      | 154/400 [01:23<02:24,  1.70it/s]"
     ]
    },
    {
     "name": "stdout",
     "output_type": "stream",
     "text": [
      "a dog is using a wheelchair next to a person\n",
      "a person is using a wheelchair next to a dog\n"
     ]
    },
    {
     "name": "stderr",
     "output_type": "stream",
     "text": [
      " 39%|███▉      | 155/400 [01:23<02:36,  1.57it/s]"
     ]
    },
    {
     "name": "stdout",
     "output_type": "stream",
     "text": [
      "some plants surrounding a lightbulb\n",
      "a lightbulb surrounding some plants\n"
     ]
    },
    {
     "name": "stderr",
     "output_type": "stream",
     "text": [
      " 39%|███▉      | 156/400 [01:24<02:24,  1.69it/s]"
     ]
    },
    {
     "name": "stdout",
     "output_type": "stream",
     "text": [
      "a more lightly-colored dog is holding a toy next to a black dog\n",
      "a black dog is holding a toy next to a more lightly-colored dog\n"
     ]
    },
    {
     "name": "stderr",
     "output_type": "stream",
     "text": [
      " 39%|███▉      | 157/400 [01:24<02:19,  1.74it/s]"
     ]
    },
    {
     "name": "stdout",
     "output_type": "stream",
     "text": [
      "the flowers are taller than the people\n",
      "the people are taller than the flowers\n"
     ]
    },
    {
     "name": "stderr",
     "output_type": "stream",
     "text": [
      " 40%|███▉      | 158/400 [01:25<02:17,  1.76it/s]"
     ]
    },
    {
     "name": "stdout",
     "output_type": "stream",
     "text": [
      "there's a human in a stroller next to a dog\n",
      "there's a dog in a stroller next to a human\n"
     ]
    },
    {
     "name": "stderr",
     "output_type": "stream",
     "text": [
      " 40%|███▉      | 159/400 [01:25<02:11,  1.84it/s]"
     ]
    },
    {
     "name": "stdout",
     "output_type": "stream",
     "text": [
      "a person is casting a shadow beside a ball\n",
      "a ball is casting a shadow beside a person\n"
     ]
    },
    {
     "name": "stderr",
     "output_type": "stream",
     "text": [
      " 40%|████      | 160/400 [01:26<02:26,  1.64it/s]"
     ]
    },
    {
     "name": "stdout",
     "output_type": "stream",
     "text": [
      "its tail is shorter than its body\n",
      "its body is shorter than its tail\n"
     ]
    },
    {
     "name": "stderr",
     "output_type": "stream",
     "text": [
      " 40%|████      | 161/400 [01:27<02:32,  1.56it/s]"
     ]
    },
    {
     "name": "stdout",
     "output_type": "stream",
     "text": [
      "the child is throwing the adult the ball\n",
      "the adult is throwing the child the ball\n"
     ]
    },
    {
     "name": "stderr",
     "output_type": "stream",
     "text": [
      " 40%|████      | 162/400 [01:27<02:22,  1.68it/s]"
     ]
    },
    {
     "name": "stdout",
     "output_type": "stream",
     "text": [
      "a person underneath lights\n",
      "lights underneath a person\n"
     ]
    },
    {
     "name": "stderr",
     "output_type": "stream",
     "text": [
      " 41%|████      | 163/400 [01:28<02:22,  1.66it/s]"
     ]
    },
    {
     "name": "stdout",
     "output_type": "stream",
     "text": [
      "some green on the ball\n",
      "the ball on some green\n"
     ]
    },
    {
     "name": "stderr",
     "output_type": "stream",
     "text": [
      " 41%|████      | 164/400 [01:28<02:13,  1.77it/s]"
     ]
    },
    {
     "name": "stdout",
     "output_type": "stream",
     "text": [
      "mind in the clouds\n",
      "clouds in the mind\n"
     ]
    },
    {
     "name": "stderr",
     "output_type": "stream",
     "text": [
      " 41%|████▏     | 165/400 [01:29<02:07,  1.84it/s]"
     ]
    },
    {
     "name": "stdout",
     "output_type": "stream",
     "text": [
      "there's a phone on a map\n",
      "there's a map on a phone\n"
     ]
    },
    {
     "name": "stderr",
     "output_type": "stream",
     "text": [
      " 42%|████▏     | 166/400 [01:29<02:02,  1.91it/s]"
     ]
    },
    {
     "name": "stdout",
     "output_type": "stream",
     "text": [
      "a person on a rock next to a dog\n",
      "a dog on a rock next to a person\n"
     ]
    },
    {
     "name": "stderr",
     "output_type": "stream",
     "text": [
      " 42%|████▏     | 167/400 [01:30<01:59,  1.95it/s]"
     ]
    },
    {
     "name": "stdout",
     "output_type": "stream",
     "text": [
      "an adult is flexing beside a child\n",
      "a child is flexing beside an adult\n"
     ]
    },
    {
     "name": "stderr",
     "output_type": "stream",
     "text": [
      " 42%|████▏     | 168/400 [01:30<01:56,  2.00it/s]"
     ]
    },
    {
     "name": "stdout",
     "output_type": "stream",
     "text": [
      "the person is looking at the dog\n",
      "the dog is looking at the person\n"
     ]
    },
    {
     "name": "stderr",
     "output_type": "stream",
     "text": [
      " 42%|████▏     | 169/400 [01:31<01:53,  2.03it/s]"
     ]
    },
    {
     "name": "stdout",
     "output_type": "stream",
     "text": [
      "a cat is underneath a red blanket\n",
      "a red blanket is underneath a cat\n"
     ]
    },
    {
     "name": "stderr",
     "output_type": "stream",
     "text": [
      " 42%|████▎     | 170/400 [01:31<01:51,  2.07it/s]"
     ]
    },
    {
     "name": "stdout",
     "output_type": "stream",
     "text": [
      "the person is bigger than the house\n",
      "the house is bigger than the person\n"
     ]
    },
    {
     "name": "stderr",
     "output_type": "stream",
     "text": [
      " 43%|████▎     | 171/400 [01:32<02:00,  1.90it/s]"
     ]
    },
    {
     "name": "stdout",
     "output_type": "stream",
     "text": [
      "the person is underneath the car\n",
      "the car is underneath the person\n"
     ]
    },
    {
     "name": "stderr",
     "output_type": "stream",
     "text": [
      " 43%|████▎     | 172/400 [01:33<02:13,  1.71it/s]"
     ]
    },
    {
     "name": "stdout",
     "output_type": "stream",
     "text": [
      "the water is filled with plastic\n",
      "the plastic is filled with water\n"
     ]
    },
    {
     "name": "stderr",
     "output_type": "stream",
     "text": [
      " 43%|████▎     | 173/400 [01:33<02:03,  1.84it/s]"
     ]
    },
    {
     "name": "stdout",
     "output_type": "stream",
     "text": [
      "an apple is on a target\n",
      "a target is on an apple\n"
     ]
    },
    {
     "name": "stderr",
     "output_type": "stream",
     "text": [
      " 44%|████▎     | 174/400 [01:34<01:59,  1.90it/s]"
     ]
    },
    {
     "name": "stdout",
     "output_type": "stream",
     "text": [
      "plant made out of a light bulb\n",
      "light bulb made out of a plant\n"
     ]
    },
    {
     "name": "stderr",
     "output_type": "stream",
     "text": [
      " 44%|████▍     | 175/400 [01:34<01:55,  1.95it/s]"
     ]
    },
    {
     "name": "stdout",
     "output_type": "stream",
     "text": [
      "parent pointing at child\n",
      "child pointing at parent\n"
     ]
    },
    {
     "name": "stderr",
     "output_type": "stream",
     "text": [
      " 44%|████▍     | 176/400 [01:35<02:06,  1.77it/s]"
     ]
    },
    {
     "name": "stdout",
     "output_type": "stream",
     "text": [
      "the person reached the base before the ball\n",
      "the ball reached the base before the person\n"
     ]
    },
    {
     "name": "stderr",
     "output_type": "stream",
     "text": [
      " 44%|████▍     | 177/400 [01:35<02:07,  1.75it/s]"
     ]
    },
    {
     "name": "stdout",
     "output_type": "stream",
     "text": [
      "ice being dumped on top of fish\n",
      "fish being dumped on top of ice\n"
     ]
    },
    {
     "name": "stderr",
     "output_type": "stream",
     "text": [
      " 44%|████▍     | 178/400 [01:36<02:08,  1.73it/s]"
     ]
    },
    {
     "name": "stdout",
     "output_type": "stream",
     "text": [
      "an adult kisses a child\n",
      "a child kisses an adult\n"
     ]
    },
    {
     "name": "stderr",
     "output_type": "stream",
     "text": [
      " 45%|████▍     | 179/400 [01:36<02:03,  1.79it/s]"
     ]
    },
    {
     "name": "stdout",
     "output_type": "stream",
     "text": [
      "there's a dog in a mask and a person beside it\n",
      "there's a dog and a person in a mask beside it\n"
     ]
    },
    {
     "name": "stderr",
     "output_type": "stream",
     "text": [
      " 45%|████▌     | 180/400 [01:37<02:02,  1.80it/s]"
     ]
    },
    {
     "name": "stdout",
     "output_type": "stream",
     "text": [
      "the baby on the phone is next to an adult\n",
      "the baby is next to an adult on the phone\n"
     ]
    },
    {
     "name": "stderr",
     "output_type": "stream",
     "text": [
      " 45%|████▌     | 181/400 [01:37<01:56,  1.88it/s]"
     ]
    },
    {
     "name": "stdout",
     "output_type": "stream",
     "text": [
      "the person on the left has their arms up and the person on the right has their arms down\n",
      "the person on the right has their arms up and the person on the left has their arms down\n"
     ]
    },
    {
     "name": "stderr",
     "output_type": "stream",
     "text": [
      " 46%|████▌     | 182/400 [01:38<01:52,  1.93it/s]"
     ]
    },
    {
     "name": "stdout",
     "output_type": "stream",
     "text": [
      "the person on the left is holding the phone and the person on the right is staring at it\n",
      "the person on the right is holding the phone and the person on the left is staring at it\n"
     ]
    },
    {
     "name": "stderr",
     "output_type": "stream",
     "text": [
      " 46%|████▌     | 183/400 [01:39<01:59,  1.82it/s]"
     ]
    },
    {
     "name": "stdout",
     "output_type": "stream",
     "text": [
      "the orange on the left is moldy while the orange on the right is fresh\n",
      "the orange on the right is moldy while the orange on the left is fresh\n"
     ]
    },
    {
     "name": "stderr",
     "output_type": "stream",
     "text": [
      " 46%|████▌     | 184/400 [01:39<01:56,  1.85it/s]"
     ]
    },
    {
     "name": "stdout",
     "output_type": "stream",
     "text": [
      "a pink scoop of ice cream on top and a blue scoop on bottom\n",
      "a pink scoop of ice cream on bottom and a blue scoop on top\n"
     ]
    },
    {
     "name": "stderr",
     "output_type": "stream",
     "text": [
      " 46%|████▋     | 185/400 [01:40<01:52,  1.91it/s]"
     ]
    },
    {
     "name": "stdout",
     "output_type": "stream",
     "text": [
      "the glasses on the right are fuller than the glasses on the left\n",
      "the glasses on the left are fuller than the glasses on the right\n"
     ]
    },
    {
     "name": "stderr",
     "output_type": "stream",
     "text": [
      " 46%|████▋     | 186/400 [01:40<01:49,  1.95it/s]"
     ]
    },
    {
     "name": "stdout",
     "output_type": "stream",
     "text": [
      "the person on the left is blowing bubbles and the person on the right is watching\n",
      "the person on the right is blowing bubbles and the person on the left is watching\n"
     ]
    },
    {
     "name": "stderr",
     "output_type": "stream",
     "text": [
      " 47%|████▋     | 187/400 [01:41<01:47,  1.98it/s]"
     ]
    },
    {
     "name": "stdout",
     "output_type": "stream",
     "text": [
      "there's more foam on the left than on the right\n",
      "there's more foam on the right than on the left\n"
     ]
    },
    {
     "name": "stderr",
     "output_type": "stream",
     "text": [
      " 47%|████▋     | 188/400 [01:41<01:45,  2.01it/s]"
     ]
    },
    {
     "name": "stdout",
     "output_type": "stream",
     "text": [
      "a fish is jumping from left to right\n",
      "a fish is jumping from right to left\n"
     ]
    },
    {
     "name": "stderr",
     "output_type": "stream",
     "text": [
      " 47%|████▋     | 189/400 [01:41<01:43,  2.03it/s]"
     ]
    },
    {
     "name": "stdout",
     "output_type": "stream",
     "text": [
      "they worked out then they drank water\n",
      "they drank water then they worked out\n"
     ]
    },
    {
     "name": "stderr",
     "output_type": "stream",
     "text": [
      " 48%|████▊     | 190/400 [01:42<01:41,  2.07it/s]"
     ]
    },
    {
     "name": "stdout",
     "output_type": "stream",
     "text": [
      "the shrimp are peeled then the shrimp are cooked\n",
      "the shrimp are cooked then the shrimp are peeled\n"
     ]
    },
    {
     "name": "stderr",
     "output_type": "stream",
     "text": [
      " 48%|████▊     | 191/400 [01:42<01:40,  2.08it/s]"
     ]
    },
    {
     "name": "stdout",
     "output_type": "stream",
     "text": [
      "the coffee is poured before it is ground\n",
      "it is ground before the coffee is poured\n"
     ]
    },
    {
     "name": "stderr",
     "output_type": "stream",
     "text": [
      " 48%|████▊     | 192/400 [01:43<01:39,  2.09it/s]"
     ]
    },
    {
     "name": "stdout",
     "output_type": "stream",
     "text": [
      "the potato is washed and then it is cut\n",
      "the potato is cut and then it is washed\n"
     ]
    },
    {
     "name": "stderr",
     "output_type": "stream",
     "text": [
      " 48%|████▊     | 193/400 [01:43<01:40,  2.06it/s]"
     ]
    },
    {
     "name": "stdout",
     "output_type": "stream",
     "text": [
      "the banana is peeled then it is sliced\n",
      "the banana is sliced then it is peeled\n"
     ]
    },
    {
     "name": "stderr",
     "output_type": "stream",
     "text": [
      " 48%|████▊     | 194/400 [01:44<01:38,  2.09it/s]"
     ]
    },
    {
     "name": "stdout",
     "output_type": "stream",
     "text": [
      "the dog is swimming and the person is standing\n",
      "the dog is standing and the person is swimming\n"
     ]
    },
    {
     "name": "stderr",
     "output_type": "stream",
     "text": [
      " 49%|████▉     | 195/400 [01:44<01:36,  2.12it/s]"
     ]
    },
    {
     "name": "stdout",
     "output_type": "stream",
     "text": [
      "the person is jumping while the cat is sitting\n",
      "the person is sitting while the cat is jumping\n"
     ]
    },
    {
     "name": "stderr",
     "output_type": "stream",
     "text": [
      " 49%|████▉     | 196/400 [01:45<01:46,  1.91it/s]"
     ]
    },
    {
     "name": "stdout",
     "output_type": "stream",
     "text": [
      "a cat is lying down and a person is stretching\n",
      "a cat is stretching and a person is lying down\n"
     ]
    },
    {
     "name": "stderr",
     "output_type": "stream",
     "text": [
      " 49%|████▉     | 197/400 [01:45<01:40,  2.01it/s]"
     ]
    },
    {
     "name": "stdout",
     "output_type": "stream",
     "text": [
      "some people are standing but more are sitting\n",
      "some people are sitting but more are standing\n"
     ]
    },
    {
     "name": "stderr",
     "output_type": "stream",
     "text": [
      " 50%|████▉     | 198/400 [01:46<01:38,  2.05it/s]"
     ]
    },
    {
     "name": "stdout",
     "output_type": "stream",
     "text": [
      "The kid throws the pancake and the adult sees it\n",
      "The kids see the pancake and the adult throws it\n"
     ]
    },
    {
     "name": "stderr",
     "output_type": "stream",
     "text": [
      " 50%|████▉     | 199/400 [01:46<01:36,  2.08it/s]"
     ]
    },
    {
     "name": "stdout",
     "output_type": "stream",
     "text": [
      "painting gray walls white\n",
      "painting white walls gray\n"
     ]
    },
    {
     "name": "stderr",
     "output_type": "stream",
     "text": [
      " 50%|█████     | 200/400 [01:47<01:44,  1.92it/s]"
     ]
    },
    {
     "name": "stdout",
     "output_type": "stream",
     "text": [
      "a shorter person wearing blue standing next to a taller person\n",
      "a taller person wearing blue standing next to a shorter person\n"
     ]
    },
    {
     "name": "stderr",
     "output_type": "stream",
     "text": [
      " 50%|█████     | 201/400 [01:47<01:41,  1.96it/s]"
     ]
    },
    {
     "name": "stdout",
     "output_type": "stream",
     "text": [
      "a person wearing a bear mask in blue on the left hand side of a person wearing a panda mask with glasses in pink\n",
      "a person wearing a panda mask with glasses in blue on the left hand side of a person wearing a bear mask in pink\n"
     ]
    },
    {
     "name": "stderr",
     "output_type": "stream",
     "text": [
      " 50%|█████     | 202/400 [01:48<01:46,  1.86it/s]"
     ]
    },
    {
     "name": "stdout",
     "output_type": "stream",
     "text": [
      "a car containing many a box\n",
      "a box containing many a car\n"
     ]
    },
    {
     "name": "stderr",
     "output_type": "stream",
     "text": [
      " 51%|█████     | 203/400 [01:48<01:39,  1.97it/s]"
     ]
    },
    {
     "name": "stdout",
     "output_type": "stream",
     "text": [
      "left is red and right is blue\n",
      "left is blue and right is red\n"
     ]
    },
    {
     "name": "stderr",
     "output_type": "stream",
     "text": [
      " 51%|█████     | 204/400 [01:49<01:37,  2.01it/s]"
     ]
    },
    {
     "name": "stdout",
     "output_type": "stream",
     "text": [
      "many a table tennis racket, just one ball\n",
      "just one table tennis racket, many a ball\n"
     ]
    },
    {
     "name": "stderr",
     "output_type": "stream",
     "text": [
      " 51%|█████▏    | 205/400 [01:50<01:48,  1.80it/s]"
     ]
    },
    {
     "name": "stdout",
     "output_type": "stream",
     "text": [
      "four lions, no tigers\n",
      "no lions, four tigers\n"
     ]
    },
    {
     "name": "stderr",
     "output_type": "stream",
     "text": [
      " 52%|█████▏    | 206/400 [01:50<01:45,  1.83it/s]"
     ]
    },
    {
     "name": "stdout",
     "output_type": "stream",
     "text": [
      "a small spherical object is heavier than a big spherical object\n",
      "a big spherical object is heavier than a small spherical object\n"
     ]
    },
    {
     "name": "stderr",
     "output_type": "stream",
     "text": [
      " 52%|█████▏    | 207/400 [01:51<01:48,  1.78it/s]"
     ]
    },
    {
     "name": "stdout",
     "output_type": "stream",
     "text": [
      "an older person blocking a younger person\n",
      "a younger person blocking an older person\n"
     ]
    },
    {
     "name": "stderr",
     "output_type": "stream",
     "text": [
      " 52%|█████▏    | 208/400 [01:51<01:46,  1.81it/s]"
     ]
    },
    {
     "name": "stdout",
     "output_type": "stream",
     "text": [
      "white land and black water\n",
      "black land and white water\n"
     ]
    },
    {
     "name": "stderr",
     "output_type": "stream",
     "text": [
      " 52%|█████▏    | 209/400 [01:52<01:47,  1.77it/s]"
     ]
    },
    {
     "name": "stdout",
     "output_type": "stream",
     "text": [
      "the cube is smaller than the shape whose lateral faces meet at a vertex\n",
      "the shape whose lateral faces meet at a vertex is smaller than the cube\n"
     ]
    },
    {
     "name": "stderr",
     "output_type": "stream",
     "text": [
      " 52%|█████▎    | 210/400 [01:52<01:47,  1.76it/s]"
     ]
    },
    {
     "name": "stdout",
     "output_type": "stream",
     "text": [
      "more bicycles than cars\n",
      "more cars than bicycles\n"
     ]
    },
    {
     "name": "stderr",
     "output_type": "stream",
     "text": [
      " 53%|█████▎    | 211/400 [01:53<01:45,  1.79it/s]"
     ]
    },
    {
     "name": "stdout",
     "output_type": "stream",
     "text": [
      "there are more apples than pears\n",
      "there are more pears than apples\n"
     ]
    },
    {
     "name": "stderr",
     "output_type": "stream",
     "text": [
      " 53%|█████▎    | 212/400 [01:53<01:40,  1.87it/s]"
     ]
    },
    {
     "name": "stdout",
     "output_type": "stream",
     "text": [
      "there is more love than hate\n",
      "there is more hate than love\n"
     ]
    },
    {
     "name": "stderr",
     "output_type": "stream",
     "text": [
      " 53%|█████▎    | 213/400 [01:54<01:47,  1.74it/s]"
     ]
    },
    {
     "name": "stdout",
     "output_type": "stream",
     "text": [
      "more water than oil\n",
      "more oil than water\n"
     ]
    },
    {
     "name": "stderr",
     "output_type": "stream",
     "text": [
      " 54%|█████▎    | 214/400 [01:55<01:47,  1.73it/s]"
     ]
    },
    {
     "name": "stdout",
     "output_type": "stream",
     "text": [
      "a person cries while another person wearing jewelry above their shoulders consoles\n",
      "a person consoles while another person wearing jewelry above their shoulders cries\n"
     ]
    },
    {
     "name": "stderr",
     "output_type": "stream",
     "text": [
      " 54%|█████▍    | 215/400 [01:55<01:46,  1.74it/s]"
     ]
    },
    {
     "name": "stdout",
     "output_type": "stream",
     "text": [
      "a person with long hair eating a meat-based product while a person with short hair snacks on some fries\n",
      "a person with short hair eating a meat-based product while a person with long hair snacks on some fries\n"
     ]
    },
    {
     "name": "stderr",
     "output_type": "stream",
     "text": [
      " 54%|█████▍    | 216/400 [01:56<01:52,  1.64it/s]"
     ]
    },
    {
     "name": "stdout",
     "output_type": "stream",
     "text": [
      "water below the boat\n",
      "boat below the water\n"
     ]
    },
    {
     "name": "stderr",
     "output_type": "stream",
     "text": [
      " 54%|█████▍    | 217/400 [01:56<01:45,  1.73it/s]"
     ]
    },
    {
     "name": "stdout",
     "output_type": "stream",
     "text": [
      "the one in front is faster than the other one\n",
      "the other one is faster than the one in front\n"
     ]
    },
    {
     "name": "stderr",
     "output_type": "stream",
     "text": [
      " 55%|█████▍    | 218/400 [01:57<01:39,  1.83it/s]"
     ]
    },
    {
     "name": "stdout",
     "output_type": "stream",
     "text": [
      "You can catch more flies with honey than you can with vinegar\n",
      "You can catch more flies with vinegar than you can with honey\n"
     ]
    },
    {
     "name": "stderr",
     "output_type": "stream",
     "text": [
      " 55%|█████▍    | 219/400 [01:57<01:34,  1.91it/s]"
     ]
    },
    {
     "name": "stdout",
     "output_type": "stream",
     "text": [
      "It starts with \"A\" and ends with \"Z\"\n",
      "It starts with \"Z\" and ends with \"A\"\n"
     ]
    },
    {
     "name": "stderr",
     "output_type": "stream",
     "text": [
      " 55%|█████▌    | 220/400 [01:58<01:33,  1.92it/s]"
     ]
    },
    {
     "name": "stdout",
     "output_type": "stream",
     "text": [
      "a shadow within the line\n",
      "a line within the shadow\n"
     ]
    },
    {
     "name": "stderr",
     "output_type": "stream",
     "text": [
      " 55%|█████▌    | 221/400 [01:59<01:43,  1.73it/s]"
     ]
    },
    {
     "name": "stdout",
     "output_type": "stream",
     "text": [
      "the brave in the face of fear\n",
      "fear in the face of the brave\n"
     ]
    },
    {
     "name": "stderr",
     "output_type": "stream",
     "text": [
      " 56%|█████▌    | 222/400 [01:59<01:36,  1.84it/s]"
     ]
    },
    {
     "name": "stdout",
     "output_type": "stream",
     "text": [
      "I need my strength back\n",
      "I need my back strength\n"
     ]
    },
    {
     "name": "stderr",
     "output_type": "stream",
     "text": [
      " 56%|█████▌    | 223/400 [02:00<01:31,  1.94it/s]"
     ]
    },
    {
     "name": "stdout",
     "output_type": "stream",
     "text": [
      "the one in the middle is taller than the ones on the side are\n",
      "the ones on the side are taller than the one in the middle is\n"
     ]
    },
    {
     "name": "stderr",
     "output_type": "stream",
     "text": [
      " 56%|█████▌    | 224/400 [02:00<01:26,  2.03it/s]"
     ]
    },
    {
     "name": "stdout",
     "output_type": "stream",
     "text": [
      "fish flying\n",
      "fly fishing\n"
     ]
    },
    {
     "name": "stderr",
     "output_type": "stream",
     "text": [
      " 56%|█████▋    | 225/400 [02:00<01:23,  2.10it/s]"
     ]
    },
    {
     "name": "stdout",
     "output_type": "stream",
     "text": [
      "the red car is behind the blue car\n"
     ]
    },
    {
     "name": "stderr",
     "output_type": "stream",
     "text": [
      " 56%|█████▋    | 226/400 [02:01<01:21,  2.14it/s]"
     ]
    },
    {
     "name": "stdout",
     "output_type": "stream",
     "text": [
      "the blue car is behind the red car\n",
      "the driver wearing a shirt is in front of the other person wearing a sleeveless top\n",
      "the driver wearing a sleeveless top is in front of the other person wearing a shirt\n"
     ]
    },
    {
     "name": "stderr",
     "output_type": "stream",
     "text": [
      " 57%|█████▋    | 227/400 [02:01<01:26,  2.01it/s]"
     ]
    },
    {
     "name": "stdout",
     "output_type": "stream",
     "text": [
      "an object that rolls is on some wood\n",
      "some wood is on an object that rolls\n"
     ]
    },
    {
     "name": "stderr",
     "output_type": "stream",
     "text": [
      " 57%|█████▋    | 228/400 [02:02<01:23,  2.07it/s]"
     ]
    },
    {
     "name": "stdout",
     "output_type": "stream",
     "text": [
      "a cat viewing a human on a screen\n",
      "a human viewing a cat on a screen\n"
     ]
    },
    {
     "name": "stderr",
     "output_type": "stream",
     "text": [
      " 57%|█████▋    | 229/400 [02:02<01:26,  1.98it/s]"
     ]
    },
    {
     "name": "stdout",
     "output_type": "stream",
     "text": [
      "a normal person wishing they were a superhero\n",
      "a superhero wishing they were a normal person\n"
     ]
    },
    {
     "name": "stderr",
     "output_type": "stream",
     "text": [
      " 57%|█████▊    | 230/400 [02:03<01:24,  2.02it/s]"
     ]
    },
    {
     "name": "stdout",
     "output_type": "stream",
     "text": [
      "a mike in the right hand while raising the left\n",
      "a mike in the left hand while raising the right\n"
     ]
    },
    {
     "name": "stderr",
     "output_type": "stream",
     "text": [
      " 58%|█████▊    | 231/400 [02:03<01:25,  1.99it/s]"
     ]
    },
    {
     "name": "stdout",
     "output_type": "stream",
     "text": [
      "a person with long hair behind a person with a beard\n",
      "a person with a beard behind a person with long hair\n"
     ]
    },
    {
     "name": "stderr",
     "output_type": "stream",
     "text": [
      " 58%|█████▊    | 232/400 [02:04<01:34,  1.78it/s]"
     ]
    },
    {
     "name": "stdout",
     "output_type": "stream",
     "text": [
      "the person with hair to their shoulders has brown eyes and the other person's are blue\n",
      "the person with hair to their shoulders has blue eyes and the other person's are brown\n"
     ]
    },
    {
     "name": "stderr",
     "output_type": "stream",
     "text": [
      " 58%|█████▊    | 233/400 [02:05<01:30,  1.85it/s]"
     ]
    },
    {
     "name": "stdout",
     "output_type": "stream",
     "text": [
      "a human being on a device that intercepts the sun's rays\n",
      "a device that intercepts the sun's rays on a human being\n"
     ]
    },
    {
     "name": "stderr",
     "output_type": "stream",
     "text": [
      " 58%|█████▊    | 234/400 [02:06<01:48,  1.54it/s]"
     ]
    },
    {
     "name": "stdout",
     "output_type": "stream",
     "text": [
      "more humans than phones\n",
      "more phones than humans\n"
     ]
    },
    {
     "name": "stderr",
     "output_type": "stream",
     "text": [
      " 59%|█████▉    | 235/400 [02:06<01:44,  1.58it/s]"
     ]
    },
    {
     "name": "stdout",
     "output_type": "stream",
     "text": [
      "a person is in the tube\n",
      "a tube is in the person\n"
     ]
    },
    {
     "name": "stderr",
     "output_type": "stream",
     "text": [
      " 59%|█████▉    | 236/400 [02:07<01:46,  1.55it/s]"
     ]
    },
    {
     "name": "stdout",
     "output_type": "stream",
     "text": [
      "the person's head is above the rest of their body\n",
      "the rest of their body is above the person's head\n"
     ]
    },
    {
     "name": "stderr",
     "output_type": "stream",
     "text": [
      " 59%|█████▉    | 237/400 [02:07<01:37,  1.67it/s]"
     ]
    },
    {
     "name": "stdout",
     "output_type": "stream",
     "text": [
      "person overboard\n",
      "person over board\n"
     ]
    },
    {
     "name": "stderr",
     "output_type": "stream",
     "text": [
      " 60%|█████▉    | 238/400 [02:08<01:33,  1.74it/s]"
     ]
    },
    {
     "name": "stdout",
     "output_type": "stream",
     "text": [
      "more red buttons than blue\n",
      "more blue buttons than red\n"
     ]
    },
    {
     "name": "stderr",
     "output_type": "stream",
     "text": [
      " 60%|█████▉    | 239/400 [02:08<01:28,  1.82it/s]"
     ]
    },
    {
     "name": "stdout",
     "output_type": "stream",
     "text": [
      "the object at the top left is purple and the one at the bottom right of the group is red\n",
      "the object at the bottom right is purple and the one at the top left of the group is red\n"
     ]
    },
    {
     "name": "stderr",
     "output_type": "stream",
     "text": [
      " 60%|██████    | 240/400 [02:09<01:27,  1.84it/s]"
     ]
    },
    {
     "name": "stdout",
     "output_type": "stream",
     "text": [
      "flat at the bottom and pointy on top\n",
      "flat on top and pointy at the bottom\n"
     ]
    },
    {
     "name": "stderr",
     "output_type": "stream",
     "text": [
      " 60%|██████    | 241/400 [02:09<01:31,  1.75it/s]"
     ]
    },
    {
     "name": "stdout",
     "output_type": "stream",
     "text": [
      "seat numbers increasing from left to right\n",
      "seat numbers increasing from right to left\n"
     ]
    },
    {
     "name": "stderr",
     "output_type": "stream",
     "text": [
      " 60%|██████    | 242/400 [02:10<01:26,  1.82it/s]"
     ]
    },
    {
     "name": "stdout",
     "output_type": "stream",
     "text": [
      "the number on the right is larger than the number on the left\n",
      "the number on the left is larger than the number on the right\n"
     ]
    },
    {
     "name": "stderr",
     "output_type": "stream",
     "text": [
      " 61%|██████    | 243/400 [02:10<01:22,  1.89it/s]"
     ]
    },
    {
     "name": "stdout",
     "output_type": "stream",
     "text": [
      "more hair on the person's face than on their head\n",
      "more hair on the person's head than on their face\n"
     ]
    },
    {
     "name": "stderr",
     "output_type": "stream",
     "text": [
      " 61%|██████    | 244/400 [02:11<01:19,  1.96it/s]"
     ]
    },
    {
     "name": "stdout",
     "output_type": "stream",
     "text": [
      "the knife on the left and the fork on the right\n",
      "the knife on the right and the fork on the left\n"
     ]
    },
    {
     "name": "stderr",
     "output_type": "stream",
     "text": [
      " 61%|██████▏   | 245/400 [02:11<01:21,  1.91it/s]"
     ]
    },
    {
     "name": "stdout",
     "output_type": "stream",
     "text": [
      "food on their eyes\n",
      "eyes on their food\n"
     ]
    },
    {
     "name": "stderr",
     "output_type": "stream",
     "text": [
      " 62%|██████▏   | 246/400 [02:12<01:20,  1.90it/s]"
     ]
    },
    {
     "name": "stdout",
     "output_type": "stream",
     "text": [
      "cars of bits\n",
      "bits of cars\n"
     ]
    },
    {
     "name": "stderr",
     "output_type": "stream",
     "text": [
      " 62%|██████▏   | 247/400 [02:13<01:20,  1.90it/s]"
     ]
    },
    {
     "name": "stdout",
     "output_type": "stream",
     "text": [
      "a person on top of the world\n",
      "the world on top of a person\n"
     ]
    },
    {
     "name": "stderr",
     "output_type": "stream",
     "text": [
      " 62%|██████▏   | 248/400 [02:13<01:17,  1.95it/s]"
     ]
    },
    {
     "name": "stdout",
     "output_type": "stream",
     "text": [
      "two people; the one on the right has curly hair and the one on the left doesn't\n",
      "two people; the one on the left has curly hair and the one on the right doesn't\n"
     ]
    },
    {
     "name": "stderr",
     "output_type": "stream",
     "text": [
      " 62%|██████▏   | 249/400 [02:13<01:14,  2.02it/s]"
     ]
    },
    {
     "name": "stdout",
     "output_type": "stream",
     "text": [
      "first the cream, then the jam\n",
      "first the jam, then the cream\n"
     ]
    },
    {
     "name": "stderr",
     "output_type": "stream",
     "text": [
      " 62%|██████▎   | 250/400 [02:14<01:23,  1.80it/s]"
     ]
    },
    {
     "name": "stdout",
     "output_type": "stream",
     "text": [
      "more kisses than hugs\n",
      "more hugs than kisses\n"
     ]
    },
    {
     "name": "stderr",
     "output_type": "stream",
     "text": [
      " 63%|██████▎   | 251/400 [02:15<01:21,  1.84it/s]"
     ]
    },
    {
     "name": "stdout",
     "output_type": "stream",
     "text": [
      "an inflatable flamingo on a person\n",
      "a person on an inflatable flamingo\n"
     ]
    },
    {
     "name": "stderr",
     "output_type": "stream",
     "text": [
      " 63%|██████▎   | 252/400 [02:15<01:15,  1.95it/s]"
     ]
    },
    {
     "name": "stdout",
     "output_type": "stream",
     "text": [
      "a pink bird with a white beak\n",
      "a white bird with a pink beak\n"
     ]
    },
    {
     "name": "stderr",
     "output_type": "stream",
     "text": [
      " 63%|██████▎   | 253/400 [02:16<01:12,  2.04it/s]"
     ]
    },
    {
     "name": "stdout",
     "output_type": "stream",
     "text": [
      "a large pink inflatable flamingo along with some other lilos on the water including one that is mostly white\n",
      "a large white inflatable flamingo along with some other lilos on the water including one that is mostly pink\n"
     ]
    },
    {
     "name": "stderr",
     "output_type": "stream",
     "text": [
      " 64%|██████▎   | 254/400 [02:16<01:09,  2.09it/s]"
     ]
    },
    {
     "name": "stdout",
     "output_type": "stream",
     "text": [
      "there are more eyes in the image than there are on a typical human\n",
      "there are more eyes on a typical human than there are in the image\n"
     ]
    },
    {
     "name": "stderr",
     "output_type": "stream",
     "text": [
      " 64%|██████▍   | 255/400 [02:17<01:09,  2.09it/s]"
     ]
    },
    {
     "name": "stdout",
     "output_type": "stream",
     "text": [
      "the confident doctor's stethoscope is around their neck, and their jacket is over their name tag\n",
      "the confident doctor's stethoscope is around their neck, and their name tag is over their jacket\n"
     ]
    },
    {
     "name": "stderr",
     "output_type": "stream",
     "text": [
      " 64%|██████▍   | 256/400 [02:17<01:09,  2.08it/s]"
     ]
    },
    {
     "name": "stdout",
     "output_type": "stream",
     "text": [
      "few wind turbines and many clouds\n",
      "few clouds and many wind turbines\n"
     ]
    },
    {
     "name": "stderr",
     "output_type": "stream",
     "text": [
      " 64%|██████▍   | 257/400 [02:17<01:06,  2.16it/s]"
     ]
    },
    {
     "name": "stdout",
     "output_type": "stream",
     "text": [
      "an adult is reading to their young child\n",
      "their young child is reading to an adult\n"
     ]
    },
    {
     "name": "stderr",
     "output_type": "stream",
     "text": [
      " 64%|██████▍   | 258/400 [02:18<01:07,  2.12it/s]"
     ]
    },
    {
     "name": "stdout",
     "output_type": "stream",
     "text": [
      "the shopping basket is full and the shelves on the person's right are empty\n",
      "the shelves on the person's right are full and the shopping basket is empty\n"
     ]
    },
    {
     "name": "stderr",
     "output_type": "stream",
     "text": [
      " 65%|██████▍   | 259/400 [02:18<01:05,  2.16it/s]"
     ]
    },
    {
     "name": "stdout",
     "output_type": "stream",
     "text": [
      "Young person playing baseball with a green bat and blue ball\n",
      "Young person playing baseball with a blue bat and green ball\n"
     ]
    },
    {
     "name": "stderr",
     "output_type": "stream",
     "text": [
      " 65%|██████▌   | 260/400 [02:19<01:03,  2.20it/s]"
     ]
    },
    {
     "name": "stdout",
     "output_type": "stream",
     "text": [
      "painting the white wall red\n",
      "painting the red wall white\n"
     ]
    },
    {
     "name": "stderr",
     "output_type": "stream",
     "text": [
      " 65%|██████▌   | 261/400 [02:19<01:13,  1.90it/s]"
     ]
    },
    {
     "name": "stdout",
     "output_type": "stream",
     "text": [
      "wearing a red jacket over blue\n",
      "wearing a blue jacket over red\n"
     ]
    },
    {
     "name": "stderr",
     "output_type": "stream",
     "text": [
      " 66%|██████▌   | 262/400 [02:20<01:10,  1.96it/s]"
     ]
    },
    {
     "name": "stdout",
     "output_type": "stream",
     "text": [
      "I had cleaned my car\n",
      "I had my car cleaned\n"
     ]
    },
    {
     "name": "stderr",
     "output_type": "stream",
     "text": [
      " 66%|██████▌   | 263/400 [02:20<01:07,  2.03it/s]"
     ]
    },
    {
     "name": "stdout",
     "output_type": "stream",
     "text": [
      "unfortunate poor people\n",
      "poor unfortunate people\n"
     ]
    },
    {
     "name": "stderr",
     "output_type": "stream",
     "text": [
      " 66%|██████▌   | 264/400 [02:21<01:10,  1.93it/s]"
     ]
    },
    {
     "name": "stdout",
     "output_type": "stream",
     "text": [
      "there are less gloves than masks\n",
      "there are less masks than gloves\n"
     ]
    },
    {
     "name": "stderr",
     "output_type": "stream",
     "text": [
      " 66%|██████▋   | 265/400 [02:21<01:07,  1.99it/s]"
     ]
    },
    {
     "name": "stdout",
     "output_type": "stream",
     "text": [
      "there are more pineapples than boxes\n",
      "there are more boxes than pineapples\n"
     ]
    },
    {
     "name": "stderr",
     "output_type": "stream",
     "text": [
      " 66%|██████▋   | 266/400 [02:22<01:05,  2.04it/s]"
     ]
    },
    {
     "name": "stdout",
     "output_type": "stream",
     "text": [
      "the outer bristles are blue and the inner ones are white\n",
      "the outer bristles are white and the inner ones are blue\n"
     ]
    },
    {
     "name": "stderr",
     "output_type": "stream",
     "text": [
      " 67%|██████▋   | 267/400 [02:22<01:02,  2.13it/s]"
     ]
    },
    {
     "name": "stdout",
     "output_type": "stream",
     "text": [
      "the first vowel is E and the last consonant is N\n",
      "the last vowel is E and the first consonant is N\n"
     ]
    },
    {
     "name": "stderr",
     "output_type": "stream",
     "text": [
      " 67%|██████▋   | 268/400 [02:23<01:12,  1.81it/s]"
     ]
    },
    {
     "name": "stdout",
     "output_type": "stream",
     "text": [
      "the cat on the left of the photo has its right paw ahead of its left\n",
      "the cat on the left of the photo has its left paw ahead of its right\n"
     ]
    },
    {
     "name": "stderr",
     "output_type": "stream",
     "text": [
      " 67%|██████▋   | 269/400 [02:24<01:09,  1.88it/s]"
     ]
    },
    {
     "name": "stdout",
     "output_type": "stream",
     "text": [
      "the text is black on white\n",
      "the text is white on black\n"
     ]
    },
    {
     "name": "stderr",
     "output_type": "stream",
     "text": [
      " 68%|██████▊   | 270/400 [02:24<01:05,  1.97it/s]"
     ]
    },
    {
     "name": "stdout",
     "output_type": "stream",
     "text": [
      "the dog sits and the cat stands\n",
      "the dog stands and the cat sits\n"
     ]
    },
    {
     "name": "stderr",
     "output_type": "stream",
     "text": [
      " 68%|██████▊   | 271/400 [02:25<01:08,  1.89it/s]"
     ]
    },
    {
     "name": "stdout",
     "output_type": "stream",
     "text": [
      "the person with facial hair cycles and the other person runs\n",
      "the person with facial hair runs and the other person cycles\n"
     ]
    },
    {
     "name": "stderr",
     "output_type": "stream",
     "text": [
      " 68%|██████▊   | 272/400 [02:25<01:06,  1.92it/s]"
     ]
    },
    {
     "name": "stdout",
     "output_type": "stream",
     "text": [
      "using the laptop while the guitar is close by\n",
      "using the guitar while the laptop is close by\n"
     ]
    },
    {
     "name": "stderr",
     "output_type": "stream",
     "text": [
      " 68%|██████▊   | 273/400 [02:26<01:14,  1.71it/s]"
     ]
    },
    {
     "name": "stdout",
     "output_type": "stream",
     "text": [
      "a person in a blue coat with a brown-ish coffee cup\n",
      "a person in a brown-ish coat with a blue coffee cup\n"
     ]
    },
    {
     "name": "stderr",
     "output_type": "stream",
     "text": [
      " 68%|██████▊   | 274/400 [02:26<01:10,  1.79it/s]"
     ]
    },
    {
     "name": "stdout",
     "output_type": "stream",
     "text": [
      "space in a star\n",
      "a star in space\n"
     ]
    },
    {
     "name": "stderr",
     "output_type": "stream",
     "text": [
      " 69%|██████▉   | 275/400 [02:27<01:16,  1.63it/s]"
     ]
    },
    {
     "name": "stdout",
     "output_type": "stream",
     "text": [
      "star of death\n",
      "death of star\n"
     ]
    },
    {
     "name": "stderr",
     "output_type": "stream",
     "text": [
      " 69%|██████▉   | 276/400 [02:28<01:10,  1.77it/s]"
     ]
    },
    {
     "name": "stdout",
     "output_type": "stream",
     "text": [
      "the younger person is making noise while the other is silent\n",
      "the younger person is silent while the other is making noise\n"
     ]
    },
    {
     "name": "stderr",
     "output_type": "stream",
     "text": [
      " 69%|██████▉   | 277/400 [02:28<01:05,  1.88it/s]"
     ]
    },
    {
     "name": "stdout",
     "output_type": "stream",
     "text": [
      "the one on the left is happy and the other is sad\n",
      "the one on the left is sad and the other is happy\n"
     ]
    },
    {
     "name": "stderr",
     "output_type": "stream",
     "text": [
      " 70%|██████▉   | 278/400 [02:29<01:08,  1.77it/s]"
     ]
    },
    {
     "name": "stdout",
     "output_type": "stream",
     "text": [
      "the person on the left is dancing and the person on the very right is sitting on the sofa\n",
      "the person on the left is sitting on the sofa and the person on the very right is dancing\n"
     ]
    },
    {
     "name": "stderr",
     "output_type": "stream",
     "text": [
      " 70%|██████▉   | 279/400 [02:29<01:05,  1.86it/s]"
     ]
    },
    {
     "name": "stdout",
     "output_type": "stream",
     "text": [
      "the person on the left is crying sadly while the one on the right is smiling happily\n",
      "the person on the left is smiling happily while the one on the right is crying sadly\n"
     ]
    },
    {
     "name": "stderr",
     "output_type": "stream",
     "text": [
      " 70%|███████   | 280/400 [02:30<01:02,  1.91it/s]"
     ]
    },
    {
     "name": "stdout",
     "output_type": "stream",
     "text": [
      "the large person is drinking from the small coffee cup\n",
      "the small person is drinking from the large coffee cup\n"
     ]
    },
    {
     "name": "stderr",
     "output_type": "stream",
     "text": [
      " 70%|███████   | 281/400 [02:30<00:59,  1.99it/s]"
     ]
    },
    {
     "name": "stdout",
     "output_type": "stream",
     "text": [
      "hot rubber and cool metal\n",
      "cool rubber and hot metal\n"
     ]
    },
    {
     "name": "stderr",
     "output_type": "stream",
     "text": [
      " 70%|███████   | 282/400 [02:30<00:58,  2.03it/s]"
     ]
    },
    {
     "name": "stdout",
     "output_type": "stream",
     "text": [
      "the triangular shape is beneath the square one\n",
      "the square shape is beneath the triangular one\n"
     ]
    },
    {
     "name": "stderr",
     "output_type": "stream",
     "text": [
      " 71%|███████   | 283/400 [02:31<00:56,  2.08it/s]"
     ]
    },
    {
     "name": "stdout",
     "output_type": "stream",
     "text": [
      "rough outside but smooth inside\n",
      "smooth outside but rough inside\n"
     ]
    },
    {
     "name": "stderr",
     "output_type": "stream",
     "text": [
      " 71%|███████   | 284/400 [02:31<00:54,  2.12it/s]"
     ]
    },
    {
     "name": "stdout",
     "output_type": "stream",
     "text": [
      "the green one is fast and the one in white is comparatively slow\n",
      "the green one is slow and the one in white is comparatively fast\n"
     ]
    },
    {
     "name": "stderr",
     "output_type": "stream",
     "text": [
      " 71%|███████▏  | 285/400 [02:32<00:58,  1.98it/s]"
     ]
    },
    {
     "name": "stdout",
     "output_type": "stream",
     "text": [
      "there are more humans than balls\n",
      "there are more balls than humans\n"
     ]
    },
    {
     "name": "stderr",
     "output_type": "stream",
     "text": [
      " 72%|███████▏  | 286/400 [02:33<01:01,  1.84it/s]"
     ]
    },
    {
     "name": "stdout",
     "output_type": "stream",
     "text": [
      "there are more legs than wheels\n",
      "there are more wheels than legs\n"
     ]
    },
    {
     "name": "stderr",
     "output_type": "stream",
     "text": [
      " 72%|███████▏  | 287/400 [02:33<00:59,  1.89it/s]"
     ]
    },
    {
     "name": "stdout",
     "output_type": "stream",
     "text": [
      "a group of three people with longer hair and two with short hair in a business context\n",
      "a group of two people with longer hair and three with short hair in a business context\n"
     ]
    },
    {
     "name": "stderr",
     "output_type": "stream",
     "text": [
      " 72%|███████▏  | 288/400 [02:34<01:01,  1.81it/s]"
     ]
    },
    {
     "name": "stdout",
     "output_type": "stream",
     "text": [
      "the gesture of the person sitting down is supporting the understanding of the person standing up\n",
      "the gesture of the person standing up is supporting the understanding of the person sitting down\n"
     ]
    },
    {
     "name": "stderr",
     "output_type": "stream",
     "text": [
      " 72%|███████▏  | 289/400 [02:34<00:59,  1.86it/s]"
     ]
    },
    {
     "name": "stdout",
     "output_type": "stream",
     "text": [
      "the circle is above the cross\n",
      "the cross is above the circle\n"
     ]
    },
    {
     "name": "stderr",
     "output_type": "stream",
     "text": [
      " 72%|███████▎  | 290/400 [02:35<01:00,  1.82it/s]"
     ]
    },
    {
     "name": "stdout",
     "output_type": "stream",
     "text": [
      "aerial view of a green tree in the brown freshly turned soil next to a green field\n",
      "aerial view of a green tree in a green field next to the brown freshly turned soil\n"
     ]
    },
    {
     "name": "stderr",
     "output_type": "stream",
     "text": [
      " 73%|███████▎  | 291/400 [02:35<00:56,  1.91it/s]"
     ]
    },
    {
     "name": "stdout",
     "output_type": "stream",
     "text": [
      "physical therapist inspecting blue elastic therapeutic kinesio tape over pink\n",
      "physical therapist inspecting pink elastic therapeutic kinesio tape over blue\n"
     ]
    },
    {
     "name": "stderr",
     "output_type": "stream",
     "text": [
      " 73%|███████▎  | 292/400 [02:36<00:53,  2.01it/s]"
     ]
    },
    {
     "name": "stdout",
     "output_type": "stream",
     "text": [
      "the skipping rope color is different to the shoelaces but similar to the shoes\n",
      "the skipping rope color is similar to the shoelaces but different to the shoes\n"
     ]
    },
    {
     "name": "stderr",
     "output_type": "stream",
     "text": [
      " 73%|███████▎  | 293/400 [02:36<00:53,  2.00it/s]"
     ]
    },
    {
     "name": "stdout",
     "output_type": "stream",
     "text": [
      "the blue balloon is being lifted by the weight\n",
      "the weight is being lifted by the blue balloon\n"
     ]
    },
    {
     "name": "stderr",
     "output_type": "stream",
     "text": [
      " 74%|███████▎  | 294/400 [02:37<00:50,  2.08it/s]"
     ]
    },
    {
     "name": "stdout",
     "output_type": "stream",
     "text": [
      "the sea is rough but the rocks are smooth\n",
      "the sea is smooth but the rocks are rough\n"
     ]
    },
    {
     "name": "stderr",
     "output_type": "stream",
     "text": [
      " 74%|███████▍  | 295/400 [02:37<00:52,  2.01it/s]"
     ]
    },
    {
     "name": "stdout",
     "output_type": "stream",
     "text": [
      "the melting white food is cold while the brown is warm\n",
      "the melting white food is warm while the brown is cold\n"
     ]
    },
    {
     "name": "stderr",
     "output_type": "stream",
     "text": [
      " 74%|███████▍  | 296/400 [02:38<00:50,  2.05it/s]"
     ]
    },
    {
     "name": "stdout",
     "output_type": "stream",
     "text": [
      "the person with a beard is smiling while the person with long hair is not\n",
      "the person with long hair is smiling while the person with a beard is not\n"
     ]
    },
    {
     "name": "stderr",
     "output_type": "stream",
     "text": [
      " 74%|███████▍  | 297/400 [02:38<00:49,  2.09it/s]"
     ]
    },
    {
     "name": "stdout",
     "output_type": "stream",
     "text": [
      "the pet on the right is white and the one on the left is not\n",
      "the pet on the left is white and the one on the right is not\n"
     ]
    },
    {
     "name": "stderr",
     "output_type": "stream",
     "text": [
      " 74%|███████▍  | 298/400 [02:39<00:54,  1.88it/s]"
     ]
    },
    {
     "name": "stdout",
     "output_type": "stream",
     "text": [
      "the outlet carrying water from the faucet to the shower head is near the hot tap not the cold\n",
      "the outlet carrying water from the faucet to the shower head is near the cold tap not the hot\n"
     ]
    },
    {
     "name": "stderr",
     "output_type": "stream",
     "text": [
      " 75%|███████▍  | 299/400 [02:39<00:51,  1.95it/s]"
     ]
    },
    {
     "name": "stdout",
     "output_type": "stream",
     "text": [
      "the larger ball is heavier and the smaller one is lighter\n",
      "the larger ball is lighter and the smaller one is heavier\n"
     ]
    },
    {
     "name": "stderr",
     "output_type": "stream",
     "text": [
      " 75%|███████▌  | 300/400 [02:40<01:01,  1.63it/s]"
     ]
    },
    {
     "name": "stdout",
     "output_type": "stream",
     "text": [
      "The adult with the magnifying glass looks at the kid\n",
      "The adult looks at the kid with the magnifying glass\n"
     ]
    },
    {
     "name": "stderr",
     "output_type": "stream",
     "text": [
      " 75%|███████▌  | 301/400 [02:41<00:56,  1.75it/s]"
     ]
    },
    {
     "name": "stdout",
     "output_type": "stream",
     "text": [
      "a dog is on a blanket with spots\n",
      "a blanket is on a dog with spots\n"
     ]
    },
    {
     "name": "stderr",
     "output_type": "stream",
     "text": [
      " 76%|███████▌  | 302/400 [02:41<00:53,  1.84it/s]"
     ]
    },
    {
     "name": "stdout",
     "output_type": "stream",
     "text": [
      "There is a mouse cake for a birthday\n",
      "There is a birthday cake for a mouse\n"
     ]
    },
    {
     "name": "stderr",
     "output_type": "stream",
     "text": [
      " 76%|███████▌  | 303/400 [02:42<00:52,  1.85it/s]"
     ]
    },
    {
     "name": "stdout",
     "output_type": "stream",
     "text": [
      "The cold-blooded animal isn't happy in warm water\n",
      "The warm-blooded animal isn't happy in cold water\n"
     ]
    },
    {
     "name": "stderr",
     "output_type": "stream",
     "text": [
      " 76%|███████▌  | 304/400 [02:42<00:49,  1.93it/s]"
     ]
    },
    {
     "name": "stdout",
     "output_type": "stream",
     "text": [
      "The white queen is taking the black king\n",
      "The black queen is taking the white king\n"
     ]
    },
    {
     "name": "stderr",
     "output_type": "stream",
     "text": [
      " 76%|███████▋  | 305/400 [02:42<00:47,  1.99it/s]"
     ]
    },
    {
     "name": "stdout",
     "output_type": "stream",
     "text": [
      "visiting animals at home can be fun\n",
      "animals visiting at home can be fun\n"
     ]
    },
    {
     "name": "stderr",
     "output_type": "stream",
     "text": [
      " 76%|███████▋  | 306/400 [02:43<00:47,  1.99it/s]"
     ]
    },
    {
     "name": "stdout",
     "output_type": "stream",
     "text": [
      "the person is not happy with the cat\n",
      "the cat is not happy with the person\n"
     ]
    },
    {
     "name": "stderr",
     "output_type": "stream",
     "text": [
      " 77%|███████▋  | 307/400 [02:43<00:45,  2.05it/s]"
     ]
    },
    {
     "name": "stdout",
     "output_type": "stream",
     "text": [
      "the person is too big for the small door\n",
      "the door is too small for the big person\n"
     ]
    },
    {
     "name": "stderr",
     "output_type": "stream",
     "text": [
      " 77%|███████▋  | 308/400 [02:44<00:43,  2.09it/s]"
     ]
    },
    {
     "name": "stdout",
     "output_type": "stream",
     "text": [
      "a taller person is covering the eyes of a shorter person\n",
      "a shorter person is covering the eyes of a taller person\n"
     ]
    },
    {
     "name": "stderr",
     "output_type": "stream",
     "text": [
      " 77%|███████▋  | 309/400 [02:44<00:42,  2.13it/s]"
     ]
    },
    {
     "name": "stdout",
     "output_type": "stream",
     "text": [
      "the plant is eating the bug\n",
      "the bug is eating the plant\n"
     ]
    },
    {
     "name": "stderr",
     "output_type": "stream",
     "text": [
      " 78%|███████▊  | 310/400 [02:45<00:41,  2.19it/s]"
     ]
    },
    {
     "name": "stdout",
     "output_type": "stream",
     "text": [
      "every bug has a leaf\n",
      "every leaf has a bug\n"
     ]
    },
    {
     "name": "stderr",
     "output_type": "stream",
     "text": [
      " 78%|███████▊  | 311/400 [02:45<00:41,  2.16it/s]"
     ]
    },
    {
     "name": "stdout",
     "output_type": "stream",
     "text": [
      "the green leaves will soon be red as the seasons change\n",
      "the red leaves will soon be green as the seasons change\n"
     ]
    },
    {
     "name": "stderr",
     "output_type": "stream",
     "text": [
      " 78%|███████▊  | 312/400 [02:46<00:42,  2.06it/s]"
     ]
    },
    {
     "name": "stdout",
     "output_type": "stream",
     "text": [
      "the white wall will soon be painted blue\n",
      "the blue wall will soon be painted white\n"
     ]
    },
    {
     "name": "stderr",
     "output_type": "stream",
     "text": [
      " 78%|███████▊  | 313/400 [02:47<00:49,  1.76it/s]"
     ]
    },
    {
     "name": "stdout",
     "output_type": "stream",
     "text": [
      "the moon prevents the sun's rays from falling on the earth\n",
      "the earth prevents the sun's rays from falling on the moon\n"
     ]
    },
    {
     "name": "stderr",
     "output_type": "stream",
     "text": [
      " 78%|███████▊  | 314/400 [02:47<00:46,  1.86it/s]"
     ]
    },
    {
     "name": "stdout",
     "output_type": "stream",
     "text": [
      "all paper airplanes fly on a straight path except for one which takes a curved one\n",
      "all paper airplanes fly on a curved path except for one which takes a straight one\n"
     ]
    },
    {
     "name": "stderr",
     "output_type": "stream",
     "text": [
      " 79%|███████▉  | 315/400 [02:47<00:43,  1.97it/s]"
     ]
    },
    {
     "name": "stdout",
     "output_type": "stream",
     "text": [
      "the person is too big for the pants\n",
      "the pants is too big for the person\n"
     ]
    },
    {
     "name": "stderr",
     "output_type": "stream",
     "text": [
      " 79%|███████▉  | 316/400 [02:48<00:42,  1.96it/s]"
     ]
    },
    {
     "name": "stdout",
     "output_type": "stream",
     "text": [
      "a kid jumped then threw a basketball\n",
      "a kid threw a basketball then jumped\n"
     ]
    },
    {
     "name": "stderr",
     "output_type": "stream",
     "text": [
      " 79%|███████▉  | 317/400 [02:48<00:40,  2.05it/s]"
     ]
    },
    {
     "name": "stdout",
     "output_type": "stream",
     "text": [
      "one cheerlearder supporting multiple cheerleaders\n",
      "multiple cheerleaders supporting one cheerlearder\n"
     ]
    },
    {
     "name": "stderr",
     "output_type": "stream",
     "text": [
      " 80%|███████▉  | 318/400 [02:49<00:38,  2.11it/s]"
     ]
    },
    {
     "name": "stdout",
     "output_type": "stream",
     "text": [
      "two persons wearing one scarf\n",
      "one person wearing two scarfs\n"
     ]
    },
    {
     "name": "stderr",
     "output_type": "stream",
     "text": [
      " 80%|███████▉  | 319/400 [02:49<00:37,  2.13it/s]"
     ]
    },
    {
     "name": "stdout",
     "output_type": "stream",
     "text": [
      "human head on pet\n",
      "pet head on human\n"
     ]
    },
    {
     "name": "stderr",
     "output_type": "stream",
     "text": [
      " 80%|████████  | 320/400 [02:50<00:36,  2.18it/s]"
     ]
    },
    {
     "name": "stdout",
     "output_type": "stream",
     "text": [
      "the cow is over the moon\n",
      "the moon is over the cow\n"
     ]
    },
    {
     "name": "stderr",
     "output_type": "stream",
     "text": [
      " 80%|████████  | 321/400 [02:50<00:36,  2.19it/s]"
     ]
    },
    {
     "name": "stdout",
     "output_type": "stream",
     "text": [
      "someone babys a pet\n",
      "someone pets a baby\n"
     ]
    },
    {
     "name": "stderr",
     "output_type": "stream",
     "text": [
      " 80%|████████  | 322/400 [02:51<00:34,  2.26it/s]"
     ]
    },
    {
     "name": "stdout",
     "output_type": "stream",
     "text": [
      "cat house\n",
      "house cat\n"
     ]
    },
    {
     "name": "stderr",
     "output_type": "stream",
     "text": [
      " 81%|████████  | 323/400 [02:51<00:39,  1.94it/s]"
     ]
    },
    {
     "name": "stdout",
     "output_type": "stream",
     "text": [
      "gold for pan\n",
      "pan for gold\n"
     ]
    },
    {
     "name": "stderr",
     "output_type": "stream",
     "text": [
      " 81%|████████  | 324/400 [02:52<00:37,  2.05it/s]"
     ]
    },
    {
     "name": "stdout",
     "output_type": "stream",
     "text": [
      "water for plants\n",
      "plants for water\n"
     ]
    },
    {
     "name": "stderr",
     "output_type": "stream",
     "text": [
      " 81%|████████▏ | 325/400 [02:52<00:35,  2.09it/s]"
     ]
    },
    {
     "name": "stdout",
     "output_type": "stream",
     "text": [
      "the businessperson's down fall\n",
      "the businessperson's fall down\n"
     ]
    },
    {
     "name": "stderr",
     "output_type": "stream",
     "text": [
      " 82%|████████▏ | 326/400 [02:53<00:32,  2.26it/s]"
     ]
    },
    {
     "name": "stdout",
     "output_type": "stream",
     "text": [
      "outswam the person in the red swimcap\n",
      "the person in the red swimcap swamout\n"
     ]
    },
    {
     "name": "stderr",
     "output_type": "stream",
     "text": [
      " 82%|████████▏ | 327/400 [02:53<00:30,  2.38it/s]"
     ]
    },
    {
     "name": "stdout",
     "output_type": "stream",
     "text": [
      "manning a ship\n",
      "shiping a mann\n"
     ]
    },
    {
     "name": "stderr",
     "output_type": "stream",
     "text": [
      " 82%|████████▏ | 328/400 [02:53<00:28,  2.49it/s]"
     ]
    },
    {
     "name": "stdout",
     "output_type": "stream",
     "text": [
      "the person wearing a sweater stands in front of the person who isn't wearing a sweater\n",
      "the person who isn't wearing a sweater stands in front of the person wearing a sweater\n"
     ]
    },
    {
     "name": "stderr",
     "output_type": "stream",
     "text": [
      " 82%|████████▏ | 329/400 [02:54<00:36,  1.97it/s]"
     ]
    },
    {
     "name": "stdout",
     "output_type": "stream",
     "text": [
      "a person without glasses pushes a person with glasses sitting in a box\n",
      "a person with glasses pushes a person without glasses sitting in a box\n"
     ]
    },
    {
     "name": "stderr",
     "output_type": "stream",
     "text": [
      " 82%|████████▎ | 330/400 [02:54<00:35,  2.00it/s]"
     ]
    },
    {
     "name": "stdout",
     "output_type": "stream",
     "text": [
      "what is green will soon be yellow\n",
      "what is yellow will soon be green\n"
     ]
    },
    {
     "name": "stderr",
     "output_type": "stream",
     "text": [
      " 83%|████████▎ | 331/400 [02:55<00:34,  2.02it/s]"
     ]
    },
    {
     "name": "stdout",
     "output_type": "stream",
     "text": [
      "soon this animal not with a tail will have one\n",
      "soon this animal with a tail will not have one\n"
     ]
    },
    {
     "name": "stderr",
     "output_type": "stream",
     "text": [
      " 83%|████████▎ | 332/400 [02:56<00:37,  1.83it/s]"
     ]
    },
    {
     "name": "stdout",
     "output_type": "stream",
     "text": [
      "a mouse is touching a dog\n",
      "a dog is touching a mouse\n"
     ]
    },
    {
     "name": "stderr",
     "output_type": "stream",
     "text": [
      " 83%|████████▎ | 333/400 [02:56<00:36,  1.81it/s]"
     ]
    },
    {
     "name": "stdout",
     "output_type": "stream",
     "text": [
      "fishing for compliments\n",
      "compliments for fishing\n"
     ]
    },
    {
     "name": "stderr",
     "output_type": "stream",
     "text": [
      " 84%|████████▎ | 334/400 [02:57<00:35,  1.88it/s]"
     ]
    },
    {
     "name": "stdout",
     "output_type": "stream",
     "text": [
      "that person dusting off their hands\n",
      "that person hands off their dusting\n"
     ]
    },
    {
     "name": "stderr",
     "output_type": "stream",
     "text": [
      " 84%|████████▍ | 335/400 [02:57<00:33,  1.94it/s]"
     ]
    },
    {
     "name": "stdout",
     "output_type": "stream",
     "text": [
      "a person wearing black shoes cleaning a bookshelf with an orange duster while a person wearing green shoes drinks wine from an orange glass and relaxes\n",
      "a person wearing green shoes cleaning a bookshelf with an orange duster while a person wearing black shoes drinks wine from an orange glass and relaxes\n"
     ]
    },
    {
     "name": "stderr",
     "output_type": "stream",
     "text": [
      " 84%|████████▍ | 336/400 [02:58<00:32,  1.99it/s]"
     ]
    },
    {
     "name": "stdout",
     "output_type": "stream",
     "text": [
      "a person with short hair is happily ironing a light blue shirt while a person with long hair sits on a white couch\n",
      "a person with long hair is happily ironing a light blue shirt while a person with short hair sits on a white couch\n"
     ]
    },
    {
     "name": "stderr",
     "output_type": "stream",
     "text": [
      " 84%|████████▍ | 337/400 [02:58<00:31,  2.02it/s]"
     ]
    },
    {
     "name": "stdout",
     "output_type": "stream",
     "text": [
      "yellow duck shoes on\n",
      "yellow duck on shoes\n"
     ]
    },
    {
     "name": "stderr",
     "output_type": "stream",
     "text": [
      " 84%|████████▍ | 338/400 [02:59<00:30,  2.03it/s]"
     ]
    },
    {
     "name": "stdout",
     "output_type": "stream",
     "text": [
      "child in front facing row of yellow rubber ducks\n",
      "front facing child in row of yellow rubber ducks\n"
     ]
    },
    {
     "name": "stderr",
     "output_type": "stream",
     "text": [
      " 85%|████████▍ | 339/400 [02:59<00:28,  2.12it/s]"
     ]
    },
    {
     "name": "stdout",
     "output_type": "stream",
     "text": [
      "a bird cooking a person\n",
      "a person cooking a bird\n"
     ]
    },
    {
     "name": "stderr",
     "output_type": "stream",
     "text": [
      " 85%|████████▌ | 340/400 [02:59<00:27,  2.19it/s]"
     ]
    },
    {
     "name": "stdout",
     "output_type": "stream",
     "text": [
      "a person wearing yellow and a person wearing stripes jumping\n",
      "a jumping person wearing yellow and a person wearing stripes\n"
     ]
    },
    {
     "name": "stderr",
     "output_type": "stream",
     "text": [
      " 85%|████████▌ | 341/400 [03:00<00:26,  2.23it/s]"
     ]
    },
    {
     "name": "stdout",
     "output_type": "stream",
     "text": [
      "a person wearing yellow with their feet in the air and a person wearing stripes\n",
      "a person wearing stripes with their feet in the air and a person wearing yellow\n"
     ]
    },
    {
     "name": "stderr",
     "output_type": "stream",
     "text": [
      " 86%|████████▌ | 342/400 [03:00<00:25,  2.23it/s]"
     ]
    },
    {
     "name": "stdout",
     "output_type": "stream",
     "text": [
      "darker things become light in stripes\n",
      "light things in stripes become darker\n"
     ]
    },
    {
     "name": "stderr",
     "output_type": "stream",
     "text": [
      " 86%|████████▌ | 343/400 [03:01<00:25,  2.23it/s]"
     ]
    },
    {
     "name": "stdout",
     "output_type": "stream",
     "text": [
      "together hammering something\n",
      "hammering something together\n"
     ]
    },
    {
     "name": "stderr",
     "output_type": "stream",
     "text": [
      " 86%|████████▌ | 344/400 [03:01<00:26,  2.10it/s]"
     ]
    },
    {
     "name": "stdout",
     "output_type": "stream",
     "text": [
      "A person sits next to a baby using an orange screwdriver to assemble a white piece of furniture\n",
      "A baby sits next to a person using an orange screwdriver to assemble a white piece of furniture\n"
     ]
    },
    {
     "name": "stderr",
     "output_type": "stream",
     "text": [
      " 86%|████████▋ | 345/400 [03:02<00:26,  2.11it/s]"
     ]
    },
    {
     "name": "stdout",
     "output_type": "stream",
     "text": [
      "a worker in a yellow hat uses a drill to the left of where the opening in the wall is\n",
      "the opening in the wall is to the left of where a worker in a yellow hat uses a drill\n"
     ]
    },
    {
     "name": "stderr",
     "output_type": "stream",
     "text": [
      " 86%|████████▋ | 346/400 [03:02<00:25,  2.09it/s]"
     ]
    },
    {
     "name": "stdout",
     "output_type": "stream",
     "text": [
      "A small animal with curled hair\n",
      "A curled small animal with hair\n"
     ]
    },
    {
     "name": "stderr",
     "output_type": "stream",
     "text": [
      " 87%|████████▋ | 347/400 [03:03<00:24,  2.17it/s]"
     ]
    },
    {
     "name": "stdout",
     "output_type": "stream",
     "text": [
      "A right hand pulls a glove onto a left hand\n",
      "A left hand pulls a glove onto a right hand\n"
     ]
    },
    {
     "name": "stderr",
     "output_type": "stream",
     "text": [
      " 87%|████████▋ | 348/400 [03:03<00:23,  2.18it/s]"
     ]
    },
    {
     "name": "stdout",
     "output_type": "stream",
     "text": [
      "A dog and a person with their feet hanging out of a car window\n",
      "A dog with their feet hanging out of a car window and a person\n"
     ]
    },
    {
     "name": "stderr",
     "output_type": "stream",
     "text": [
      " 87%|████████▋ | 349/400 [03:04<00:23,  2.16it/s]"
     ]
    },
    {
     "name": "stdout",
     "output_type": "stream",
     "text": [
      "A person whispering into a dog's ear\n",
      "A dog whispering into a person's ear\n"
     ]
    },
    {
     "name": "stderr",
     "output_type": "stream",
     "text": [
      " 88%|████████▊ | 350/400 [03:04<00:24,  2.01it/s]"
     ]
    },
    {
     "name": "stdout",
     "output_type": "stream",
     "text": [
      "one ear that some donkey is whispering a secret into\n",
      "donkey ear that some one is whispering a secret into\n"
     ]
    },
    {
     "name": "stderr",
     "output_type": "stream",
     "text": [
      " 88%|████████▊ | 351/400 [03:05<00:23,  2.08it/s]"
     ]
    },
    {
     "name": "stdout",
     "output_type": "stream",
     "text": [
      "walking someone cut lines into green plants\n",
      "someone walking lines cut into green plants\n"
     ]
    },
    {
     "name": "stderr",
     "output_type": "stream",
     "text": [
      " 88%|████████▊ | 352/400 [03:05<00:22,  2.10it/s]"
     ]
    },
    {
     "name": "stdout",
     "output_type": "stream",
     "text": [
      "a volcano above water makes steam\n",
      "water above a volcano makes steam\n"
     ]
    },
    {
     "name": "stderr",
     "output_type": "stream",
     "text": [
      " 88%|████████▊ | 353/400 [03:06<00:24,  1.91it/s]"
     ]
    },
    {
     "name": "stdout",
     "output_type": "stream",
     "text": [
      "A child riding a bike and an adult\n",
      "A child and an adult riding a bike\n"
     ]
    },
    {
     "name": "stderr",
     "output_type": "stream",
     "text": [
      " 88%|████████▊ | 354/400 [03:06<00:24,  1.91it/s]"
     ]
    },
    {
     "name": "stdout",
     "output_type": "stream",
     "text": [
      "an adult putting a helmet on a child\n",
      "a child putting a helmet on an adult\n"
     ]
    },
    {
     "name": "stderr",
     "output_type": "stream",
     "text": [
      " 89%|████████▉ | 355/400 [03:07<00:22,  2.01it/s]"
     ]
    },
    {
     "name": "stdout",
     "output_type": "stream",
     "text": [
      "An adult wearing purple lying next to a child\n",
      "An adult lying next to a child wearing purple\n"
     ]
    },
    {
     "name": "stderr",
     "output_type": "stream",
     "text": [
      " 89%|████████▉ | 356/400 [03:07<00:20,  2.11it/s]"
     ]
    },
    {
     "name": "stdout",
     "output_type": "stream",
     "text": [
      "a fencer who is wearing black pants having a point scored against them by another fencer using a wheelchair\n",
      "a fencer having a point scored against them by another fencer who is wearing black pants using a wheelchair\n"
     ]
    },
    {
     "name": "stderr",
     "output_type": "stream",
     "text": [
      " 89%|████████▉ | 357/400 [03:08<00:21,  2.01it/s]"
     ]
    },
    {
     "name": "stdout",
     "output_type": "stream",
     "text": [
      "a person with long braids is exercising in front of a person without braids\n",
      "a person without braids is exercising in front of a person with long braids\n"
     ]
    },
    {
     "name": "stderr",
     "output_type": "stream",
     "text": [
      " 90%|████████▉ | 358/400 [03:08<00:20,  2.01it/s]"
     ]
    },
    {
     "name": "stdout",
     "output_type": "stream",
     "text": [
      "in the stadium, the person wearing gray outperformed the one wearing blue\n",
      "in the stadium, the person wearing blue outperformed the one wearing gray\n"
     ]
    },
    {
     "name": "stderr",
     "output_type": "stream",
     "text": [
      " 90%|████████▉ | 359/400 [03:09<00:19,  2.10it/s]"
     ]
    },
    {
     "name": "stdout",
     "output_type": "stream",
     "text": [
      "butchering white meat while wearing yellow but not red\n",
      "butchering red meat while wearing white but not yellow\n"
     ]
    },
    {
     "name": "stderr",
     "output_type": "stream",
     "text": [
      " 90%|█████████ | 360/400 [03:09<00:18,  2.16it/s]"
     ]
    },
    {
     "name": "stdout",
     "output_type": "stream",
     "text": [
      "a child with a fake beard and an adult\n",
      "an adult with a fake beard and a child\n"
     ]
    },
    {
     "name": "stderr",
     "output_type": "stream",
     "text": [
      " 90%|█████████ | 361/400 [03:10<00:18,  2.12it/s]"
     ]
    },
    {
     "name": "stdout",
     "output_type": "stream",
     "text": [
      "on halloween, a child dressed as an insect is to the right of a child dressed as a mammal\n",
      "on halloween, a child dressed as a mammal is to the right of a child dressed as an insect\n"
     ]
    },
    {
     "name": "stderr",
     "output_type": "stream",
     "text": [
      " 90%|█████████ | 362/400 [03:10<00:17,  2.15it/s]"
     ]
    },
    {
     "name": "stdout",
     "output_type": "stream",
     "text": [
      "a modern office complex with many windows above a nicely landscaped lawn\n",
      "a nicely landscaped lawn above a modern office complex with many windows\n"
     ]
    },
    {
     "name": "stderr",
     "output_type": "stream",
     "text": [
      " 91%|█████████ | 363/400 [03:10<00:16,  2.20it/s]"
     ]
    },
    {
     "name": "stdout",
     "output_type": "stream",
     "text": [
      "a tree is partially inside a parked car\n",
      "a parked car is partially inside a tree\n"
     ]
    },
    {
     "name": "stderr",
     "output_type": "stream",
     "text": [
      " 91%|█████████ | 364/400 [03:11<00:15,  2.25it/s]"
     ]
    },
    {
     "name": "stdout",
     "output_type": "stream",
     "text": [
      "some are parking in a train\n",
      "some are training in a park\n"
     ]
    },
    {
     "name": "stderr",
     "output_type": "stream",
     "text": [
      " 91%|█████████▏| 365/400 [03:11<00:15,  2.24it/s]"
     ]
    },
    {
     "name": "stdout",
     "output_type": "stream",
     "text": [
      "an athlete running on water\n",
      "water running on an athlete\n"
     ]
    },
    {
     "name": "stderr",
     "output_type": "stream",
     "text": [
      " 92%|█████████▏| 366/400 [03:12<00:15,  2.26it/s]"
     ]
    },
    {
     "name": "stdout",
     "output_type": "stream",
     "text": [
      "a horse getting wet\n",
      "getting a horse wet\n"
     ]
    },
    {
     "name": "stderr",
     "output_type": "stream",
     "text": [
      " 92%|█████████▏| 367/400 [03:12<00:16,  2.01it/s]"
     ]
    },
    {
     "name": "stdout",
     "output_type": "stream",
     "text": [
      "the glasses full of water are above the person's head and leg\n",
      "the person's head and leg are above the glasses full of water\n"
     ]
    },
    {
     "name": "stderr",
     "output_type": "stream",
     "text": [
      " 92%|█████████▏| 368/400 [03:13<00:15,  2.07it/s]"
     ]
    },
    {
     "name": "stdout",
     "output_type": "stream",
     "text": [
      "a person is touching the head of a squirrel\n",
      "a squirrel is touching the head of a person\n"
     ]
    },
    {
     "name": "stderr",
     "output_type": "stream",
     "text": [
      " 92%|█████████▏| 369/400 [03:13<00:14,  2.09it/s]"
     ]
    },
    {
     "name": "stdout",
     "output_type": "stream",
     "text": [
      "a deer's nose is resting on a child's hand\n",
      "a child's hand is resting on a deer's nose\n"
     ]
    },
    {
     "name": "stderr",
     "output_type": "stream",
     "text": [
      " 92%|█████████▎| 370/400 [03:14<00:14,  2.14it/s]"
     ]
    },
    {
     "name": "stdout",
     "output_type": "stream",
     "text": [
      "two sparklers for one hand\n",
      "one sparkler for two hands\n"
     ]
    },
    {
     "name": "stderr",
     "output_type": "stream",
     "text": [
      " 93%|█████████▎| 371/400 [03:14<00:13,  2.16it/s]"
     ]
    },
    {
     "name": "stdout",
     "output_type": "stream",
     "text": [
      "an animal giving a person food\n",
      "a person giving an animal food\n"
     ]
    },
    {
     "name": "stderr",
     "output_type": "stream",
     "text": [
      " 93%|█████████▎| 372/400 [03:15<00:14,  1.87it/s]"
     ]
    },
    {
     "name": "stdout",
     "output_type": "stream",
     "text": [
      "a spider towering over a dog\n",
      "a dog towering over a spider\n"
     ]
    },
    {
     "name": "stderr",
     "output_type": "stream",
     "text": [
      " 93%|█████████▎| 373/400 [03:15<00:13,  2.00it/s]"
     ]
    },
    {
     "name": "stdout",
     "output_type": "stream",
     "text": [
      "a car going into a hollow tube\n",
      "a hollow tube going into a car\n"
     ]
    },
    {
     "name": "stderr",
     "output_type": "stream",
     "text": [
      " 94%|█████████▎| 374/400 [03:16<00:12,  2.11it/s]"
     ]
    },
    {
     "name": "stdout",
     "output_type": "stream",
     "text": [
      "two people wearing clothes of the same colors are on different side of the tennis net\n",
      "two people wearing clothes of different colors are on the same side of the tennis net\n"
     ]
    },
    {
     "name": "stderr",
     "output_type": "stream",
     "text": [
      " 94%|█████████▍| 375/400 [03:16<00:13,  1.90it/s]"
     ]
    },
    {
     "name": "stdout",
     "output_type": "stream",
     "text": [
      "living things drinking\n",
      "drinking living things\n"
     ]
    },
    {
     "name": "stderr",
     "output_type": "stream",
     "text": [
      " 94%|█████████▍| 376/400 [03:17<00:12,  1.85it/s]"
     ]
    },
    {
     "name": "stdout",
     "output_type": "stream",
     "text": [
      "a person near water using a lasso\n",
      "near a person using a water lasso\n"
     ]
    },
    {
     "name": "stderr",
     "output_type": "stream",
     "text": [
      " 94%|█████████▍| 377/400 [03:17<00:11,  1.93it/s]"
     ]
    },
    {
     "name": "stdout",
     "output_type": "stream",
     "text": [
      "a person spraying water on someone else and a person on a bike\n",
      "a person spraying water on a person on a bike and someone else\n"
     ]
    },
    {
     "name": "stderr",
     "output_type": "stream",
     "text": [
      " 94%|█████████▍| 378/400 [03:18<00:10,  2.01it/s]"
     ]
    },
    {
     "name": "stdout",
     "output_type": "stream",
     "text": [
      "a person stretching behind a brown dog\n",
      "a brown dog stretching behind a person\n"
     ]
    },
    {
     "name": "stderr",
     "output_type": "stream",
     "text": [
      " 95%|█████████▍| 379/400 [03:18<00:10,  1.96it/s]"
     ]
    },
    {
     "name": "stdout",
     "output_type": "stream",
     "text": [
      "a person carrying more than one flotation device\n"
     ]
    },
    {
     "name": "stderr",
     "output_type": "stream",
     "text": [
      " 95%|█████████▌| 380/400 [03:19<00:09,  2.04it/s]"
     ]
    },
    {
     "name": "stdout",
     "output_type": "stream",
     "text": [
      "more than one flotation device carrying a person\n",
      "two kids on a pool floatie and one kid swimming\n",
      "one kid on a pool floatie and two kids swimming\n"
     ]
    },
    {
     "name": "stderr",
     "output_type": "stream",
     "text": [
      " 95%|█████████▌| 381/400 [03:19<00:09,  1.90it/s]"
     ]
    },
    {
     "name": "stdout",
     "output_type": "stream",
     "text": [
      "gears for moving something\n",
      "moving gears for something\n"
     ]
    },
    {
     "name": "stderr",
     "output_type": "stream",
     "text": [
      " 96%|█████████▌| 382/400 [03:20<00:09,  1.91it/s]"
     ]
    },
    {
     "name": "stdout",
     "output_type": "stream",
     "text": [
      "looking from above at a collection of similar objects below\n",
      "looking from below at a collection of similar objects above\n"
     ]
    },
    {
     "name": "stderr",
     "output_type": "stream",
     "text": [
      " 96%|█████████▌| 383/400 [03:20<00:08,  1.97it/s]"
     ]
    },
    {
     "name": "stdout",
     "output_type": "stream",
     "text": [
      "a toy herbivore stands on top of at least one toy carnivore\n",
      "at least one toy herbivore stands on top of a toy carnivore\n"
     ]
    },
    {
     "name": "stderr",
     "output_type": "stream",
     "text": [
      " 96%|█████████▌| 384/400 [03:21<00:09,  1.68it/s]"
     ]
    },
    {
     "name": "stdout",
     "output_type": "stream",
     "text": [
      "a person supports a small chair\n",
      "a chair supports a small person\n"
     ]
    },
    {
     "name": "stderr",
     "output_type": "stream",
     "text": [
      " 96%|█████████▋| 385/400 [03:22<00:08,  1.77it/s]"
     ]
    },
    {
     "name": "stdout",
     "output_type": "stream",
     "text": [
      "a person smiles at another person wearing a checked shirt who is hitting a ping pong ball\n",
      "a person wearing a checked shirt smiles at another person who is hitting a ping pong ball\n"
     ]
    },
    {
     "name": "stderr",
     "output_type": "stream",
     "text": [
      " 96%|█████████▋| 386/400 [03:22<00:07,  1.87it/s]"
     ]
    },
    {
     "name": "stdout",
     "output_type": "stream",
     "text": [
      "two versions of one person\n",
      "one version of two persons\n"
     ]
    },
    {
     "name": "stderr",
     "output_type": "stream",
     "text": [
      " 97%|█████████▋| 387/400 [03:23<00:07,  1.71it/s]"
     ]
    },
    {
     "name": "stdout",
     "output_type": "stream",
     "text": [
      "There are not pink flowers below the bird with yellow head feathers\n",
      "There are pink flowers not below the bird with yellow head feathers\n"
     ]
    },
    {
     "name": "stderr",
     "output_type": "stream",
     "text": [
      " 97%|█████████▋| 388/400 [03:23<00:06,  1.85it/s]"
     ]
    },
    {
     "name": "stdout",
     "output_type": "stream",
     "text": [
      "In a shopping cart, there are two animals that are the same species but are looking in different directions\n",
      "In a shopping cart, there are two animals that are the different species but are looking in same directions\n"
     ]
    },
    {
     "name": "stderr",
     "output_type": "stream",
     "text": [
      " 97%|█████████▋| 389/400 [03:24<00:05,  1.95it/s]"
     ]
    },
    {
     "name": "stdout",
     "output_type": "stream",
     "text": [
      "water is on and under a vessel\n",
      "a vessel is on and under water\n"
     ]
    },
    {
     "name": "stderr",
     "output_type": "stream",
     "text": [
      " 98%|█████████▊| 390/400 [03:24<00:04,  2.04it/s]"
     ]
    },
    {
     "name": "stdout",
     "output_type": "stream",
     "text": [
      "two bodies share with one head\n",
      "one bodies share with two head\n"
     ]
    },
    {
     "name": "stderr",
     "output_type": "stream",
     "text": [
      " 98%|█████████▊| 391/400 [03:25<00:04,  2.11it/s]"
     ]
    },
    {
     "name": "stdout",
     "output_type": "stream",
     "text": [
      "The worker wears something striped over a white undershirt with a collar\n",
      "The worker wears something white over a striped undershirt with a collar\n"
     ]
    },
    {
     "name": "stderr",
     "output_type": "stream",
     "text": [
      " 98%|█████████▊| 392/400 [03:25<00:03,  2.12it/s]"
     ]
    },
    {
     "name": "stdout",
     "output_type": "stream",
     "text": [
      "A person seen from above has a grid below them\n",
      "A person seen from below has a grid above them\n"
     ]
    },
    {
     "name": "stderr",
     "output_type": "stream",
     "text": [
      " 98%|█████████▊| 393/400 [03:26<00:03,  2.11it/s]"
     ]
    },
    {
     "name": "stdout",
     "output_type": "stream",
     "text": [
      "head in the clouds\n",
      "clouds in the head\n"
     ]
    },
    {
     "name": "stderr",
     "output_type": "stream",
     "text": [
      " 98%|█████████▊| 394/400 [03:26<00:02,  2.16it/s]"
     ]
    },
    {
     "name": "stdout",
     "output_type": "stream",
     "text": [
      "standing on feet\n",
      "on feet standing\n"
     ]
    },
    {
     "name": "stderr",
     "output_type": "stream",
     "text": [
      " 99%|█████████▉| 395/400 [03:27<00:02,  2.01it/s]"
     ]
    },
    {
     "name": "stdout",
     "output_type": "stream",
     "text": [
      "They have sunglasses over their hair\n",
      "They have hair over their sunglasses\n"
     ]
    },
    {
     "name": "stderr",
     "output_type": "stream",
     "text": [
      " 99%|█████████▉| 396/400 [03:27<00:02,  1.98it/s]"
     ]
    },
    {
     "name": "stdout",
     "output_type": "stream",
     "text": [
      "an odd number of sweet things on a plate with an even number of sides\n",
      "an even number of sweet things on a plate with an odd number of sides\n"
     ]
    },
    {
     "name": "stderr",
     "output_type": "stream",
     "text": [
      " 99%|█████████▉| 397/400 [03:28<00:01,  2.01it/s]"
     ]
    },
    {
     "name": "stdout",
     "output_type": "stream",
     "text": [
      "a large living thing in front of a large non-living thing\n",
      "a large non-living thing in front of a large living thing\n"
     ]
    },
    {
     "name": "stderr",
     "output_type": "stream",
     "text": [
      "100%|█████████▉| 398/400 [03:28<00:01,  1.99it/s]"
     ]
    },
    {
     "name": "stdout",
     "output_type": "stream",
     "text": [
      "racing over it\n",
      "racing it over\n"
     ]
    },
    {
     "name": "stderr",
     "output_type": "stream",
     "text": [
      "100%|█████████▉| 399/400 [03:29<00:00,  1.92it/s]"
     ]
    },
    {
     "name": "stdout",
     "output_type": "stream",
     "text": [
      "someone is overdoing it\n",
      "someone is doing it over\n"
     ]
    },
    {
     "name": "stderr",
     "output_type": "stream",
     "text": [
      "100%|██████████| 400/400 [03:29<00:00,  1.91it/s]\n"
     ]
    },
    {
     "ename": "AssertionError",
     "evalue": "",
     "output_type": "error",
     "traceback": [
      "\u001b[0;31m---------------------------------------------------------------------------\u001b[0m",
      "\u001b[0;31mAssertionError\u001b[0m                            Traceback (most recent call last)",
      "Input \u001b[0;32mIn [18]\u001b[0m, in \u001b[0;36m<cell line: 1>\u001b[0;34m()\u001b[0m\n\u001b[0;32m----> 1\u001b[0m \u001b[43mgpt3_zero_shot\u001b[49m\u001b[43m(\u001b[49m\u001b[38;5;124;43m'\u001b[39;49m\u001b[38;5;124;43mdavinci\u001b[39;49m\u001b[38;5;124;43m'\u001b[39;49m\u001b[43m)\u001b[49m\n",
      "Input \u001b[0;32mIn [17]\u001b[0m, in \u001b[0;36mgpt3_zero_shot\u001b[0;34m(model_name, suffix_prompt, force)\u001b[0m\n\u001b[1;32m     49\u001b[0m df[\u001b[38;5;124m\"\u001b[39m\u001b[38;5;124mlikely_caption\u001b[39m\u001b[38;5;124m\"\u001b[39m] \u001b[38;5;241m=\u001b[39m likely_captions\n\u001b[1;32m     50\u001b[0m df\u001b[38;5;241m.\u001b[39mto_csv(fname, index\u001b[38;5;241m=\u001b[39m\u001b[38;5;28;01mFalse\u001b[39;00m)\n\u001b[0;32m---> 51\u001b[0m \u001b[38;5;28;01massert\u001b[39;00m \u001b[38;5;28;01mFalse\u001b[39;00m\n\u001b[1;32m     52\u001b[0m \u001b[38;5;28;01mwith\u001b[39;00m \u001b[38;5;28mopen\u001b[39m(fname, \u001b[38;5;124m'\u001b[39m\u001b[38;5;124mw\u001b[39m\u001b[38;5;124m'\u001b[39m) \u001b[38;5;28;01mas\u001b[39;00m f:\n\u001b[1;32m     53\u001b[0m     f\u001b[38;5;241m.\u001b[39mwrite(\u001b[38;5;124m'\u001b[39m\u001b[38;5;124m'\u001b[39m)\n",
      "\u001b[0;31mAssertionError\u001b[0m: "
     ]
    }
   ],
   "source": [
    "gpt3_zero_shot('davinci')"
   ]
  },
  {
   "cell_type": "code",
   "execution_count": 70,
   "metadata": {},
   "outputs": [
    {
     "name": "stdout",
     "output_type": "stream",
     "text": [
      "about the spend $$$ on openai API (model davinci)! conitnue? [y/n]y\n"
     ]
    },
    {
     "name": "stderr",
     "output_type": "stream",
     "text": [
      "100%|██████████| 1146/1146 [09:36<00:00,  1.99it/s]\n"
     ]
    }
   ],
   "source": [
    "# gpt3_zero_shot('babbage')\n",
    "gpt3_zero_shot('davinci')"
   ]
  },
  {
   "cell_type": "markdown",
   "metadata": {},
   "source": [
    "## Get accuracy from probabilities"
   ]
  },
  {
   "cell_type": "code",
   "execution_count": 24,
   "metadata": {},
   "outputs": [],
   "source": [
    "def prob_of_ending(token_logprobs, tokens):\n",
    "    logprob_sum = 0\n",
    "    for count, (lp, t) in enumerate(zip(token_logprobs[::-1], tokens[::-1])):\n",
    "        if count > 0 and t.endswith('.'):\n",
    "            break\n",
    "        logprob_sum += lp\n",
    "    return logprob_sum / count\n",
    "\n",
    "\n",
    "def calculate_accuracy(fname):\n",
    "    with open(fname) as f:\n",
    "        logprobs = json.load(f)\n",
    "\n",
    "    correct = 0\n",
    "    for qid_label, (end1, end2) in logprobs.items():\n",
    "        end1_prob = prob_of_ending(end1['token_logprobs'], end1['tokens'])\n",
    "        end2_prob = prob_of_ending(end2['token_logprobs'], end2['tokens'])\n",
    "        label = int(qid_label[-1])\n",
    "        if (label == 0 and end1_prob > end2_prob) or (label==1 and end1_prob < end2_prob):\n",
    "            correct += 1\n",
    "\n",
    "    print(f\"correct: {correct}/{len(logprobs)} = {correct/len(logprobs)}\")"
   ]
  },
  {
   "cell_type": "code",
   "execution_count": 14,
   "metadata": {},
   "outputs": [
    {
     "name": "stdout",
     "output_type": "stream",
     "text": [
      "correct: 677/1146 = 0.5907504363001745\n"
     ]
    }
   ],
   "source": [
    "calculate_accuracy(\"test_logprobs_ada.json\")"
   ]
  },
  {
   "cell_type": "code",
   "execution_count": 68,
   "metadata": {},
   "outputs": [
    {
     "name": "stdout",
     "output_type": "stream",
     "text": [
      "correct: 721/1146 = 0.6291448516579407\n"
     ]
    }
   ],
   "source": [
    "calculate_accuracy(\"test_logprobs_babbage.json\")"
   ]
  },
  {
   "cell_type": "code",
   "execution_count": 15,
   "metadata": {},
   "outputs": [
    {
     "name": "stdout",
     "output_type": "stream",
     "text": [
      "correct: 749/1146 = 0.6535776614310645\n"
     ]
    }
   ],
   "source": [
    "calculate_accuracy(\"test_logprobs_curie.json\")"
   ]
  },
  {
   "cell_type": "code",
   "execution_count": 71,
   "metadata": {},
   "outputs": [
    {
     "name": "stdout",
     "output_type": "stream",
     "text": [
      "correct: 784/1146 = 0.6841186736474695\n"
     ]
    }
   ],
   "source": [
    "calculate_accuracy(\"test_logprobs_davinci.json\")"
   ]
  },
  {
   "cell_type": "code",
   "execution_count": 46,
   "metadata": {},
   "outputs": [
    {
     "name": "stdout",
     "output_type": "stream",
     "text": [
      "correct: 689/1146 = 0.6012216404886562\n"
     ]
    }
   ],
   "source": [
    "calculate_accuracy(\"test_logprobs_ada That is to say,.json\")"
   ]
  },
  {
   "cell_type": "code",
   "execution_count": null,
   "metadata": {},
   "outputs": [],
   "source": []
  },
  {
   "cell_type": "markdown",
   "metadata": {},
   "source": [
    "# Few shot performance\n",
    "**Warning: this blows up the budget very fast**"
   ]
  },
  {
   "cell_type": "code",
   "execution_count": 53,
   "metadata": {},
   "outputs": [
    {
     "name": "stderr",
     "output_type": "stream",
     "text": [
      "100%|██████████| 1146/1146 [00:00<00:00, 15948.51it/s]\n"
     ]
    }
   ],
   "source": [
    "sep = ' ' # ' -> '\n",
    "prompt_bank = []\n",
    "\n",
    "for i, line in tqdm(df.iterrows(), total=df.shape[0]):\n",
    "    prompt = proc(line['startphrase']) + sep\n",
    "    completion = proc(line[f'ending{line[\"labels\"]+1}'])\n",
    "    prompt_bank.append(prompt+completion)\n"
   ]
  },
  {
   "cell_type": "code",
   "execution_count": 54,
   "metadata": {},
   "outputs": [
    {
     "data": {
      "text/plain": [
       "['The girl was as down-to-earth as a Michelin-starred canape. The girl was not down-to-earth at all.',\n",
       " 'The girl was as down-to-earth as eggs and potatoes. The girl was very down-to-earth.',\n",
       " \"The girl's room was as messy as pig slops. The girl's room was a total mess.\",\n",
       " \"The girl's room was as messy as a housekeeper. The girl's room was very clean.\",\n",
       " 'The view as as clear as day. The view was very clear.',\n",
       " 'The view as as clear as mud. The view as obstructed and not clear.',\n",
       " 'World peace is a perfect snowflake that melts before it reaches you. World peace is an unattainable ideal.',\n",
       " 'World peace is a family dinner where no one fights. World peace is a good, if unexpected, thing.',\n",
       " 'Her greeting had the warmth of a cozy wood burning fire. Her greeting was affectionate and genuine.',\n",
       " 'Her greeting had the warmth of a snuffed out candle. Her greeting was indifferent and fake.',\n",
       " 'The test was like a litigation. The test was hard.',\n",
       " 'The test was like a preschool lesson. The test was easy.',\n",
       " 'The view was a sparkly diamond. The view was beautiful.',\n",
       " \"The view was an witch's wart. The view was ugly.\",\n",
       " \"He's as rich as MC Hammer in the '80s. He has a lot of money.\",\n",
       " \"He's as rich as MC Hammer in the '90s. He does not have a lot of money.\",\n",
       " 'The conversation has me sweating like a snowman in the summer. The conversation is intense.',\n",
       " 'The conversation has me feeling like I just ate the whole Thanksgiving turkey. The conversation is boring.',\n",
       " \"The football player's effort was a hurricane. The football player put forth a ton of effort.\",\n",
       " \"The football player's effort was a tortoise. The football player put forth no effort.\",\n",
       " 'The cat was as healthy as a newborn. The cat was in good shape.',\n",
       " 'The cat was as healthy as a cancer patient. The cat was in bad shape.',\n",
       " 'Her waist has the width of a toothpick. Her waist is really skinny.',\n",
       " 'Her waist has the width of a blimp. Her waist is really wide.',\n",
       " 'The soccer player passed the ball to his teammate like a magician pulling a rabbit out of a hat. The pass was surprising.',\n",
       " 'The soccer player passed the ball to his teammate like the bullet train in Japan. The pass was very fast and direct.',\n",
       " \"The girl's dress pattern was as uniform as a potluck. The girl's dress pattern was highly varied.\",\n",
       " \"The girl's dress pattern was as uniform as a checkerboard. The girl's dress pattern was highly uniform.\",\n",
       " 'The illusion has the convincibility of walking into a house and not seeing a ghost. The illusion is quite convincing.',\n",
       " 'The illusion has the convincibility of a flat earth conspiracy. The illusion is not convincing at all.',\n",
       " 'The dog has the snores of a beluga whale after eating two dozen Thanksgiving dinners. The dog snores loudly.',\n",
       " 'The dog has the snores of a mouse hiding from a house cat. The dog hardly makes a sound.',\n",
       " 'He has the attitude of the Grinch at Christmas. He has a bad attitude.',\n",
       " \"He has the attitude of the Grinch at Halloween. He's got a good attitude.\",\n",
       " 'The podcast had the speed of A clogged drain. It was slow.',\n",
       " 'The podcast had the speed of A bullet. It was fast.',\n",
       " 'The groom was feeling like a pig in mud. The groom was happy.',\n",
       " 'The groom was feeling like a raindrop on a grave. The groom was sad.',\n",
       " 'When the morning is tough put a smile on your face and move on. Do not let one bad thing ruin your whole day.',\n",
       " 'When the morning is tough sip your hot coffee and watch the news. Look at the world others are having a much rougher day.',\n",
       " \"The butler's posture was that of a weeping willow. The butler had poor posture.\",\n",
       " \"The butler's posture was that of a tall cypress. The butler had good posture.\",\n",
       " 'The music was as loud as a firetruck. The music was loud.',\n",
       " 'The music was as loud as a bumblebee. The music was quiet and soft.',\n",
       " 'The city was as big as a continent. The city was very big.',\n",
       " 'The city was as big as a island. The city was very small.',\n",
       " 'The dog barked like a alarm. The dog barked loudly.',\n",
       " 'The dog barked like a cricket. The dog barked quietly.',\n",
       " 'The pills have the chalkiness of a sidewalk a dozen kids have drawn on. The pills are very chalky.',\n",
       " \"The pills have the chalkiness of a warm cup of milk. The pills aren't at all chalky.\",\n",
       " 'The jumper leaped as high as a grasshopper. The jumper jumped high.',\n",
       " \"The jumper leaped as high as a turtle. The jumper didn't jump high.\",\n",
       " 'The movie was as scary as a monster. The movie was scary.',\n",
       " 'The movie was as scary as a lamb. The movie was not scary.',\n",
       " 'The problem was small as a pea. The problem was small.',\n",
       " 'The problem was small as an elephant. The problem was big.',\n",
       " \"Love is an economic exchange. It's purely finance.\",\n",
       " \"Love is a heaven sent journey. It's god like.\",\n",
       " 'Life is a classroom. It is a learning experience.',\n",
       " \"Life is a God's will. It is predisposed.\",\n",
       " \"The girl has the gracefulness of a military platoon. The girl doesn't have any grace.\",\n",
       " 'The girl has the gracefulness of butterfly. The girl is very graceful.',\n",
       " 'The boy had the courage of a tiger. The boy is brave.',\n",
       " 'The boy had the courage of a guinea pig. The boy is not brave.',\n",
       " 'Her eyes were cold rain down your collar. Her eyes made him feel uncomfortable.',\n",
       " 'Her eyes were warm soup on a winter day. Her eyes were comforting.',\n",
       " 'The gambling at the casino had all the excitement of Watching paint dry. The gambling at the casino was boring.',\n",
       " 'The gambling at the casino had all the excitement of A fast-paced football game. The gambling was exciting and entertaining.',\n",
       " 'That boy has the sense of a rock. The boy is stupid.',\n",
       " 'That boy has the sense of Einstein. The boy is a genius.',\n",
       " 'She wore the dress like a potato sack. Her dress was not flattering.',\n",
       " 'She wore the dress as if it was made from spun gold. Her dress was beautiful.',\n",
       " 'The girl treats her friends like Prada. The girl treasures her friends.',\n",
       " 'The girl treats her friends like Goodwill finds. The girl treats her friends poorly.',\n",
       " 'His temper was a tempest. He had a terrible temper.',\n",
       " \"His temper was a marshmallow. He didn't really have a temper.\",\n",
       " 'That job was an everyday knife in my eye. The job was terrible.',\n",
       " 'That job was an everyday dance party. The job was fun.',\n",
       " \"The comedian's jokes were about as awful as a winning lotto ticket. The jokes were great.\",\n",
       " \"The comedian's jokes were about as awful as a blown tire. The jokes were bad.\",\n",
       " 'The dress was as pretty as a picture. The dress was good looking.',\n",
       " 'The dress was as pretty as a dead roach. The dress was ugly.',\n",
       " 'His mother gave him the respect of a king. His mothe respected him.',\n",
       " 'His mother gave him the respect of a clown. His mother disrespected him.',\n",
       " 'The bowl was as valuable as silver. The bowl was valuable.',\n",
       " 'The bowl was as valuable as mud. The bowl was worthless.',\n",
       " \"The mother's soup was a grand elixir. The mother's soup was Incredibly good.\",\n",
       " \"The mother's soup was tiger dung. The mother's soup was very nasty.\",\n",
       " 'The bowl is a durable old god. The bowl is very durable.',\n",
       " 'The bowl is a durable baby turtle. The bowl is fragile.',\n",
       " 'She had the anger of a wasp. She was an angry person.',\n",
       " 'She had the anger of a nap. She was an evenhanded person.',\n",
       " 'The list was long like a ribbon. The list was long.',\n",
       " 'The list was long like a pen tip. The list was short.',\n",
       " 'The child has the heart of stone. The child is cold and un-loving.',\n",
       " 'The child has the heart of gold. The child is very loving.',\n",
       " \"The plot of the show is as clear as mud. The plot of the show isn't clear at all.\",\n",
       " 'The plot of the show is as clear as crystal. The plot of the show is very clear.',\n",
       " 'The building was as big as a mountain. The building was big.',\n",
       " 'The building was as big as a molehill. The building was small.',\n",
       " \"That storage closet has the space of a thousand Jupiters. There's a lot of room.\",\n",
       " \"That storage closet has the space of a mousehole filled with rats. There's barely any room at all.\",\n",
       " 'The flea medication is an unplugged coffee maker. The flea medication is ineffective.',\n",
       " 'The flea medication is a fully charged defibrillator. The flea medication is efficacious.',\n",
       " 'Each link was the size of Kansas. Each link was huge.',\n",
       " 'Each link was the size of an ant. Each link was tiny.',\n",
       " 'He writes like Shakespeare. He writes well.',\n",
       " 'He writes like the village idiot. He writes badly.',\n",
       " 'The table had the age of a wooly mammoth. The table was old.',\n",
       " 'The table had the age of a toddler. The table was young.',\n",
       " 'Raising a teenager is playing craps against a table with rigged dice. Raising a teenager is fraught with impossible risks.',\n",
       " \"Raising a teenager is getting a gift you didn't know you wanted. Raising a teenager is a pleasant surprise.\",\n",
       " 'Raising a puppy is a walk through quicksand. Raising a puppy is really tough.',\n",
       " 'Raising a puppy is doing laps in a warm pool. Raising a puppy is pleasant and easy.',\n",
       " 'Owning a cat is an extended visit by a grumpy uncle. Owning a cat is not pleasant.',\n",
       " 'Owning a cat is an extended visit by your favorite aunt. Owning a cat is quite sweet.',\n",
       " \"My professor is a talented anesthesiologist. My professor's lecture is so boring that it puts me to sleep.\",\n",
       " \"My professor is a great story teller. My professor's lecture is so interesting that makes me keep wanting to listen to her.\",\n",
       " 'The hyperlink has the functionality of a brand new car. The hyperlink functions perfectly.',\n",
       " \"The hyperlink has the functionality of an igloo in the desert. The hyperlink doesn't work.\",\n",
       " 'The hospital mattress was a slab of stone. The hospital mattress was very hard.',\n",
       " 'The hospital mattress was a pile of marshmallows. The hospital mattress was very soft.',\n",
       " 'The classroom sounded like a dog pound. The classroom was noisy.',\n",
       " 'The classroom sounded like a garden conservatory. The classroom was quiet.',\n",
       " 'Her dress was the colors of antique book pages. Her dress was dully colored.',\n",
       " 'Her dress was the colors of a neon bar sign. Her dress was brightly colored.',\n",
       " 'The sadness of her death was a planet. The sadness was large.',\n",
       " 'The sadness of her death was a flea. The sadness was small.',\n",
       " 'Comedy is sunshine. Comedy is good.',\n",
       " 'Comedy is a rainstorm. Comedy is bad.',\n",
       " 'The disease has the seriousness of The common cold. The disease is not serious.',\n",
       " 'The disease has the seriousness of A terminal illness. The disease is very serious.',\n",
       " 'He is as energetic as a new battery. He is excited.',\n",
       " 'He is as energetic as a sleeping bunny. He is tired.',\n",
       " 'He is enthusiastic as a kid on the first day of school. He is excited.',\n",
       " 'He is enthusiastic as a sleeping rat. He is tired.',\n",
       " 'Her voice had the melody of a signing lark. Her voice was beautiful.',\n",
       " 'Her voice had the melody of a dying crow. Her voice was ugly.',\n",
       " \"The girl's temperament is a balloon. The girl is easily provoked.\",\n",
       " \"The girl's temperament is the ocean at low tide. The girl has a steady temperament.\",\n",
       " 'The sound of her violin is like a dumpster fire. The sound of her violin is terrible.',\n",
       " 'The sound of her violin is like peaches and cream. The sound of her violin is smooth.',\n",
       " 'The car was as fast as a cheetah. The car was fast.',\n",
       " 'The car was as fast as a turtle. The car was slow.',\n",
       " 'The roach was as frantic as a doctor during a code blue . It was going crazy.',\n",
       " 'The roach was as frantic as a sleeping baby. It was calm.',\n",
       " 'The girl lies as much as a presidential candidate. The girl lies all the time.',\n",
       " 'The girl lies as much as Jesus. The girl never lies.',\n",
       " \"The girl's personality is flat soda. The girl has a boring personality.\",\n",
       " \"The girl's personality is prosecco. The girl has a bubbly personality.\",\n",
       " \"The sculpture has the fragility of a cannon made of gladd. It's likely to break.\",\n",
       " \"The sculpture has the fragility of a diamond inside a bigger diamond. It's practically unbreakable.\",\n",
       " 'The football player was a lumberer. The football player was clumsy.',\n",
       " 'The football player was a dancer. The football player was careful.',\n",
       " 'The NHL player was a woodpecker. The NHL player was sloppy.',\n",
       " 'The NHL player was a surgeon. The NHL player was careful.',\n",
       " 'Reading the comic was exciting as an adventure. Reading the comic was very exciting.',\n",
       " 'Reading the comic was exciting as homework. Reading the comic was very boring.',\n",
       " 'He was as energized as a light bulb. He was very energized.',\n",
       " \"He was as energized as a dead battery. He wasn't energized at all.\",\n",
       " 'The contract was as long as the Bible. The contract was very lengthy.',\n",
       " 'The contract was as long as a grocery list. The contract was very short.',\n",
       " 'The musician plays like as good as A gerbil. He plays badly.',\n",
       " 'The musician plays like as good as An olympian. He plays well.',\n",
       " 'The student was as ashamed as a dog that found a bone. He was proud.',\n",
       " 'The student was as ashamed as a stock broker in debt. He was embarrassed.',\n",
       " 'So many responsibilities had Joe about as hungry as a whale. Joe was very hungry because of his responsibilities.',\n",
       " 'So many responsibilities had Joe about as hungry as a grasshopper. Joe was not very hungry because he had so much to do.',\n",
       " 'The family was as rich as a king. The family was very rich.',\n",
       " 'The family was as rich as a pile of dirt. The family was very poor.',\n",
       " 'The spa has the charm of a stink bug. The spa lacks amenities.',\n",
       " 'The spa has the charm of Cary Grant. The spa is enjoyable.',\n",
       " 'The football player has the agility of a solenodon. The football player is a klutz.',\n",
       " 'The football player has the agility of a mountain goat. The football player is lithe.',\n",
       " \"The cake is as moist as a greenhouse in the Amazon. It's very moist.\",\n",
       " \"The cake is as moist as the surface of Mercury. It's incredibly dry.\",\n",
       " 'Winning this video game is as easy as giving candy to a child. Winning this game is so easy.',\n",
       " 'Winning this video game is as easy as jumping from a plane and surviving without a parachute. Winning this game is close to impossible.',\n",
       " 'The government plan is as expensive as a hundred mansions. It is a lot.',\n",
       " 'The government plan is as expensive as penny candy. It is cheap.',\n",
       " 'To defeat the dark lord would be to topple a mountain. Defeating the dark lord would be very difficult.',\n",
       " \"To defeat the dark lord would be to topple a child's blocks. Defeating the dark lord would be very easy.\",\n",
       " 'He dove with all the grace of an Olympic swimmer. He dove well.',\n",
       " 'He dove with all the grace of an anchor. He dove poorly, and sank as he hit the water.',\n",
       " \"The Christmas tree is as bright as a forest fire on a dark night. It's very bright.\",\n",
       " \"The Christmas tree is as bright as nightlight in the middle of the day. It's quite dim.\",\n",
       " 'The weightlifter has the strength of an eyelash. The weightlifter is weak.',\n",
       " 'The weightlifter has the strength of a dung beetle. The weightlifter is powerful.',\n",
       " 'The math test was as straightforward as assembling a PBJ sandwich. The math test was straightforward.',\n",
       " 'The math test was as straightforward as building a rocket ship. The math test was complicated.',\n",
       " 'The clothing has the smell of roses. The clothing smells pleasant.',\n",
       " 'The clothing has the smell of a crowded gym. The clothing smells awful.',\n",
       " 'The pot roast was as tender as a warm doughnut. The pot roast is very tender.',\n",
       " 'The pot roast was as tender as a boulder encased in concrete. The pot roast in not tender at all.',\n",
       " 'It was built like a castle. It was durable.',\n",
       " 'It was built like a paper fort. It was flimsy.',\n",
       " 'He has the belly of a bloated whale carcass. His belly is large.',\n",
       " 'He has the belly of an unblown balloon. He has a tiny belly.',\n",
       " 'The doctor was as gentle as a lamb. He was nice.',\n",
       " 'The doctor was as gentle as a boxer. He was mean.',\n",
       " \"His mind was a Rubik's cube. His thinking is rigid and mathematical.\",\n",
       " 'His mind was a bouncy ball. His thinking is frenetic and open.',\n",
       " 'He awoke from sleeping like a man falling off a cliff. He awoke suddenly.',\n",
       " 'He awoke from sleeping like a man drifting out to sea. He awoke slowly.',\n",
       " 'Her eyes reflected a sparkle a multitude of stars. Her eyes were bright and shiny.',\n",
       " 'Her eyes reflected a sparkle like that of a roach. Her eyes were blank.',\n",
       " 'The man was as dangerous as a loaded gun. The man was deadly.',\n",
       " 'The man was as dangerous as a kitten. The man was totally harmless.',\n",
       " 'The new linebacker is as solid as a brick wall. The linebacker is tough and can hold his ground.',\n",
       " 'The new linebacker is as solid as water. The linebacker is weak and people can run right through him.',\n",
       " 'This man is as brave as a house kitten. The man is timid.',\n",
       " 'This man is as brave as a firefighter. The man is courageous.',\n",
       " 'That light is as bright as the sun. The light is shiny.',\n",
       " 'That light is as bright as midnight. The light is dim.',\n",
       " 'The marriage was a stale piece of bread. The marriage was getting old.',\n",
       " 'The marriage was a shiny ring. The marriage was new.',\n",
       " 'The bath was as hot as an oven. The bath was very hot.',\n",
       " 'The bath was as hot as the ocean. The bath was not hot.',\n",
       " 'The play went over like a charm. The play was good and successful.',\n",
       " 'The play went over like a car crash. The play was terrible.',\n",
       " 'The cougar had the dangerousness of a fire in a fireworks factory. The cougar is quite dangerous.',\n",
       " \"The cougar had the dangerousness of a goldfish in a kiddie pool. The cougar isn't too dangerous.\",\n",
       " 'The cat had the meow of a fully grown bobcat. The cat had a strong meow.',\n",
       " \"The cat had the meow of a sickly dog. The cat's meow was weak.\",\n",
       " 'He had all the style of a runway model. He is very stylish and hip.',\n",
       " \"He had all the style of a secondhand leisure suit. He's very OUT of style.\",\n",
       " 'The poem was as romantic as a love-letter. The poem was very sweet and romantic.',\n",
       " \"The poem was as romantic as divorce papers. The poem wasn't romantic at all.\",\n",
       " 'His style is so solar flare. His style is so hot right now.',\n",
       " 'His style is so rotary phone. His style is so old-fashioned.',\n",
       " 'This football game is like a Rambo movie. This football game is full of action.',\n",
       " 'This football game is like a blue starfish. This football game is moving slowly.',\n",
       " \"The boy's style is as current as a boomer's myspace home page. His style is out of date.\",\n",
       " \"The boy's style is as fresh as the morning's first cup of coffee. His style is up to date.\",\n",
       " 'He feels the love of a policeman to a fresh donut. He feels a lot of love.',\n",
       " 'He feels the love of the devil to everything good. He feels little love.',\n",
       " 'The rat has the speed of a laxative traveling through a stomach. The rat is very fast.',\n",
       " 'The rat has the speed of an upside down giraffe. The rat is very slow.',\n",
       " 'The flowers have the scent of a botanical garden in full bloom. The flowers have a good scent.',\n",
       " 'The flowers have the scent of a garbage fire on a hot summer night. The flowers have an awful scent.',\n",
       " 'Love is snow on a Christmas morning. Love is awesome.',\n",
       " 'Love is rain on your beach vacation. Love is terrible.',\n",
       " 'Her morals were soggy cereal. Her morals were flexible.',\n",
       " 'Her morals were hard candy. Her morals were inflexible.',\n",
       " 'This party has the electricity of a field of solar panels. The party is popping.',\n",
       " 'This party has the electricity of a burned out light bulb. The party is boring.',\n",
       " 'He entered the room with all the subtlety of a mouse. He entered quietly.',\n",
       " 'He entered the room with all the subtlety of an elephant. He entered loudly.',\n",
       " 'In the sunlight, her hair was aflame. Her hair was red.',\n",
       " 'In the sunlight, her hair was woven gold. Her hair was blonde.',\n",
       " 'The cop got the suspect to confess after applying the pressure of an avalanche. The cop used a lot of pressure.',\n",
       " 'The cop got the suspect to confess after applying the pressure of a feather. The cop used little pressure.',\n",
       " 'The singer had the tone of a singing bluebird. The singer sounded good.',\n",
       " 'The singer had the tone of a squawking crow. The singer sounded bad.',\n",
       " 'As poor as a homeless person. You have no money.',\n",
       " 'As poor as a Kardashian. You are rich.',\n",
       " \"The cat's tail moved with the rhythm of a jet propellor. The cat's tail was fast.\",\n",
       " \"The cat's tail moved with the rhythm of wheat swaying in the breeze. The cat's tail was slow.\",\n",
       " 'The sisters were ribbons and bows. The sisters got along together.',\n",
       " 'The sisters were oil and water. The sisters did not mix well with each other.',\n",
       " 'His love was a many forked road. His love was spread to many.',\n",
       " \"His love was as straight as a nun's ruler. His love was straight and true.\",\n",
       " 'My life is a circus and I am the freak show. I am a freak.',\n",
       " 'My life is a circus and I am the ringleader. I control my life.',\n",
       " 'The girl craves as much attention as the red carpet. The girl wants all the attention.',\n",
       " \"The girl craves as much attention as a doe. The girl doesn't want any attention.\",\n",
       " 'The doctor has the warmth of an icicle. The doctor is cold and unfeeling.',\n",
       " 'The doctor has the warmth of a cozy blanket. The doctor is comforting.',\n",
       " 'Her devotion to her family was as strong as an ox. She is strongly devoted to her family.',\n",
       " 'Her devotion to her family was as strong as a kitten. She is only weakly devoted to her family.',\n",
       " 'His skill in writing was as sharp as a knife. Her writing skill is excellent.',\n",
       " 'His skill in writing was as sharp as a spoon. Her writing skill is poor.',\n",
       " 'He had the passion of the sun. He was very passionate.',\n",
       " 'He had the passion of a nap. He was not passionate.',\n",
       " 'The chemicals had the stability of steel. The chemicals were stable.',\n",
       " 'The chemicals had the stability of melted ice cream. The chemicals were highly unstable.',\n",
       " 'The victory was like getting wet in a thunderstorm. The victory was too easy.',\n",
       " 'The victory was like passing calculus class. The victory was very hard-fought.',\n",
       " 'The gun was as powerful as a titan. The gun was powerful.',\n",
       " 'The gun was as powerful as a butterfly. The gun was weak.',\n",
       " 'The boy was as innocent as a dove. The boy was pure.',\n",
       " 'The boy was as innocent as a rabid wold. The boy was evil.',\n",
       " \"The pants were as torn as a drunk's liver. The pants were messed up.\",\n",
       " 'The pants were as torn as a sturdy ship. The pants were well put togther.',\n",
       " 'He is as tall as a tree. He is tall.',\n",
       " 'He is as tall as a dwarf. He is short.',\n",
       " 'That surface is as smooth as silk. That surface is smooth.',\n",
       " 'That surface is as smooth as sandpaper. That surface is rough.',\n",
       " 'That tree is a tall as Push pin. It is short.',\n",
       " 'That tree is a tall as A skyscraper. It is tall.',\n",
       " 'The tactic is as obvious as a kindergarten math problem. The tactic is simple, easy to figure out.',\n",
       " 'The tactic is as complex as Calculus. The tactic is complex and involves many steps.',\n",
       " 'The job is as easy as tying your shoes. The job is quite easy and almost everyone can do it.',\n",
       " 'The job is as easy as learning nuclear fission. The job is difficult.',\n",
       " 'The win was as satisfying as a bowl of chicken soup. The win was perfectly satisfying.',\n",
       " \"The win was as satisfying as a rice cracker. The win wasn't satisfying at all.\",\n",
       " 'The blimp was as light as air. The blimp was very light.',\n",
       " 'The blimp was as light as stone. The blimp was heavy.',\n",
       " 'The picture was as clear as day. The picture was clear.',\n",
       " 'The picture was as clear as muddy water. The picture was hard to see.',\n",
       " 'The book read like a good song. The book was easy to read.',\n",
       " 'The book read like a secret note. The book was hard to read.',\n",
       " \"He is as adorable as a puppy. He's cute.\",\n",
       " \"He is as adorable as a sewer rat. He's ugly.\",\n",
       " 'He is as adventurous as a pioneer. He is exciting.',\n",
       " 'He is as adventurous as a sofa bed. He is boring.',\n",
       " 'This dog is as aggressive as a heavyweight fighter. It is mean.',\n",
       " 'This dog is as aggressive as a cotton ball. It is harmless.',\n",
       " 'He had the dedication of a soldier. He was dedicated.',\n",
       " 'He had the dedication of a underpaid temp. He was undedicated.',\n",
       " 'He has the courage of a lion. He is very courageous and brave.',\n",
       " 'He has the courage of a baby. He is scared.',\n",
       " 'The dancer landed her jump with the grace of a cat. The dancer landed her jump gracefully.',\n",
       " 'The dancer landed her jump with the grace of a seal. The dancer landed her jump with a thud.',\n",
       " \"The teacher's grading policy was as flexible as an Olympic gymnast. The teacher's grading policy was very flexible.\",\n",
       " \"The teacher's grading policy was as flexible as a steel beam. The teacher's grading policy was very rigid.\",\n",
       " 'Dinner smelled like heaven. Dinner smelled good.',\n",
       " 'Dinner smelled like garbage. Dinner smelled bad.',\n",
       " 'The bottle was as rare as a gem. The bottle was rare.',\n",
       " 'The bottle was as rare as dirt. The bottle was common.',\n",
       " \"The toddler's cries were as loud as a fire alarm. The toddler's cries were loud.\",\n",
       " \"The toddler's cries were as loud as a library. The toddler's cries were quiet.\",\n",
       " \"The man has the addiction of an alcoholic who's just discovered beer comes in not just cans but easily concealed bottles. The man's addiction is severe.\",\n",
       " \"The man has the addiction of a desert tortoise allergic to the ocean. The man's addiction isn't very bad.\",\n",
       " 'The camel had the humps of Fergie as she depicts herself in the song \"My Humps\". The camel has big, mighty humps.',\n",
       " \"The camel had the humps of a young girl's chest. The camel is flat and lacks humps.\",\n",
       " \"He was as sturdy as a brick house. He's resiliant, very sturdy.\",\n",
       " \"He was as sturdy as a house of cards. He's not sturdy, in fact he's easily knocked down.\",\n",
       " 'Her hair had the volume of a brass band. Her hair had a lot of volume.',\n",
       " 'Her hair had the volume of a limp rag. Her hair lacked volume.',\n",
       " 'The room is as clean as a hospital. The room is spotless.',\n",
       " 'The room is as clean as a dumpster. The room is filthy.',\n",
       " 'The water is as clear as glass. The water is clean.',\n",
       " 'The water is as clear as coke. The water is dirty.',\n",
       " 'The math test was as simple as boiling pasta. The math test was a cinch.',\n",
       " 'The math test was as simple as cooking a twelve-course Thanksgiving meal. The math test was very difficult.',\n",
       " 'The knife was as sharp as A door knob. The knife is dull.',\n",
       " \"The knife was as sharp as A barber's razor. The knife is sharp.\",\n",
       " 'The bottle was thin like a sheet. The bottle was thin.',\n",
       " \"The bottle was thin like a brick wall. The bottle wasn't thin.\",\n",
       " 'He has the morality of the main character in a superhero film. He is very moral.',\n",
       " 'He has the morality of the snake in the Garden of Eden. He lacks morality.',\n",
       " 'His fear was that of a sailor facing down an angry ocean god. He had a lot of fear.',\n",
       " 'His fear was that of a farm pig facing down a bowl of slop. He has no fear.',\n",
       " 'My coffee is as hot as the center of the earth. The coffee is hot.',\n",
       " 'My coffee is as hot as a warm bath. The coffee is not hot.',\n",
       " 'The song has the melody of angels singing. The song has a beautiful melody.',\n",
       " 'The song has the melody of nails on a chalkboard. The song has a very unpleasant melody and sound.',\n",
       " 'The dog has nerves of steel. The dog is fearless and unbothered.',\n",
       " 'The dog has nerves of glass. The dog is easily upset and scared.',\n",
       " 'The boss was as angry as a charging rhinoceros. The boss was vrey upset.',\n",
       " 'The boss was as angry as a butterfly. The boss was even-tempered.',\n",
       " 'The church has all the visitors of a McDonald’s on a Monday morning. The church has many visitors.',\n",
       " 'The church has all the visitors of a graveyard on the day after Halloween. There’s no one at the church.',\n",
       " 'The canyon has the depth of a mass grave. It’s quite deep.',\n",
       " 'The canyon has the depth of a sandbox. It’s shallow.',\n",
       " 'She sings like a bird. She sings well.',\n",
       " \"She sings like a garbage disposal. She can't sing.\",\n",
       " \"I'm as lively as a three year old before bedtime. I'm excited.\",\n",
       " \"I'm as lively as an old man in the morning. I'm tired.\",\n",
       " 'That rose has the redness of a Paula Red apple. It is very red.',\n",
       " \"That rose has the redness of a Granny Smith apple. It's not at all red.\",\n",
       " 'The man was as handsome as a model. The man was very handsome.',\n",
       " 'The man was as handsome as a toad. The man was ugly.',\n",
       " 'The gem was as bright as the sun. The gem was bright and shiny.',\n",
       " 'The gem was as bright as coal. The gem was dark and dull.',\n",
       " 'The CEO had the integrity of a politician. The CEO is dishonest.',\n",
       " 'The CEO had the integrity of a minister. The CEO is honest.',\n",
       " 'The photography has the attractiveness of a concrete block. The photography is unattractive.',\n",
       " 'The photography has the attractiveness of a golden age Hollywood star. The photography is very attractive.',\n",
       " 'This actor has the dynamism of a parquet floor. This actor is not dynamic.',\n",
       " 'This actor has the dynamism of an electrical substation. This actor is extremely dynamic.',\n",
       " 'The golfer has the accuracy of a rusty compass. The golfer is inaccurate.',\n",
       " \"The golfer has the accuracy of a surgeon's blade. The golfer is highly accurate.\",\n",
       " \"The floor has the sheen of an old man's cracked heels. The floor is dull, not shiny at all.\",\n",
       " \"The floor has the sheen of a show dog's coat. The floor is luxuriously shiny.\",\n",
       " \"Her boyfriend treats her like a wad of chewed gum. Her boyfriend doesn't treat her well.\",\n",
       " 'Her boyfriend treats her like a CEO. Her boyfriend treats her very well.',\n",
       " 'For the nation, their army was a a shield. The army protected the country.',\n",
       " 'For the nation, their army was a a sword. The army harmed other countries.',\n",
       " 'She has the artistry of Picasso. She has impressive artistic skills.',\n",
       " 'She has the artistry of a newborn. She has no artistic skills.',\n",
       " 'The line move as fast as a scared cat. The line moves quickly.',\n",
       " 'The line move as fast as a sloth in a lazy river. The line moves slowly.',\n",
       " 'She is like a fox. She is sneaky.',\n",
       " 'She is like a newborn baby. She is honest.',\n",
       " 'He has the money of Scrooge McDuck married to Mr. Burns. He has a lot of money.',\n",
       " 'He has the money of Mr. Magoo after mistaking a post-it notepad for his wallet. He has almost no money.',\n",
       " 'The cat was as angry as an anthill. The cat was mad.',\n",
       " 'The cat was as angry as a sleeping puppy. The cat was docile.',\n",
       " \"I'm as annoyed as a teacher who caught a spitball. I am irritated.\",\n",
       " \"I'm as annoyed as a secretary on vacation. I am calm.\",\n",
       " \"The choir boy's vocals sounded like honey. The choir boy had good vocals.\",\n",
       " \"The choir boy's vocals sounded like a jackal. The choir boy had poor vocals.\",\n",
       " 'The student was a goldfish. The student was unintelligent.',\n",
       " 'The student was a fox. The student was sly.',\n",
       " 'That dog has the mass of a supermassive black hole. The dog is big.',\n",
       " 'That dog has the mass of a squashed ladybug. The dog is tiny.',\n",
       " 'The TV eats the electricity of an entire city block. It uses a lot of power.',\n",
       " 'The TV eats the electricity of an old wristwatch. It draws very little power.',\n",
       " 'This structure is as permanent as stone. The structure will last.',\n",
       " 'This structure is as permanent as sand. The structure will not last long.',\n",
       " 'The fireworks were as loud as gunshots. The fireworks were loud.',\n",
       " 'The fireworks were as loud as whispers. The fireworks were quiet.',\n",
       " 'He acted with the skill of a surgeon. He was skillful.',\n",
       " 'He acted with the skill of a quack. He was unskilled.',\n",
       " 'His drive home was a party. His drive home was nice.',\n",
       " 'His drive home was a beatdown. His drive home was not nice.',\n",
       " 'The well water has the pristineness of a toilet bowl. The well water is foul.',\n",
       " 'The well water has the pristineness of a snowflake. The well water is pure and drinkable.',\n",
       " 'The soup was as spicy as cinnamon hots. The soup was fiery in flavor.',\n",
       " \"The soup was as spicy as milk. The soup wasn't spicy at all.\",\n",
       " 'JON IS A HAS A MIND LIKE A SIEVE. JON IS A FOOLISH PERSON.',\n",
       " 'JON IS A WALKING ENCYCLOPAEDIA. JON IS A KNOWLEDGEABLE PERSON.',\n",
       " 'To her, facts are like fog. To her, facts are confusing and hard to navigate in.',\n",
       " 'To her, facts are like flagstones. To her, facts are easily see and used to guide.',\n",
       " 'The facts were as clear as crystal. The facts were obvious.',\n",
       " 'The facts were as clear as a murky pond. The facts were obscure.',\n",
       " 'The conductor is a sculptor. The conductor is careful.',\n",
       " 'The conductor is a demolition derby. The conductor is sloppy.',\n",
       " \"The movie has as much mystery as a piece of glass. The movie isn't mysterious at all.\",\n",
       " \"The movie has as much mystery as Cleopatra's tomb. The movie has a lot of mystery to it.\",\n",
       " 'The film was as impressive as the Great Pyramids. The film was very impressive.',\n",
       " \"The film was as impressive as a first grader's handwriting. The film wasn't impressive at all.\",\n",
       " 'The storm was loud as a bomb. The storm was loud.',\n",
       " 'The storm was loud as a whisper. The storm was quiet.',\n",
       " 'Her skin is a colander. Her skin is pockmarked.',\n",
       " 'Her skin is milk. Her skin is smooth.',\n",
       " 'Most Americans are as conscious as A race sprinter. Most Americans are as awake as an adrenaline filled runner.',\n",
       " 'Most Americans are as conscious as An old man napping on his porch. Most Americans are as asleep as old people who are tired frequently.',\n",
       " 'Her skin was a cherry orchard. Her skin was red and splotchy.',\n",
       " 'Her skin was a a carribean beach. Her skin was pale and clean.',\n",
       " \"He has the unconsciousness of an unborn, sleeping baby. He's completely unconscious.\",\n",
       " \"He has the unconsciousness of an owl in the middle of the night after five cups of coffee. He's extremely conscious.\",\n",
       " 'The woman was the size of a dump truck. The woman was fat.',\n",
       " 'The woman was the size of the branches of a whispering willow. The woman was thin.',\n",
       " 'Their love is as deep as deep as the center of the earth. They are madly in love.',\n",
       " \"Their love is as deep as a thimble. They're not in love.\",\n",
       " 'The painter has the touch of a sledgehammer. The painter is forceful.',\n",
       " 'The painter has the touch of a feather. The painter is gentle.',\n",
       " 'The painting is like a Kinkade gallery at the mall. The painting is tacky and commercial.',\n",
       " 'The painting is like a finding $100 on the street. The painting is surprisingly good.',\n",
       " 'The person was cold as A sub zero freezer. The person is very cold.',\n",
       " 'The person was cold as As fish swimming under frozen ice. The person is cold, but used to it and thriving.',\n",
       " 'The painting is as random as a roll of dice. Anything goes; it is haphazard.',\n",
       " 'The painting is as logical as a philosopher. It is well thought out and systematic.',\n",
       " \"She had all the honesty of a corporate lawyer. She wasn't very honest.\",\n",
       " 'She had all the honesty of a sinner at confession. She was very honest.',\n",
       " 'The girl had the speed of a fast-food line worker. The girl is fast.',\n",
       " 'The girl had the speed of a car in traffic. The girl is slow.',\n",
       " 'The child has the energy of a sloth. The child lacks energy.',\n",
       " 'The child has the energy of a cheetah. The child is energetic.',\n",
       " 'His argument is cardboard. His argument is weak.',\n",
       " 'His argument is teflon. His argument is strong.',\n",
       " \"Matt's girlfriend is Quiktrip. Matt's girlfriend is fast.\",\n",
       " \"Matt's girlfriend is the DMV. Matt's girlfriend is slow.\",\n",
       " 'After a workout he had as much energy as Xcel power company. He had a lot of energy.',\n",
       " 'After a workout he had as much energy as A wind up toy car. He had very little energy.',\n",
       " 'His movements were liquid. His movements were graceful and flowed.',\n",
       " 'His movements were sludge. His movements were not graceful.',\n",
       " 'This beach has the serenity of an eighty-year monk. The beach was very serene.',\n",
       " 'This beach has the serenity of a screaming child. The beach was not very serene.',\n",
       " 'He was a d20 that always rolled a \"1.\". He was unlucky.',\n",
       " 'He was a d20 that always rolled a \"nat 20.\". He was lucky.',\n",
       " \"The woman's back is a snake. The woman's back is wavy.\",\n",
       " \"The woman's back is a ruler. The woman's back is straight.\",\n",
       " 'The dirt road is a snake. The dirt road is curvy.',\n",
       " 'The dirt road is measuring tape. The dirt road is straight.',\n",
       " \"The man's toe is a snake. The man's toe is bent.\",\n",
       " \"The man's toe is a ruler. The man's toe is straight.\",\n",
       " 'My mind is a blank slate. My mind is empty.',\n",
       " 'My mind is a beeping phone. My mind is full of thoughts.',\n",
       " 'She is like a snuggly bear. She is comforting.',\n",
       " 'She is like a roaring tiger. She is unapproachable.',\n",
       " 'The wind was like a blast from a rocket. The wind was very strong.',\n",
       " \"The wind was like a baby's whisper. The wind was very soft.\",\n",
       " 'He has all the rationality of the Joker from Batman comics. He lacks rationality.',\n",
       " \"He has all the rationality of Lex Luthor from Superman comics. He's quite rational.\",\n",
       " 'The art has the depth of a puddle. The art is superficial.',\n",
       " 'The art has the depth of the bottom of the sea. The art is profound.',\n",
       " 'His book was as hard to navigate as an Ikea. The book was hard to finish.',\n",
       " 'His book was as hard to navigate as a trip to the corner store. The book was easy to finish.',\n",
       " \"The car's engine runs as smooth as a pig on stilts. The car's engine runs rough.\",\n",
       " \"The car's engine runs as smooth as glass. The car's engine runs smooth.\",\n",
       " 'The wind cooed like a lover. The wind was light.',\n",
       " 'The wind screamed like a banshee. The wind was heavy.',\n",
       " 'The girl is as shallow as a kiddie pool. The girl is really shallow.',\n",
       " 'The girl is as shallow as the Pacific Ocean. The girl has a lot of layers to her.',\n",
       " 'The man was as handsome as a physician in a white coat. The man looked sharp.',\n",
       " 'The man was as handsome as a janitor in scrubs. The man was plain-looking.',\n",
       " \"He's as ready as a steam engine. He's fully ready.\",\n",
       " \"He's as ready as a a rusted wagon. He's not ready at all.\",\n",
       " \"The pool's as shallow as a puddle. The pool is shallow.\",\n",
       " \"The pool's as shallow as a black hole. The pool is very very deep.\",\n",
       " \"He has the physique of a god. He's muscular and strong.\",\n",
       " \"He has the physique of a jellyfish. He's flimsy and weak.\",\n",
       " 'She is as fast as a snail. She is slow.',\n",
       " 'She is as fast as a cheetah. She is speedy.',\n",
       " 'His conversation sounds like a broken record. He is repetitive.',\n",
       " 'His conversation sounds like a profound speaker. He is original.',\n",
       " 'The cat food has the aroma of foot fungus. The cat food smells awful.',\n",
       " 'The cat food has the aroma of Coq Au Vin. The cat food smells delicious.',\n",
       " 'She kept her room as clean as a middle school cafeteria during lunchtime. Her room was very messy.',\n",
       " 'She kept her room as clean as a polished shoe. Her room was very clean.',\n",
       " 'He hustles like rent was due three days ago. He hustles hardcore.',\n",
       " \"He hustles like he's a billionaire's son. He doesn't hustle at all.\",\n",
       " 'The employee was as busy as a CPA during tax season. The employee was frazzled with work.',\n",
       " 'The employee was as busy as a tenured government worker. The employee had nothing to do.',\n",
       " \"We're headed to Mordor. We're headed to danger.\",\n",
       " \"We're headed to the Shire. We're headed to safety.\",\n",
       " 'This horse has the look of a star. The horse is attractive.',\n",
       " 'This horse has the look of a turd. The horse is unattractive.',\n",
       " 'This meat looks like it was prepared by a dog. The food looks terrible.',\n",
       " 'This meat looks like it was prepared by a god. The food looks amazing.',\n",
       " 'The man swinging the hammer has the strength of A three-year-old child. The man is weak.',\n",
       " 'The man swinging the hammer has the strength of A mighty Abrams tank. The man is strong.',\n",
       " 'The painter has the depth of the grand canyon. The painter is deeply talented.',\n",
       " 'The painter has the depth of a pot hole. The painter is untalented.',\n",
       " 'Her love was as valuable as The feseral reserve. He cherished her love.',\n",
       " 'Her love was as valuable as Dime store candy. She was not worth much to him.',\n",
       " 'Her hair was as strong as Her wedding ring. Her hair was strong as metal.',\n",
       " 'Her hair was as strong as A twine rope. Her hair was brittle.',\n",
       " 'The auditorium was as packed as a classroom in July. The auditorium had no people in it.',\n",
       " 'The auditorium was as packed as a football stadium. The auditorium had tons of people in it.',\n",
       " 'His foot is as big as a mountain. He has really big feet.',\n",
       " 'His foot is as big as an ant. He has small feet.',\n",
       " 'His abs were marshmallows. His abs were soft.',\n",
       " 'His abs were a wall. His abs were hard.',\n",
       " 'His bathroom was as clean as a landfill near a nuclear waste site. His bathroom was filthy.',\n",
       " 'His bathroom was as clean as a freshly autoclaved surgical instrument. His bathroom was spotless.',\n",
       " 'The accountant was an Einstein. The accountant was intelligent.',\n",
       " 'The accountant was a pile of rocks. The accountant was stupid.',\n",
       " 'My brain is as clear as a bright desert morning. I can think clearly.',\n",
       " \"My brain is as clear as a foggy London morning. I can't think clearly.\",\n",
       " 'He has all the anger of a volcanic eruption. He has a lot of anger.',\n",
       " 'He has all the anger of cotton candy. He does not have a lot of anger.',\n",
       " 'The worker has the discipline of a wise chess master. The worker had great discipline.',\n",
       " 'The worker has the discipline of a kid who wakes up at 3 a.m. on Christmas morning. The worker has little discipline.',\n",
       " \"My colleague's project looked like the work of a third-grader. My colleague's project is very rudimentary.\",\n",
       " \"My colleague's project looked like the work of Einstein. My colleague's project is very sophisticated.\",\n",
       " 'He worked with the speed of a cheetah chasing down its prey. He worked quickly.',\n",
       " 'He worked with the speed of a tired snail. He worked slowly.',\n",
       " 'The sky is as clear as ink. The sky is dark and cloudy.',\n",
       " 'The sky is as clear as glass. The sky is bright and clear.',\n",
       " 'The concert was like a thousand needles in my eyes. The concert was very unpleasant.',\n",
       " 'The concert was like a massage from a beautiful woman. The concert was quite pleasant.',\n",
       " 'The man was had the strength of a lion. The man was very strong.',\n",
       " 'The man was had the strength of a sparrow. The man was very weak.',\n",
       " 'The play was as good as a Shakespearean tragedy. The play had a depth of meaning, was both poetic and entertaining, and had the quality of something that would last.',\n",
       " \"The play was as good as a elementary class' Thanksgiving play. The play was simplistic and lacked a serious artistic quality.\",\n",
       " 'The album was as successful as a Bob Dylan song. The album was very popular and achieved great success.',\n",
       " 'The album was as successful as a failed American Idol audition. The album was not popular and achieved very little success.',\n",
       " 'The racetrack was as slippery as a ice hockey rink. The track was very slippery.',\n",
       " 'The racetrack was as slippery as carpet. The track was not slippery.',\n",
       " 'The wedding had as much pizzazz as a red carpet rollout. The wedding was very splashy.',\n",
       " \"The wedding had as much pizzazz as a child's birthday party at home. The wedding was very ordinary.\",\n",
       " \"The event was as fancy as the Queen's wedding. The event was very fancy.\",\n",
       " 'The event was as fancy as a backyard barbeque. The event was very down to earth.',\n",
       " 'He floats like a fish. He floats very well.',\n",
       " \"He floats like a stone. He doesn't float at all.\",\n",
       " 'She and dogs go together like peanut butter and chocolate. They go together really well.',\n",
       " \"She and dogs go together like peanut butter and salmon. They don't go together at all.\",\n",
       " 'His life had the richness of an adventurous archeologist uncovering ancient treasures. His life was rich and fulfilling.',\n",
       " 'His life had the richness of a starfish living under a rock. His life was dull.',\n",
       " 'The sweater had the stripes of a zebra in prison. The sweater had many stripes.',\n",
       " 'The sweater had the stripes of a horse wearing a polka dot shirt. The sweater was lacking in stripes.',\n",
       " \"They're as smart as a whip. They are smart.\",\n",
       " \"They're as smart as a box of rocks. They aren't very intelligent.\",\n",
       " 'He was as sharp as a butter knife. He was not very smart.',\n",
       " \"He was as sharp as a cat's claw. He was very smart.\",\n",
       " 'Her voice is a cat scratching a chalkboard. Her voice is terrible.',\n",
       " 'Her voice is music to my ears. Her voice is lovely.',\n",
       " 'Time moves like lightning. Time moves quickly.',\n",
       " 'Time moves like molasses. Time moves slowly.',\n",
       " 'He punched like a truck. He punched hard.',\n",
       " 'He punched like a pillow. He punched softly.',\n",
       " \"She's as attractive as the backside of a wildebeest. She is ugly.\",\n",
       " \"She's as attractive as bacon, steak, beer and football after sleeping in on a Sunday. She is beautiful.\",\n",
       " 'Her house was clean like it had been cleaned by the servants of a violent king. The house was meticulously clean.',\n",
       " \"Her house was clean like it had been cleaned by five blind mice. The house wasn't clean at all.\",\n",
       " \"The girl's career took off as quickly as a wildebeest. The girl's career skyrocketed.\",\n",
       " \"The girl's career took off as quickly as a starfish. The girl's career stagnated.\",\n",
       " \"The girl commanded as much respect as a dunce. The girl didn't command respect.\",\n",
       " 'The girl commanded as much respect as a college professor. The girl was very well-respected.',\n",
       " 'The table is a bed of rocks. The table is bumpy.',\n",
       " 'The table is a piece of glass. The table is smooth.',\n",
       " 'The highway is a snake. The highway is winding.',\n",
       " 'The highway is a ruler. The highway is straight.',\n",
       " 'The car is a dancer. The car is elegant.',\n",
       " 'The car is a lumberjack. The car is clunky.',\n",
       " 'I like this project as much as I like my enemy. The project is unlikeable.',\n",
       " 'I like this project as much as I like my game. The project is likeable.',\n",
       " 'He felt right as rain. He was feeling right.',\n",
       " 'He felt right as acid rain. He was feeling wrong.',\n",
       " 'The hamburger has the weight of a planet. The hamburger is heavy.',\n",
       " 'The hamburger has the weight of a feather. The hamburger is light.',\n",
       " 'The movie has the humor of a funeral. The movie is sad.',\n",
       " 'The movie has the humor of a circus. The movie is funny.',\n",
       " 'The memoir has all the entertainment of sledding down a mountain backwards. The memoir was very entertaining.',\n",
       " 'The memoir has all the entertainment of watching dried paint remain dry. The memoir was boring.',\n",
       " 'The project had the complexity of A two-piece puzzle. The project is very simple.',\n",
       " 'The project had the complexity of A nuclear submarine. The project is very complicated.',\n",
       " 'The game held the excitement of Watching a toilet flush. The game is boring.',\n",
       " 'The game held the excitement of A best-selling thriller. The game is exciting.',\n",
       " 'The preacher had the speaking voice of a pregnant goat. The preacher has an unpleasant voice.',\n",
       " 'The preacher had the speaking voice of a great pipe organ. The preacher has an impressive voice.',\n",
       " 'The food had the smell of a dead fish in the sun. The food had a bad smell.',\n",
       " 'The food had the smell of a sweet perfume. The food had a good smell.',\n",
       " 'She had the intelligence of a thousand monkeys sitting at desks and typing on typewriters. The things she said were noisy and random.',\n",
       " 'She had the intelligence of Garry Kasparov playing a warm up game. The things she said or did were methodical and calculating.',\n",
       " 'The sex was a ressurrection. The sex was fantastic.',\n",
       " 'The sex was a dead-on-arrival. The sex was boring.',\n",
       " 'The businessman was as aggressive in negotiations as a lawyer. The businessman went all out in negotiations.',\n",
       " 'The businessman was as aggressive in negotiations as a secretary. The businessman was a timid negotiator.',\n",
       " 'The movie had the depth of A preschool curriculum. The movie is shallow.',\n",
       " 'The movie had the depth of of a graduate school psychology course. The movie is thought provoking.',\n",
       " 'The movie has the depth of of the roots of an oak tree. The movie is epic.',\n",
       " 'The movie has the depth of the roots of a daisy. The movie lacks plot.',\n",
       " 'Jeremy drank down the ocean. Jeremy could drink a lot.',\n",
       " 'Jeremy drank with the tolerance of a mouse. Jeremy could not drink a lot.',\n",
       " 'That child is a chihuahua. He is small and fearful.',\n",
       " 'That child is a German Shepherd. He is big and brave.',\n",
       " 'The book has the colors of a Fisher-Price kaleidoscope. The book is colorful.',\n",
       " \"The book has the colors of a late '00s first person shooter game. The book is dull and lacks color.\",\n",
       " 'The plane seat area has the leg room of a tricycle. The plane seat area is cramped.',\n",
       " 'The plane seat area has the leg room of a chaise longue. The plane seat area is comfortable.',\n",
       " \"The lawn mower has the power of a fire fly. The lawn mower doesn't work well.\",\n",
       " 'The lawn mower has the power of Edward Scissorhands. The lawn mower cuts efficiently.',\n",
       " 'The pop song was fire. The pop song was upbeat and catchy.',\n",
       " 'The pop song was a slug. The pop song was slow.',\n",
       " 'The school was full of young monkeys. The school was full of energetic children.',\n",
       " 'The school was full of young zombies. The school was full of slow, lethargic children.',\n",
       " 'The writer was about as quiet as a ladybug. The writer is very quiet.',\n",
       " 'The writer was about as quiet as a cricket on a summer night. The writer is noisy.',\n",
       " 'George ran like a bat out of hell. George ran fast.',\n",
       " 'George ran like a snail. George ran slow.',\n",
       " 'The movie has the depth of the brain function of the president of the Flat Earth Society. The movie is boring.',\n",
       " 'The movie has the depth of a conversation between Socrates and Spinoza on one of their better days. The movie is profound.',\n",
       " 'The gymnast was a toad. The gymnast was clumsy.',\n",
       " 'The gymnast was a gazelle. The gymnast was graceful.',\n",
       " 'Her presence at the wedding was as expected as a nudist at a Baptist tent revival. Her presence at the wedding was unexpected.',\n",
       " 'Her presence at the wedding was as expected as drama on the Jerry Springer show. Her presence at the wedding was very expected.',\n",
       " 'This court trial is as fair as playing chess with a robot. The court trial is unfair.',\n",
       " \"This court trial is as fair as lady justice's scales. The court trial is very fair.\",\n",
       " 'His new job is as easy as shooting fish in a barrel. His new job is very easy.',\n",
       " 'His new job is as easy as climbing a cliff with one arm. His new job is very hard.',\n",
       " 'The meal was like a hot bath. The meal was invigorating.',\n",
       " 'The meal was like a horror movie. The recipient dreaded what came next while eating.',\n",
       " \"The high student has as many things on her to-do list as a business executive. The high school student has a to-do list that's packed.\",\n",
       " \"The high student has as many things on her to-do list as a kindergarten student. The high school student doesn't have much on her to-do list.\",\n",
       " 'That judge thinks similar to a mathematical algorithm. The judge is rigorous.',\n",
       " 'That judge thinks similar to a hippie. The judge is relaxed.',\n",
       " \"His new car has as much power as Chernobyl in the 70's. The car has lots of power.\",\n",
       " \"His new car has as much power as Chernobyl today. The car is so low in power it's not working.\",\n",
       " 'The wave has the sound of a million drums. The wave is loud.',\n",
       " 'The wave has the sound of a whisper. The wave is quiet.',\n",
       " 'The car has the speed of a rocket travel as fast as light. The car is fast.',\n",
       " 'The car has the speed of a slug carrying a ton of bricks. The car is slow.',\n",
       " \"To the audience, Sara's speech was bitter tea. To the audience, Sara's speech was hurtful.\",\n",
       " \"To the audience, Sara's speech was warm tea. To the audience, Sara's speech was pleasant.\",\n",
       " 'Legal professions are as appealing as counting sand grains on a beach. Legal professions are tedious.',\n",
       " 'Legal professions are as appealing as discovering new life forms. Legal professions are exciting.',\n",
       " \"She's got the anger of a hive of bees during a bear attack. She's very angry.\",\n",
       " \"She's got the anger of a sleeping little lamb. She's quite calm.\",\n",
       " \"He's got the swimming ability of a pack of dolphins. He can swim well.\",\n",
       " \"He's got the swimming ability of a spider in a bathtub. He isn't good at swimming.\",\n",
       " 'My sister is a Brain. My sister is smart.',\n",
       " 'My sister is a Goldfish. My sister is not smart.',\n",
       " \"It's as wet as the ocean. It's wet.\",\n",
       " \"It's as wet as the desert. It's dry.\",\n",
       " 'The actor has the fame of a Roman emperor. The actor is very well known.',\n",
       " 'The actor has the fame of a box of rocks. The actor is not very well known.',\n",
       " 'Fame is as fleeting as A mosquito life span. Fame expires quickly.',\n",
       " 'Fame is as fleeting as Whales life span. Fame lasts a long time.',\n",
       " 'Ex friends calling you are as transparent as skyscraper glass windows. You can see through old friends contact attempts.',\n",
       " 'Ex friends calling you are as transparent as Molasses. You have no idea why old friends contact you.',\n",
       " \"He's felt that he was on top of the world. He was really happy.\",\n",
       " \"He's felt that he was on top of a garbage pile. He's was sad.\",\n",
       " 'That party lasted as long as a line of coke at a drug rehab. The party lasted a short amount of time.',\n",
       " 'That party lasted as long as a pickle and olive pie at a dessert table. The party lasted a long time.',\n",
       " \"The man's sneeze was as noticeable as a boom box. The man's sneeze was unmistakably noticeable.\",\n",
       " \"The man's sneeze was as noticeable as a whisper. The man's sneeze was undetected.\",\n",
       " \"The sixth grader's homework assignment was as easy as making a sandwich. The sixth grader's homework assignment was a cinch to complete.\",\n",
       " \"The sixth grader's homework assignment was as easy as writing a PhD dissertation. The sixth grader's homework assignment was very difficult to complete.\",\n",
       " 'His anger was as visible as a meteor heading straight for earth. It was very clear that he was angry.',\n",
       " 'His anger was as visible as a piece of thin glass. His anger was very well hidden.',\n",
       " 'The party was as grand as a parade. The party was large and full of excitement.',\n",
       " 'The party was as grand as a book club meeting. The party was uninteresting.',\n",
       " 'The room felt like a cooler. The room was cold.',\n",
       " 'The room felt like a furnace. The room was hot.',\n",
       " 'The girl was as bubbly as champagne. The girl was vivacious.',\n",
       " 'The girl was as bubbly as still water. The girl was bland.',\n",
       " \"The man's personality was as volatile as a charging hippo. The man was often angry.\",\n",
       " \"The man's personality was as volatile as a sloth. The man was laidback.\",\n",
       " 'The chair was a tilt-a-whirl. The chair was unstable.',\n",
       " 'The chair was a foundation. The chair was stable.',\n",
       " 'The book had the depth of a sink. The book was boring.',\n",
       " 'The book had the depth of a skyscraper. The book was profound.',\n",
       " 'He flew like a butterfly. He moved in a light, graceful way.',\n",
       " 'He flew like a stone. He moved in a clumsy, heavy way.',\n",
       " 'His brain was made of long straight highways. He is really efficient and thinks in a straightforward way.',\n",
       " 'His brain was made of curving winding roads leading into dark woods. He tends to get distracted.',\n",
       " 'Jeremy was a warm blanket on a cold day. Jeremy was comforting.',\n",
       " 'Jeremy was a wet blanket on a cold day. Jeremy was not comforting.',\n",
       " 'He had the class of an aristocrat from an old novel. He had a lot class.',\n",
       " 'He had the class of a child at a birthday party at Chuck E. Cheese. He had little class.',\n",
       " \"She was a warm as a mother's hug. She was warm.\",\n",
       " 'She was a warm as a frozen steak. She was cold.',\n",
       " 'It was as melodious a chirping bird. It was melodious.',\n",
       " 'It was as melodious a colicky baby. It was not melodius.',\n",
       " 'The kids have as much energy as Olympic athletes. The kids have tons of energy.',\n",
       " \"The kids have as much energy as hospital patients. The kids don't have any energy at all.\",\n",
       " \"He has the nose of Michaelangelo's David. His nose is good looking.\",\n",
       " 'He has the nose of an elephant with a sinus infection. His nose looks ugly.',\n",
       " 'The game has all the challenge of learning to walk again after breaking both legs. The game is fairly challenging.',\n",
       " 'The game has all the challenge of walking to the bathroom first thing in the morning. The game lacks challenge.',\n",
       " 'The book has the depth of a kiddie pool. The book is boring.',\n",
       " 'The book has the depth of the mariana trench. The book is profound.',\n",
       " 'He had the wisdom of Solomon. He was wise.',\n",
       " 'He had the wisdom of a turnip. He was ignorant.',\n",
       " 'The word meaning was as clear as Aquafina. The meaning was clear.',\n",
       " 'The word meaning was as clear as Molasses. The meaning was murky.',\n",
       " 'The car was as shiny as A freshly cleaned mirror. The car had a lot of shine.',\n",
       " 'The car was as shiny as Concrete. The car was dull.',\n",
       " 'The cake is a wet sponge. The cake is moist.',\n",
       " 'The cake is sawdust. The cake is dry.',\n",
       " 'His father was a pillar. His father was really reliable.',\n",
       " 'His father was a jenga tower. His father was not reliable.',\n",
       " 'The boy is a lumberjack. The boy is clumsy.',\n",
       " 'The boy is a ballerina. The boy is graceful.',\n",
       " 'The tea had the warmth of a blanket. The tea was warm.',\n",
       " 'The tea had the warmth of an igloo. The tea was cold.',\n",
       " 'The tea was as dark as the night. The tea was strong.',\n",
       " 'The tea was as sweet as pie. The tea was pleasant to drink.',\n",
       " 'She was sleepy like a baby. She was sleepy.',\n",
       " 'She was sleepy like a speed addict. She was not sleepy.',\n",
       " 'This guy has the charisma of a ball of clay. This guy is bland and boring, with no appeal.',\n",
       " 'This guy has the charisma of a Greek god. This guy is incredibly appealing to the point of being legendary.',\n",
       " 'The ball is a rubber band. The ball is bouncy.',\n",
       " 'The ball is a worn out waistband. The ball is not bouncy.',\n",
       " 'The ball is a spring. The ball is bouncy.',\n",
       " 'The ball is a rock. The ball is not bouncy.',\n",
       " 'The cat is a lion. The cat is aggressive.',\n",
       " 'The cat is a mouse. The cat is meek.',\n",
       " \"He's talks like a machine gun. He talks really fast.\",\n",
       " \"He's talks like a a hungover DMV employee. He talks really slowly.\",\n",
       " 'My house is as loud as an airport. My house is loud.',\n",
       " 'My house is as loud as a cemetery. My house is quiet.',\n",
       " \"The razor has the cutting power of a cartoon cat's claws. The razor cuts well.\",\n",
       " 'The razor has the cutting power of a declawed kitten. The razor can barely cut at all.',\n",
       " 'The lion has the pouncing power of a thousand smaller cats combined. The lion has a lot of pouncing ability.',\n",
       " 'The lion has the pouncing power of a dog with no legs. The lion cannot pounce.',\n",
       " 'The ball is a big red sun. The ball is large and red.',\n",
       " 'The ball is a pea. The ball is small.',\n",
       " 'The giraffe was as tall as the Sears Tower. The giraffe was tall.',\n",
       " 'The giraffe was as tall as a shoe. The giraffe was short.',\n",
       " 'The boy is as daring as a fawn. The boy is timid.',\n",
       " 'The boy is as daring as a roaring lion. The boy is fearless.',\n",
       " 'She has the personality an A fannypack. She is boring and lame.',\n",
       " 'She has the personality an A discoball. She is colorful and fun.',\n",
       " 'The man was as skinny as a broom. The man was skinny.',\n",
       " 'The man was as skinny as a sumo wrestler. The man was fat.',\n",
       " 'My friend is as loyal as a pack of hyenas. My friend is a backtabber.',\n",
       " \"My friend is as loyal as man's best friend. My friend would take a secret to the grave.\",\n",
       " 'The professor has the IQ of a virus. The professor is stupid.',\n",
       " 'The professor has the IQ of Einstein. The professor is intelligent.',\n",
       " 'The car ride was as smooth as paper. The car ride went very smoothly.',\n",
       " \"The car ride was as smooth as an alligator's skin. The car ride was very bumpy.\",\n",
       " 'Jane was a friend as good as The smell of fresh bread. Jane was a comforting friend.',\n",
       " 'Jane was a friend as good as The smell of stale cigarette smoke. Jane was stagnant as a friend.',\n",
       " \"The architect's building design was as inspiring as a Soviet apartment block. The architect's building design was unoriginal.\",\n",
       " \"The architect's building design was as inspiring as the Taj Mahal. The architect's building design was a masterpiece.\",\n",
       " 'I was as hungry as a man who just returned from a prison camp. I was famished.',\n",
       " 'I was as hungry as a man after Thanksgiving dinner. I was full.',\n",
       " 'The light on the tree were as bright as a searchlight. The light was bright.',\n",
       " 'The light on the tree were as bright as a cave. The light was dark.',\n",
       " 'The girl is as reliable as an SUV. The girl can definitely be relied upon.',\n",
       " \"The girl is as reliable as a smoke detector without batteries. The girl isn't reliable at all.\",\n",
       " \"He produces like a one-man factory. He's very productive.\",\n",
       " \"He produces like a sloth. He's not productive at all.\",\n",
       " 'The tap dancer was an elephant. The tap dancer was clumsy.',\n",
       " 'The tap dancer was a gazelle. The tap dancer was graceful.',\n",
       " 'The movie has the excitement of outrunning a giant, flaming boulder. The movie is very exciting.',\n",
       " 'The movie has the excitement of visiting a budget petting zoo. The movie is pretty dull.',\n",
       " 'The blanker provides the warmth of a thousand suns. The blanket provides a lot of warmth.',\n",
       " 'The blanker provides the warmth of an open refrigerator. The blanket provides little warmth.',\n",
       " 'School is a circus. School is rowdy and entertaining.',\n",
       " 'School is a prison. School is full of restraint.',\n",
       " \"The girl's facial expression was as clear as pea soup. The girl's facial expression was somewhat murky.\",\n",
       " \"The girl's facial expression was as clear as a windowpane. The girl's facial expression was obvious.\",\n",
       " 'The book plot was as straightforward as a Y-axis. The book plot was very straightforward.',\n",
       " 'The book plot was as straightforward as uncombed hair. The book plot was very twisted.',\n",
       " 'The gambler had the luck of a leprechaun covered in four-leaf clovers. The gambler was lucky.',\n",
       " 'The gambler had the luck of a black cat walking under a ladder. The gambler was unlucky.',\n",
       " \"The lion has the roar of a man with a stubbed toe. The lion's roar is loud.\",\n",
       " \"The lion has the roar of mosquito flying down a busy street. The lion's roar is bately audible.\",\n",
       " 'The washing machine has the cleaning ability of a fully rested man with OCD in a dirty room. The washing machine cleans very well.',\n",
       " 'The washing machine has the cleaning ability of a college kid with a hangover. The washing machine leaves behind a lot of filth.',\n",
       " 'Love is a dumpster fire. Love is trash.',\n",
       " \"Love is an angel's voice. Love is beautiful.\",\n",
       " 'The woman is a toad. The woman is ugly.',\n",
       " 'The woman is a deer. The woman is beautiful.',\n",
       " \"The office environment was as sterile as a dental hygienist's equipment. The office environment was totally dull.\",\n",
       " \"The office environment was as sterile as a rock band's garage. The office environment was full of life.\",\n",
       " \"She swam like a cat. She didn't swim well.\",\n",
       " 'She swam like a dolphin. She swam very well.',\n",
       " 'He was as smooth as butter. He was very smooth.',\n",
       " \"He was as smooth as a rocky road. He wasn't smooth at all.\",\n",
       " 'The gossip was as juicy as A peach. The gossip was entertaining.',\n",
       " 'The gossip was as juicy as a sandbox. The gossip was boring.',\n",
       " 'That cake is as moist as The Sahara desert. The cake is dry.',\n",
       " 'That cake is as moist as H20. The cake is not dry.',\n",
       " 'The ice cream was as tasty as Lint. The ice cream is bland.',\n",
       " 'The ice cream was as tasty as Cheesecake. The ice cream is flavorful.',\n",
       " 'The poem moved along like a Dantean canto. The poem flowed smoothly and was easy to follow along with.',\n",
       " 'The poem moved along like a truck that is breaking down. The poem had a clunky feel to it and was not smooth to follow.',\n",
       " 'The diamond on the engagement ring is the size of a truck. The diamond on the engagement ring is huge.',\n",
       " 'The diamond on the engagement ring is the size of an atom. The diamond on the engagement ring is barely visible.',\n",
       " 'Inflation is as high as the mariana trench. Inflation is very low.',\n",
       " 'Inflation is as high as the clouds. Inflation is very high.',\n",
       " 'The villain is as beautiful as the Joker. The villain is hideous.',\n",
       " 'The villain is as beautiful as an angel in heaven. The villain is gorgeous.',\n",
       " 'This bag has the weight of an elephant. The bag is heavy.',\n",
       " 'This bag has the weight of a feather. The bag is light.',\n",
       " 'The hero was strong like steel. The hero was strong.',\n",
       " 'The hero was strong like a wet noodle. The hero was not strong.',\n",
       " \"The girl's voice was as flat as sparkling water. The girl's voice was very bubbly.\",\n",
       " \"The girl's voice was as flat as tap water. The girl's voice was flat and monotonous.\",\n",
       " \"The book's plot was as twisted as a soft pretzel. The book's plot was all over the place.\",\n",
       " \"The book's plot was as twisted as a parade of soldiers. The book's plot followed a linear fashion.\",\n",
       " 'The new car drives like A powerful steed. The car is fast.',\n",
       " 'The new car drives like a donkey. The car is slow.',\n",
       " \"He's as country as Texas. He's very country.\",\n",
       " \"He's as country as Manhattan. He's not very country at all.\",\n",
       " 'Her eyes were blue as a calm sea. Her eyes were a clear blue.',\n",
       " 'Her eyes were blue as a muddy pond. Her eyes were muddy and brown.',\n",
       " 'The officer has the training of the dog from the Beethoven movies. The officer is well trained.',\n",
       " 'The officer has the training of a newborn goldfish. The officer has little training.',\n",
       " 'He has the villainy of Hitler on methamphetamine. He is quite the villain.',\n",
       " \"He has the villainy of every non-Injustice Superman. He's not very villainous.\",\n",
       " 'The driveway is a bed of rocks. The driveway is bumpy.',\n",
       " 'The driveway is a mirror. The driveway is smooth.',\n",
       " 'The road is thick fudge. The road is muddy.',\n",
       " 'The road is frozen pizza crust. The road is icy.',\n",
       " \"His head was filled with molasses. He wasn't very bright.\",\n",
       " 'His head was filled with lightbulbs. He was very smart and had a lot of good ideas.',\n",
       " 'The toothbrush has the firmness of a steel beam. The toothbrush is very firm.',\n",
       " 'The toothbrush has the firmness of a brown banana. The toothbrush lacks firmness.',\n",
       " 'The director possessed the intelligence of A baby fur seal. The director is stupid.',\n",
       " 'The director possessed the intelligence of A Nobel Prize laureate. The director is intelligent.',\n",
       " 'His attention span is as long as a trip around the globe. He has a really good attention span.',\n",
       " 'His attention span is as long as a hair pin. His attention span is nonexistent.',\n",
       " 'My depression these days is like a distant enemy. The speaker hates their depression but has not had to deal with it in a while.',\n",
       " 'My depression these days is like a close friend. The speaker deals with their depression so constantly that they have grown used to it.',\n",
       " \"It's as loud as a hurricane. It's very loud.\",\n",
       " \"It's as loud as the vacuum of space. It makes no noise at all.\",\n",
       " 'His depression was a gaping hole inside his heart. His depression weighed deeply inside of him and left him feeling alone.',\n",
       " 'His depression lit the room in red warning signs. Everyone in the room was aware of his depression and getting warning signs from it.',\n",
       " \"You're about as skinny as a stick. You are very skinny.\",\n",
       " \"You're about as skinny as a pig. You are fat.\",\n",
       " 'The process has the complexity of A wooden block. The process is simple.',\n",
       " 'The process has the complexity of Intricate clockwork. The process is complex.',\n",
       " \"That guy's voice sounds like a car accident. That guys voice is unpleasant.\",\n",
       " \"That guy's voice sounds like silky pajamas. That guys voice is pleasant.\",\n",
       " 'The night was as rowdy as a strip club. The night was very rowdy.',\n",
       " 'The night was as rowdy as a senior home. The night was very dull.',\n",
       " 'His heart is as light as a feather. He is guilt free and happy.',\n",
       " 'His heart is as hard as a rock. He is cold and heartless.',\n",
       " 'Her sight is as good as an eagle. Her sight is excellent.',\n",
       " 'Her sight is as good as a mole. Her sight is terrible.',\n",
       " 'His life lasted as long as a butterfly. His life lasted only a short amount of time.',\n",
       " 'His life lasted as long as a tortoise. His life lasted a very long time.',\n",
       " 'The sculptor is a surgeon. The sculptor is careful.',\n",
       " 'The sculptor is a lumberjack. The sculptor is sloppy.',\n",
       " 'The security team is effective as fighting a wildfire with a watergun. The security team is useless.',\n",
       " 'The security team is effective as bleach on white shirts. The security team is very effective.',\n",
       " 'The mall was a big as Downtown Chicago. The mall was expansive.',\n",
       " 'The mall was a big as A studio apartment. The mall was cramped.',\n",
       " 'The chocolate cake is as fluffy as cotton candy. The chocolate cake is light.',\n",
       " 'The chocolate cake is as fluffy as a mattress. The chocolate cake is dense.',\n",
       " 'He has the personality of a wet noodle. He has a flat and boring personality.',\n",
       " 'He has the personality of Mr. Rogers. He has a sweet and friendly personality.',\n",
       " \"The movie plot was as intricate as A politician's mind. The movie plot was convoluted.\",\n",
       " \"The movie plot was as intricate as A child's first toy. The movie plot was simple.\",\n",
       " 'This guy has the pleasantness of a puppy. This guy is nice.',\n",
       " 'This guy has the pleasantness of a tiger. This guy is rude.',\n",
       " 'The night sky was as dark as black coffee. The night sky was pitch black.',\n",
       " 'The night sky was as dark as a milky latte. The night sky was very light.',\n",
       " \"My wife's cooking tastes like cardboard. My wife is a terrible cook.\",\n",
       " \"My wife's cooking tastes like heaven. My wife is an excellent cook.\",\n",
       " \"When my sister is working she moves like a ballerina. My sister is very graceful when she's busy working.\",\n",
       " 'When my sister is working she moves like an oaf. My sister is very clumsy and awkward while she works.',\n",
       " 'The party was as fun as paying electricity bills. The party was very boring.',\n",
       " 'The party was as fun as going to Six Flags. The party was really fun.',\n",
       " 'The military is as organized as a chessboard. The military is very organized.',\n",
       " \"The military is as organized as a toddler's bedroom. The military is not organized at all.\",\n",
       " 'Their family is an invading army. Their family is combative.',\n",
       " 'Their family is a peace corps. Their family is helpful.',\n",
       " \"The student's performance was as competitive as a NASCAR driver. The student's performance was great.\",\n",
       " \"The student's performance was as competitive as a sleeping kitten. The student's performance was lackluster.\",\n",
       " 'The girl found herself swimming in a sea of love. The girl found herself overflowing with love.',\n",
       " 'The girl found herself swimming in a sea of ghosts. The girl found herself surrounded by death.',\n",
       " \"I saw him running, he's a cheetah. He runs fast.\",\n",
       " \"I saw him running, he's an elephant. He is a slow runner.\",\n",
       " \"The running dog is A fellow traveler. The running dog is man's best friend.\",\n",
       " 'The running dog is A stranger on the street. The running dog avoids people.',\n",
       " 'This new book is as profound as a Miltonian epic. The book shows psychological depth, lyrical poetry, and appeal of a classic work of literature.',\n",
       " \"This new book is as profound as an English freshman's first essay. The book is simplistic and amateurish.\",\n",
       " 'He had the moral values of a bloodthirsty vampire. He had no moral values.',\n",
       " 'He had the moral values of a crusading paladin. He had a tremendous amount of moral values.',\n",
       " 'The movie has the length of the every DMV line combined. The movie is long.',\n",
       " 'The movie has the length of a gasp. The movie is short.',\n",
       " 'The movie has the charm of a blind date with a wild boar. The movie is not charming.',\n",
       " 'The movie has the charm of a thousand teddy bears. The movie is charming.',\n",
       " \"The girl's life was as dramatic as the ocean at low tide. The girl's life was bland.\",\n",
       " \"The girl's life was as dramatic as Chicago's South Side. The girl's life was full of drama.\",\n",
       " 'George moved like a hound on the hunt. George was very focused.',\n",
       " 'George moved like a chicken with its head cut off. George lacked proper focus in the way he conducted himself.',\n",
       " 'His ideas are the size of Eurasia. His ideas are large.',\n",
       " \"His ideas are the size of an anteater's dinner. His ideas are small.\",\n",
       " 'The board game requires the strategy of a four star general turned CEO. The board game requires a lot of strategy.',\n",
       " 'The board game requires the strategy of an embryo turned newborn. The board game requires almost no strategy.',\n",
       " \"The food has all the flavor of a world clas chef's wildest dreams. The food has a ton of flavor.\",\n",
       " 'The food has all the flavor of dried sugar-free oatmeal. The food is pretty bland.',\n",
       " 'This house is made out of papier-mache. The house is flimsy, and could fall apart easily.',\n",
       " 'This house is made out of diamond. The house is durable and resistent to damage/the elements.',\n",
       " 'The assignment was as clear as chocolate pudding. The assignment was hard to understand.',\n",
       " 'The assignment was as clear as a glass of water. The assignment was easy to understand.',\n",
       " 'My house is a castle. My house is elegant and proud.',\n",
       " 'My house is a dump. My house is a mess.',\n",
       " 'That couch is as soft as a boulder. The couch is hard.',\n",
       " 'That couch is as soft as a pillow. The couch is soft.',\n",
       " 'The man is as sharp as a bowling ball. The man is stupid.',\n",
       " 'The man is as sharp as needle. The man is smart.',\n",
       " 'The car was as fast as a bullet. The car was fast.',\n",
       " 'The car was as fast as molasses. The car was slow.',\n",
       " 'He was as inconspicuous as a fly. He was very inconspicuous.',\n",
       " 'He was as inconspicuous as a peacock. He was highly conspicuous and noticeable.',\n",
       " 'The quarterback put forth the effort of A weak infant. The quarterback did not try hard.',\n",
       " 'The quarterback put forth the effort of An angry bull elephant. The quarterback put forth great effort.',\n",
       " 'The relationship between Democrats and Republicans is as frigid as an Artic swimming pool. Democrats and Republicans do not get along.',\n",
       " 'The relationship between Democrats and Republicans is that over a couple married for 50 years. Democrats and Republicans tolerate each other.',\n",
       " 'This person has the warmth of a desert. The person is kind.',\n",
       " 'This person has the warmth of an icicle. The person is unkind.',\n",
       " 'The song is as deep as A closet. The song is superficial.',\n",
       " 'The song is as deep as the sea. The song is heartfelt.',\n",
       " 'Her voice is as pleasant as a mad cat. Her voice is annoying.',\n",
       " 'Her voice is as pleasant as a lullabye. Her voice is soothing.',\n",
       " \"That person is as useful as a DVD rewinder. The person's presence has no value.\",\n",
       " 'That person is as useful as a multi-tool. The person is quite resourceful and helpful.',\n",
       " 'The tower is as tall as an anthill. The tower is very short.',\n",
       " 'The tower is as tall as Mt Fuji. The tower is extremely tall.',\n",
       " 'The phone is as loud as a whisper. The phone is very quiet.',\n",
       " 'The phone is as loud as a fog horn. The phone is very loud.',\n",
       " 'The boy moves as swiftly as a minnow swimming downstream. The boy moves with great swiftness.',\n",
       " 'The boy moves as swiftly as a boulder. The boy is very slow.',\n",
       " 'The desktop was a dirt road. The desktop was bumpy.',\n",
       " 'The desktop was a sheet of glass. The desktop was smooth.',\n",
       " \"That man's about as deep as a bathtub. That man is not deep at all.\",\n",
       " \"That man's about as deep as the Mediterranean sea. That man is very deep.\",\n",
       " \"Things around here are about as orderly as a kid's birthday party. Things around there are not orderly at all.\",\n",
       " 'Things around here are about as orderly as a gulag. Things around there are extremely orderly.',\n",
       " \"I've got the memory of an elephant. The person has a great memory.\",\n",
       " \"I've got the memory of an amoeba. The person has a really bad memory.\",\n",
       " 'The pillow was as soft as a cloud. The pillow was soft.',\n",
       " 'The pillow was as soft as a cement slab. The pillow was hard.',\n",
       " \"He was as slimy as a snake. He was someone who couldn't be trusted.\",\n",
       " 'He was as slimy as a puppy. He was someone you could trust.',\n",
       " 'He is as mean as Hitler. He is mean.',\n",
       " 'He is as mean as Mother Teresa. He is kind.',\n",
       " 'The girl left a mark as indelible as a Sharpie. The girl left a huge impact.',\n",
       " \"The girl left a mark as indelible as a pencil. The girl's impact was minimal.\",\n",
       " 'That complex was a standing titan. The complex is strong.',\n",
       " 'That complex was a standing Achilles. The complex has a noticeable weak point.',\n",
       " 'The man has the intelligence of a frog. The man is stupid.',\n",
       " 'The man has the intelligence of a brain surgeon. The man is smart.',\n",
       " 'Cats are scratches come to life. Cats are violent.',\n",
       " 'Cats are companionship in animal form. Cats are friendly.',\n",
       " \"The critic's review of the concert rang of A disapproving rant from an angry mother. The critic's review was negative and bad.\",\n",
       " \"The critic's review of the concert rang of The lavish praise given to a king. The critic's review was good and full of praise.\",\n",
       " 'The task group worked at the rate of A drop of frozen molasses. The group worked slowly.',\n",
       " 'The task group worked at the rate of A bolt of greased lightening. The group worked fast.',\n",
       " 'The teacher was as successful in her occupation as a Rockefeller in his business ventures. The teacher was inventive, at the forefront of her occupation, and highly successful.',\n",
       " 'The teacher was as successful in her occupation as a lame-duck President. The teacher was unsuccessful, basically useless in getting anything accomplished.',\n",
       " 'Those two get along like a cold and vitamin-C. They get along really poorly.',\n",
       " 'Those two get along like a cold and a cough. They get along really well.',\n",
       " 'Those individuals are ants in a colony. The individuals are homogenous.',\n",
       " 'Those individuals are a bunch of snowflakes. The individuals are unique.',\n",
       " 'The pudding tastes like Wet Dirt. The pudding is not at all edible.',\n",
       " 'The pudding tastes like A chocolate ocean. The pudding is delicious.',\n",
       " 'The grass was the green of an emerald. The grass was healthy and bright green.',\n",
       " 'The grass was the green of puke. The grass was dying and ugly green.',\n",
       " 'The old man had the health of a young stallion. The man was healthy.',\n",
       " 'The old man had the health of a dead cat. The man was not healthy.',\n",
       " 'The air felt like knives against her skin. The air was so freezing it hurt.',\n",
       " 'The air felt like swimming in a warm pool. The air was hot and humid.',\n",
       " 'She was as sad as a hungry baby. She was sad.',\n",
       " 'She was as sad as a child on Christmas morning. She was happy.',\n",
       " 'The panda has the spots of a kid with chickenpox. The panda is very spotted.',\n",
       " 'The panda has the spots of a rubber duck. The panda lacks spots.',\n",
       " ...]"
      ]
     },
     "execution_count": 54,
     "metadata": {},
     "output_type": "execute_result"
    }
   ],
   "source": [
    "prompt_bank"
   ]
  },
  {
   "cell_type": "code",
   "execution_count": 55,
   "metadata": {},
   "outputs": [
    {
     "name": "stdout",
     "output_type": "stream",
     "text": [
      "Inflation is as high as the mariana trench. Inflation is very low.\n",
      "His skill in writing was as sharp as a spoon. Her writing skill is poor.\n",
      "The hamburger has the weight of a feather. The hamburger is light.\n"
     ]
    }
   ],
   "source": [
    "print('\\n'.join(np.random.choice(prompt_bank, 3).tolist()))"
   ]
  },
  {
   "cell_type": "code",
   "execution_count": 58,
   "metadata": {
    "scrolled": true
   },
   "outputs": [],
   "source": [
    "def gpt3_few_shot(num_shots, model_name, force=False):\n",
    "    assert model_name in ['debug', 'ada', 'babbage', 'curie', 'davinci']\n",
    "    json_lines = {}\n",
    "    scores = []\n",
    "    \n",
    "    if not force:\n",
    "        if model_name != 'debug':\n",
    "            response = input(f\"about the spend $$$ on openai API (model {model_name})! conitnue? [y/n]\")\n",
    "            if response.lower() != 'y':\n",
    "                raise Exception(\"Not continuing.\")\n",
    "        else:\n",
    "            print('just debugging. this is free.')\n",
    "\n",
    "    count = 0\n",
    "    for i, line in tqdm(df.iterrows(), total=df.shape[0]):\n",
    "        start = line['startphrase']\n",
    "        end1 = line['ending1']\n",
    "        end2 = line['ending2']\n",
    "        res_two_endings = []\n",
    "        \n",
    "        if not count % 2:\n",
    "            # only update pre_propmt when i is an even number. \n",
    "            # if i is odd, use the same as the first sentence in the pair\n",
    "            pre_prompt = '\\n'.join(np.random.choice(prompt_bank, num_shots).tolist())\n",
    "        for j, end in enumerate((end1, end2)):\n",
    "            sentence = pre_prompt + '\\n' + proc(start) + sep + proc(end)\n",
    "\n",
    "            if model_name == 'debug':\n",
    "                print(i, '=========')\n",
    "                print(sentence)\n",
    "                if i == 5: break\n",
    "                res = debug_res\n",
    "            else:\n",
    "                completion = openai.Completion.create(engine=model_name, prompt=sentence,\n",
    "                                                          max_tokens=0,\n",
    "                                                          temperature=0.0,\n",
    "                                                          logprobs=0,\n",
    "                                                          echo=True,\n",
    "                                                          n=1)\n",
    "                logprobs = completion['choices'][0]['logprobs']\n",
    "                res = {k: logprobs[k] for k in ('token_logprobs', 'tokens')}\n",
    "            res_two_endings.append(res)\n",
    "        json_lines[f\"{line.get('qid', i)}_{line['labels']}\"] = res_two_endings\n",
    "\n",
    "        if model_name != 'debug':\n",
    "            time.sleep(0.050)  # to prevent RateLimitError\n",
    "        count += 1\n",
    "\n",
    "    fname = f\"{split}_logprobs_{num_shots}shot_{model_name}.json\"\n",
    "    with open(fname, 'w') as f:\n",
    "        f.write('')\n",
    "\n",
    "    with open(fname, 'a') as f:\n",
    "        json.dump(json_lines, f, indent=2)"
   ]
  },
  {
   "cell_type": "code",
   "execution_count": 64,
   "metadata": {},
   "outputs": [
    {
     "name": "stderr",
     "output_type": "stream",
     "text": [
      "  0%|          | 0/1146 [00:00<?, ?it/s]"
     ]
    },
    {
     "name": "stdout",
     "output_type": "stream",
     "text": [
      "ada 5 shot\n"
     ]
    },
    {
     "name": "stderr",
     "output_type": "stream",
     "text": [
      "100%|██████████| 1146/1146 [05:41<00:00,  3.36it/s]\n",
      "  0%|          | 0/1146 [00:00<?, ?it/s]"
     ]
    },
    {
     "name": "stdout",
     "output_type": "stream",
     "text": [
      "ada 10 shot\n"
     ]
    },
    {
     "name": "stderr",
     "output_type": "stream",
     "text": [
      "100%|██████████| 1146/1146 [05:42<00:00,  3.34it/s]\n"
     ]
    }
   ],
   "source": [
    "# num_shots = 5  # 3, 5, 10\n",
    "# model_name = 'debug'\n",
    "\n",
    "for num_shots in (5, 10):\n",
    "    for model_name in ('ada',):\n",
    "        print(model_name, num_shots, \"shot\")\n",
    "        gpt3_few_shot(num_shots, model_name, force=True)"
   ]
  },
  {
   "cell_type": "code",
   "execution_count": 62,
   "metadata": {},
   "outputs": [
    {
     "name": "stdout",
     "output_type": "stream",
     "text": [
      "correct: 648/1146 = 0.5654450261780105\n"
     ]
    }
   ],
   "source": [
    "calculate_accuracy(\"test_logprobs_3shot_ada.json\")"
   ]
  },
  {
   "cell_type": "code",
   "execution_count": 65,
   "metadata": {},
   "outputs": [
    {
     "name": "stdout",
     "output_type": "stream",
     "text": [
      "correct: 638/1146 = 0.5567190226876091\n"
     ]
    }
   ],
   "source": [
    "calculate_accuracy(\"test_logprobs_5shot_ada.json\")"
   ]
  },
  {
   "cell_type": "code",
   "execution_count": 66,
   "metadata": {},
   "outputs": [
    {
     "name": "stdout",
     "output_type": "stream",
     "text": [
      "correct: 653/1146 = 0.5698080279232112\n"
     ]
    }
   ],
   "source": [
    "calculate_accuracy(\"test_logprobs_10shot_ada.json\")"
   ]
  },
  {
   "cell_type": "code",
   "execution_count": 89,
   "metadata": {
    "scrolled": true
   },
   "outputs": [
    {
     "name": "stdout",
     "output_type": "stream",
     "text": [
      "correct: 812/1094 = 0.7422303473491774\n"
     ]
    }
   ],
   "source": [
    "# calculate_accuracy(\"dev_logprobs_3shot_davinci.json\")"
   ]
  },
  {
   "cell_type": "markdown",
   "metadata": {},
   "source": [
    "# get y probabilities\n",
    "probabilities of the each ending on its own"
   ]
  },
  {
   "cell_type": "code",
   "execution_count": 21,
   "metadata": {},
   "outputs": [],
   "source": [
    "def gpt3_y_probs(model_name, split, force=False):\n",
    "    if model_name in ['debug', 'ada', 'babbage', 'curie', 'davinci']:\n",
    "        mode_kwargs = {'engine': model_name}\n",
    "    elif any(model_name.startswith(n) for n in ('ada', 'babbage', 'curie')):\n",
    "        print(\"this is a finetuned model\")\n",
    "        mode_kwargs = {'model': model_name}\n",
    "    else:\n",
    "        raise NotImplementedError\n",
    "    json_lines = {}\n",
    "    scores = []\n",
    "    \n",
    "    if not force:\n",
    "        if model_name != 'debug':\n",
    "            response = input(f\"about the spend $$$ on openai API (model {model_name})! conitnue? [y/n]\")\n",
    "            if response.lower() != 'y':\n",
    "                raise Exception(\"Not continuing.\")\n",
    "        else:\n",
    "            print('just debugging. this is free.')\n",
    "\n",
    "    count = 0\n",
    "    for i, line in tqdm(df.iterrows(), total=df.shape[0]):\n",
    "        if i%2:\n",
    "            # only process even numbered lines\n",
    "            continue \n",
    "    \n",
    "        end1 = line['ending1']\n",
    "        end2 = line['ending2']\n",
    "        res_two_endings = []\n",
    "\n",
    "        for j, ending in enumerate((end1, end2)):\n",
    "            sentence = ending\n",
    "\n",
    "            if model_name == 'debug':\n",
    "                print(i, '=========')\n",
    "                print(sentence)\n",
    "                res = debug_res\n",
    "            else:\n",
    "                completion = openai.Completion.create(**mode_kwargs, prompt=sentence,\n",
    "                                                          max_tokens=0,\n",
    "                                                          temperature=0.0,\n",
    "                                                          logprobs=0,\n",
    "                                                          echo=True,\n",
    "                                                          n=1)\n",
    "                logprobs = completion['choices'][0]['logprobs']\n",
    "                res = {k: logprobs[k] for k in ('token_logprobs', 'tokens')}\n",
    "            res_two_endings.append(res)\n",
    "        json_lines[f\"{line.get('qid', i)}\"] = res_two_endings\n",
    "\n",
    "        if model_name in ['ada', 'babbage']:\n",
    "            time.sleep(0.10)  # to prevent RateLimitError\n",
    "        count += 1\n",
    "\n",
    "    fname = f\"{split}_logprobs_endings_{model_name}.json\"\n",
    "    with open(fname, 'w') as f:\n",
    "        f.write('')\n",
    "\n",
    "    with open(fname, 'a') as f:\n",
    "        json.dump(json_lines, f, indent=2)\n"
   ]
  },
  {
   "cell_type": "code",
   "execution_count": 25,
   "metadata": {},
   "outputs": [
    {
     "name": "stdout",
     "output_type": "stream",
     "text": [
      "split is test\n",
      "this is a finetuned model\n",
      "about the spend $$$ on openai API (model curie:ft-user-6qia53bwp385gfq1da9w5yum-2021-11-28-04-35-14)! conitnue? [y/n]y\n"
     ]
    },
    {
     "name": "stderr",
     "output_type": "stream",
     "text": [
      "100%|██████████| 1146/1146 [03:49<00:00,  4.98it/s]\n"
     ]
    }
   ],
   "source": [
    "# models = ['ada', 'babbage', 'curie', 'davinci']\n",
    "ADA_FINETUNED = 'ada:ft-user-6qia53bwp385gfq1da9w5yum-2021-11-28-03-10-25'\n",
    "BABBAGE_FINETUNED = 'babbage:ft-user-6qia53bwp385gfq1da9w5yum-2021-11-28-04-06-02'\n",
    "CURIE_FINETUNED = 'curie:ft-user-6qia53bwp385gfq1da9w5yum-2021-11-28-04-35-14'\n",
    "models = [ADA_FINETUNED, BABBAGE_FINETUNED, CURIE_FINETUNED]\n",
    "\n",
    "# for m in models:\n",
    "#     print(m)\n",
    "print('split is', split)\n",
    "m = CURIE_FINETUNED\n",
    "gpt3_y_probs(m, split, force=False)"
   ]
  }
 ],
 "metadata": {
  "kernelspec": {
   "display_name": "Python 3",
   "language": "python",
   "name": "python3"
  },
  "language_info": {
   "codemirror_mode": {
    "name": "ipython",
    "version": 3
   },
   "file_extension": ".py",
   "mimetype": "text/x-python",
   "name": "python",
   "nbconvert_exporter": "python",
   "pygments_lexer": "ipython3",
   "version": "3.8.5"
  }
 },
 "nbformat": 4,
 "nbformat_minor": 4
}
